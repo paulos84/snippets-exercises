{
 "cells": [
  {
   "cell_type": "markdown",
   "metadata": {},
   "source": [
    "Metaprogramming refers to a variety of ways a program has knowledge of itself or can manipulate itself. In a nutshell: code that manipulates code. Common examples: \n",
    "• Decorators \n",
    "• Metaclasses \n",
    "• Descriptors \n",
    "\n",
    "**Statements**\n",
    "\n",
    "Perform the actual work of your program. It always execute in two scopes: • globals - module dictionary • locals - enclosing function (if any).\n",
    "\n",
    "**Functions**\n",
    "\n",
    "The fundamental unit of code in most programs: • Module-level functions • Methods of classes. Calling conventions: positional, keywords arguments. Default arguments: set at definition time; only use immutable values. \n",
    "\n",
    "**Closures**\n",
    "\n",
    "You can make and return functions (local variables are captured):"
   ]
  },
  {
   "cell_type": "code",
   "execution_count": 8,
   "metadata": {
    "collapsed": false
   },
   "outputs": [
    {
     "data": {
      "text/plain": [
       "3"
      ]
     },
     "execution_count": 8,
     "metadata": {},
     "output_type": "execute_result"
    }
   ],
   "source": [
    "def make_adder(x, y):\n",
    "    def add():\n",
    "        return x + y\n",
    "    return add\n",
    "\n",
    "a = make_adder(1, 2)\n",
    "a()"
   ]
  },
  {
   "cell_type": "markdown",
   "metadata": {},
   "source": []
  },
  {
   "cell_type": "code",
   "execution_count": 10,
   "metadata": {
    "collapsed": true
   },
   "outputs": [],
   "source": [
    "class Spam:    \n",
    "    a = 1    \n",
    "    \n",
    "    def __init__(self, b):        \n",
    "        self.b = b  \n",
    "        \n",
    "    def imethod(self):        \n",
    "        pass\n",
    "\n",
    "Spam.a    # Class variable           \n",
    "s = Spam(2) \n",
    "s.b    # Instance variable  \n",
    "s.imethod()     # Instance method"
   ]
  },
  {
   "cell_type": "markdown",
   "metadata": {},
   "source": [
    "Almost everything can be customized\n",
    "\n",
    "    class Array:    \n",
    "        def __getitem__(self, index):        \n",
    "        ...\n",
    "        def __setitem__(self, index, value):\n",
    "        ...    \n",
    "        def __delitem__(self, index):        \n",
    "        ...    \n",
    "        def __contains__(self, item):        \n",
    "        ... "
   ]
  },
  {
   "cell_type": "markdown",
   "metadata": {},
   "source": [
    "    class Base:    \n",
    "        def spam(self):        \n",
    "\n",
    "    class Foo(Base):    \n",
    "        def spam(self):        \n",
    "        ...        \n",
    "        # Call method in base class        \n",
    "        r = super().spam()"
   ]
  },
  {
   "cell_type": "code",
   "execution_count": 11,
   "metadata": {
    "collapsed": true
   },
   "outputs": [],
   "source": [
    "class Spam:    \n",
    "    def __init__(self, x, y):        \n",
    "        self.x = x        \n",
    "        self.y = y    \n",
    "        \n",
    "    def foo(self):        \n",
    "        pass\n",
    "    \n",
    "s = Spam(2,3) \n",
    "s.__dict__ \n",
    "Spam.__dict__"
   ]
  },
  {
   "cell_type": "code",
   "execution_count": null,
   "metadata": {
    "collapsed": true
   },
   "outputs": [],
   "source": []
  },
  {
   "cell_type": "code",
   "execution_count": 2,
   "metadata": {
    "collapsed": false
   },
   "outputs": [
    {
     "data": {
      "text/plain": [
       "{'In': ['', 'globals()', 'locals()'],\n",
       " 'Out': {1: {...}},\n",
       " '_': {...},\n",
       " '_1': {...},\n",
       " '__': '',\n",
       " '___': '',\n",
       " '__builtin__': <module 'builtins' (built-in)>,\n",
       " '__builtins__': <module 'builtins' (built-in)>,\n",
       " '__doc__': 'Automatically created module for IPython interactive environment',\n",
       " '__loader__': None,\n",
       " '__name__': '__main__',\n",
       " '__package__': None,\n",
       " '__spec__': None,\n",
       " '_dh': ['C:\\\\Users\\\\Paul\\\\Desktop\\\\old snippets\\\\snippets-exercises'],\n",
       " '_i': 'globals()',\n",
       " '_i1': 'globals()',\n",
       " '_i2': 'locals()',\n",
       " '_ih': ['', 'globals()', 'locals()'],\n",
       " '_ii': '',\n",
       " '_iii': '',\n",
       " '_oh': {1: {...}},\n",
       " '_sh': <module 'IPython.core.shadowns' from 'C:\\\\Users\\\\Paul\\\\Anaconda3\\\\lib\\\\site-packages\\\\IPython\\\\core\\\\shadowns.py'>,\n",
       " 'exit': <IPython.core.autocall.ZMQExitAutocall at 0x22f759ee438>,\n",
       " 'get_ipython': <bound method InteractiveShell.get_ipython of <ipykernel.zmqshell.ZMQInteractiveShell object at 0x0000022F7599D4A8>>,\n",
       " 'quit': <IPython.core.autocall.ZMQExitAutocall at 0x22f759ee438>}"
      ]
     },
     "execution_count": 2,
     "metadata": {},
     "output_type": "execute_result"
    }
   ],
   "source": [
    "locals()"
   ]
  },
  {
   "cell_type": "code",
   "execution_count": null,
   "metadata": {
    "collapsed": true
   },
   "outputs": [],
   "source": []
  }
 ],
 "metadata": {
  "kernelspec": {
   "display_name": "Python [default]",
   "language": "python",
   "name": "python3"
  },
  "language_info": {
   "codemirror_mode": {
    "name": "ipython",
    "version": 3
   },
   "file_extension": ".py",
   "mimetype": "text/x-python",
   "name": "python",
   "nbconvert_exporter": "python",
   "pygments_lexer": "ipython3",
   "version": "3.5.2"
  }
 },
 "nbformat": 4,
 "nbformat_minor": 1
}
