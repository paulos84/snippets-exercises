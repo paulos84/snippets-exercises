{
 "cells": [
  {
   "cell_type": "markdown",
   "metadata": {},
   "source": [
    "Metaprogramming refers to a variety of ways a program has knowledge of itself or can manipulate itself. In a nutshell: code that manipulates code. Common examples: \n",
    "• Decorators \n",
    "• Metaclasses \n",
    "• Descriptors \n",
    "\n",
    "**Statements**\n",
    "\n",
    "Perform the actual work of your program. It always execute in two scopes: • globals - module dictionary • locals - enclosing function (if any).\n",
    "\n",
    "**Functions**\n",
    "\n",
    "The fundamental unit of code in most programs: • Module-level functions • Methods of classes. Calling conventions: positional, keywords arguments. Default arguments: set at definition time; only use immutable values. \n",
    "\n",
    "**Closures**\n",
    "\n",
    "You can make and return functions (local variables are captured):"
   ]
  },
  {
   "cell_type": "code",
   "execution_count": 73,
   "metadata": {
    "collapsed": false
   },
   "outputs": [
    {
     "name": "stdout",
     "output_type": "stream",
     "text": [
      "{'y': 2, 'x': 1}\n"
     ]
    },
    {
     "data": {
      "text/plain": [
       "3"
      ]
     },
     "execution_count": 73,
     "metadata": {},
     "output_type": "execute_result"
    }
   ],
   "source": [
    "def make_adder(x, y):\n",
    "    def add():\n",
    "        print(locals())\n",
    "        return x + y\n",
    "    return add\n",
    "\n",
    "a = make_adder(1, 2)\n",
    "a()"
   ]
  },
  {
   "cell_type": "code",
   "execution_count": 10,
   "metadata": {
    "collapsed": true
   },
   "outputs": [],
   "source": [
    "class Spam:    \n",
    "    a = 1    \n",
    "    \n",
    "    def __init__(self, b):        \n",
    "        self.b = b  \n",
    "        \n",
    "    def imethod(self):        \n",
    "        pass\n",
    "\n",
    "Spam.a    # Class variable           \n",
    "s = Spam(2) \n",
    "s.b    # Instance variable  \n",
    "s.imethod()     # Instance method"
   ]
  },
  {
   "cell_type": "markdown",
   "metadata": {},
   "source": [
    "Almost everything can be customized\n",
    "\n",
    "    class Array:    \n",
    "        def __getitem__(self, index):        \n",
    "        ...\n",
    "        def __setitem__(self, index, value):\n",
    "        ...    \n",
    "        def __delitem__(self, index):        \n",
    "        ...    \n",
    "        def __contains__(self, item):        \n",
    "        ... "
   ]
  },
  {
   "cell_type": "markdown",
   "metadata": {},
   "source": [
    "Inheritance:  \n",
    "  \n",
    "    class Base:    \n",
    "        def spam(self):        \n",
    "\n",
    "    class Foo(Base):    \n",
    "        def spam(self):        \n",
    "        ...        \n",
    "        # Call method in base class        \n",
    "        r = super().spam()"
   ]
  },
  {
   "cell_type": "code",
   "execution_count": 13,
   "metadata": {
    "collapsed": false
   },
   "outputs": [
    {
     "data": {
      "text/plain": [
       "mappingproxy({'__dict__': <attribute '__dict__' of 'Spam' objects>,\n",
       "              '__doc__': None,\n",
       "              '__init__': <function __main__.Spam.__init__>,\n",
       "              '__module__': '__main__',\n",
       "              '__weakref__': <attribute '__weakref__' of 'Spam' objects>,\n",
       "              'foo': <function __main__.Spam.foo>})"
      ]
     },
     "execution_count": 13,
     "metadata": {},
     "output_type": "execute_result"
    }
   ],
   "source": [
    "# Objects are layered on dictionaries\n",
    "\n",
    "class Spam:    \n",
    "    def __init__(self, x, y):        \n",
    "        self.x = x        \n",
    "        self.y = y    \n",
    "        \n",
    "    def foo(self):        \n",
    "        pass\n",
    "    \n",
    "s = Spam(2,3) \n",
    "s.__dict__ \n",
    "Spam.__dict__"
   ]
  },
  {
   "cell_type": "markdown",
   "metadata": {},
   "source": [
    "**Avoiding boilerplate \\__init\\__() methods using inheritance**"
   ]
  },
  {
   "cell_type": "code",
   "execution_count": 2,
   "metadata": {
    "collapsed": true
   },
   "outputs": [],
   "source": [
    "class Stock:    \n",
    "    def __init__(self, name, shares, price):        \n",
    "        self.name = name        \n",
    "        self.shares = shares        \n",
    "        self.price = price \n",
    "\n",
    "class Point:    \n",
    "    def __init__(self, x, y):        \n",
    "        self.x = x        \n",
    "        self.y = y \n",
    "\n",
    "class Host:    \n",
    "    def __init__(self, address, port):        \n",
    "        self.address = address        \n",
    "        self.port = port "
   ]
  },
  {
   "cell_type": "code",
   "execution_count": 26,
   "metadata": {
    "collapsed": false
   },
   "outputs": [
    {
     "data": {
      "text/plain": [
       "123.45"
      ]
     },
     "execution_count": 26,
     "metadata": {},
     "output_type": "execute_result"
    }
   ],
   "source": [
    "class Structure:    \n",
    "    _fields = []    \n",
    "    def __init__(self, *args):        \n",
    "        if len(args) != len(self._fields):            \n",
    "            raise TypeError('Wrong # args')        \n",
    "        for name, val in zip(self._fields, args):            \n",
    "            setattr(self, name, val) \n",
    "        \n",
    "class Stock(Structure):   \n",
    "    _fields = ['name', 'shares', 'price'] \n",
    "        \n",
    "class Point(Structure):    \n",
    "    _fields = ['x', 'y'] \n",
    "    \n",
    "class Host(Structure):    \n",
    "    _fields = ['address', 'port']\n",
    "    \n",
    "s = Stock('ACME', 50, 123.45)\n",
    "s.price"
   ]
  },
  {
   "cell_type": "markdown",
   "metadata": {},
   "source": [
    "**Add calling signature and support for kwargs**"
   ]
  },
  {
   "cell_type": "code",
   "execution_count": 27,
   "metadata": {
    "collapsed": false
   },
   "outputs": [
    {
     "name": "stdout",
     "output_type": "stream",
     "text": [
      "(*args)\n"
     ]
    }
   ],
   "source": [
    "import inspect\n",
    "print(inspect.signature(Stock))"
   ]
  },
  {
   "cell_type": "code",
   "execution_count": 29,
   "metadata": {
    "collapsed": false
   },
   "outputs": [
    {
     "name": "stdout",
     "output_type": "stream",
     "text": [
      "(name, shares, price)\n"
     ]
    }
   ],
   "source": [
    "from inspect import Signature, Parameter\n",
    "\n",
    "def make_signature(names):\n",
    "    return Signature(Parameter(name, Parameter.POSITIONAL_OR_KEYWORD) for name in names)\n",
    "\n",
    "class Structure:    \n",
    "    __signature__ = make_signature([])   \n",
    "    def __init__(self, *args, **kwargs):\n",
    "        bound = self.__signature__.bind(*args, **kwargs)        \n",
    "        for name, val in bound.arguments.items():            \n",
    "            setattr(self, name, val)\n",
    "            \n",
    "class Stock(Structure):   \n",
    "     __signature__ = make_signature(['name', 'shares', 'price'])\n",
    "        \n",
    "print(inspect.signature(Stock))"
   ]
  },
  {
   "cell_type": "code",
   "execution_count": 30,
   "metadata": {
    "collapsed": false
   },
   "outputs": [
    {
     "data": {
      "text/plain": [
       "123.45"
      ]
     },
     "execution_count": 30,
     "metadata": {},
     "output_type": "execute_result"
    }
   ],
   "source": [
    "s = Stock('ACME', 50, 123.45)\n",
    "s.price"
   ]
  },
  {
   "cell_type": "code",
   "execution_count": 31,
   "metadata": {
    "collapsed": false
   },
   "outputs": [
    {
     "data": {
      "text/plain": [
       "'3'"
      ]
     },
     "execution_count": 31,
     "metadata": {},
     "output_type": "execute_result"
    }
   ],
   "source": [
    "def add_signature(*names):    \n",
    "    def decorate(cls):        \n",
    "        cls.__signature__ = make_signature(names)       \n",
    "        return cls    \n",
    "    return decorate \n",
    "\n",
    "@add_signature('x','y') \n",
    "class Point(Structure):    \n",
    "    pass\n",
    "\n",
    "p = Point('2', '3')\n",
    "p.y"
   ]
  },
  {
   "cell_type": "markdown",
   "metadata": {},
   "source": [
    "**Methods**"
   ]
  },
  {
   "cell_type": "code",
   "execution_count": 57,
   "metadata": {
    "collapsed": false
   },
   "outputs": [
    {
     "data": {
      "text/plain": [
       "True"
      ]
     },
     "execution_count": 57,
     "metadata": {},
     "output_type": "execute_result"
    }
   ],
   "source": [
    "class Pizza(object):\n",
    "    def __init__(self, size):\n",
    "        self.size = size\n",
    "    def get_size(self):\n",
    "        return self.size\n",
    "    \n",
    "p = Pizza(42)\n",
    "p_size = p.get_size\n",
    "p is p_size.__self__"
   ]
  },
  {
   "cell_type": "markdown",
   "metadata": {},
   "source": [
    "**Static Methods**\n",
    "\n",
    "    class Pizza:\n",
    "        @staticmethod\n",
    "        def mix_ingredients(x, y):\n",
    "            return x + y\n",
    "\n",
    "        def cook(self):\n",
    "            return self.mix_ingredients(self.cheese, self.vegetables)\n",
    "\n",
    "In such a case, writing mix_ingredients as a non-static method would work too, but it would provide it with a self argument that would not be used. Here, the decorator `@staticmethod` buys us several things:\n",
    "\n",
    "Python doesn't have to instantiate a bound-method for each Pizza object we instantiate. Bound methods are objects too, and creating them has a cost. Having a static method avoids that:\n",
    "\n",
    "    >>> Pizza().cook is Pizza().cook\n",
    "    False\n",
    "    >>> Pizza().mix_ingredients is Pizza().mix_ingredients\n",
    "    True\n",
    "    >>> Pizza.mix_ingredients(2, 3)\n",
    "    5\n",
    "\n",
    "It eases the readability of the code: seeing `@staticmethod`, we know that the method does not depend on the state of the object itself;\n",
    "\n",
    "It allows us to override the mix_ingredients method in a subclass. If we used a function mix_ingredients defined at the top-level of our module, a class inheriting from Pizza wouldn't be able to change the way we mix ingredients for our pizza without overriding cook itself."
   ]
  },
  {
   "cell_type": "markdown",
   "metadata": {},
   "source": [
    "**Class Methods**\n",
    "\n",
    "Class methods are methods that are bound to a class, rather than a class instance."
   ]
  },
  {
   "cell_type": "code",
   "execution_count": 60,
   "metadata": {
    "collapsed": false
   },
   "outputs": [
    {
     "data": {
      "text/plain": [
       "<bound method Pizza.get_radius of <class '__main__.Pizza'>>"
      ]
     },
     "execution_count": 60,
     "metadata": {},
     "output_type": "execute_result"
    }
   ],
   "source": [
    "class Pizza:\n",
    "    radius = 42\n",
    "    @classmethod\n",
    "    def get_radius(cls):\n",
    "        return cls.radius\n",
    "    \n",
    "# the method is bound to its class and its first argument is \n",
    "Pizza.get_radius"
   ]
  },
  {
   "cell_type": "code",
   "execution_count": 62,
   "metadata": {
    "collapsed": false
   },
   "outputs": [
    {
     "data": {
      "text/plain": [
       "<bound method Pizza.get_size of <__main__.Pizza object at 0x000002251B09E908>>"
      ]
     },
     "execution_count": 62,
     "metadata": {},
     "output_type": "execute_result"
    }
   ],
   "source": [
    "p.get_size"
   ]
  },
  {
   "cell_type": "code",
   "execution_count": 63,
   "metadata": {
    "collapsed": false
   },
   "outputs": [
    {
     "data": {
      "text/plain": [
       "42"
      ]
     },
     "execution_count": 63,
     "metadata": {},
     "output_type": "execute_result"
    }
   ],
   "source": [
    "# it takes the class as its first argument (which it uses to return the class-level attribute)\n",
    "Pizza.get_radius()"
   ]
  },
  {
   "cell_type": "markdown",
   "metadata": {},
   "source": [
    "Class methods are useful for the following:\n",
    "\n",
    "Factory methods, that are used to create an instance of a class using e.g. some sort of pre-processing. If we use a `@staticmethod` instead, we would have to hardcode the Pizza class name in our function, making any class inheriting from Pizza unable to use our factory for its own use.\n",
    "\n",
    "    class Pizza(object):\n",
    "        def __init__(self, ingredients):\n",
    "            self.ingredients = ingredients\n",
    "\n",
    "        @classmethod\n",
    "        def from_fridge(cls, fridge):\n",
    "            return cls(fridge.get_cheese() + fridge.get_vegetables())\n"
   ]
  },
  {
   "cell_type": "markdown",
   "metadata": {},
   "source": [
    "Static methods calling static methods: instead of hardcoding the class name in order to call a static method through another static method, call the static method using a class methods. Using this way to declare our method, the Pizza name is never directly referenced and inheritance and method overriding will work flawlessly\n",
    "\n",
    "    class Pizza(object):\n",
    "        def __init__(self, radius, height):\n",
    "            self.radius = radius\n",
    "            self.height = height\n",
    "\n",
    "        @staticmethod\n",
    "        def compute_area(radius):\n",
    "             return math.pi * (radius ** 2)\n",
    "       \n",
    "        # instead of staticmethod which calls Pizza.compute_area\n",
    "        @classmethod\n",
    "        def compute_volume(cls, height, radius):\n",
    "             return height * cls.compute_area(radius)"
   ]
  },
  {
   "cell_type": "markdown",
   "metadata": {},
   "source": [
    "**Class Factories**\n",
    "\n",
    "This concept makes use of the fact that class definitions in Python are first-class objects. Such a function can create or modify a class definition, using the same syntax one would normally use in declaring a class definition. Once again, it is useful to use the model of classes as dictionaries. A basic class factory:"
   ]
  },
  {
   "cell_type": "code",
   "execution_count": 53,
   "metadata": {
    "collapsed": false
   },
   "outputs": [
    {
     "data": {
      "text/plain": [
       "12"
      ]
     },
     "execution_count": 53,
     "metadata": {},
     "output_type": "execute_result"
    }
   ],
   "source": [
    "def StringContainer():\n",
    "    # define a class\n",
    "    class String:\n",
    "        def __init__(self):\n",
    "            self.content_string = \"\"\n",
    "        def length(self):\n",
    "            return len(self.content_string)\n",
    "        # return the class definition\n",
    "    return String\n",
    "\n",
    "# create the class definition\n",
    "container_class = StringContainer()\n",
    "\n",
    "# create an instance of the class\n",
    "wrapped_string = container_class()\n",
    "\n",
    "# take it for a test drive\n",
    "wrapped_string.content_string = 'emu emissary'\n",
    "wrapped_string.length()"
   ]
  },
  {
   "cell_type": "markdown",
   "metadata": {},
   "source": [
    "You can also delete class definitions, but that will not affect instances of the class."
   ]
  },
  {
   "cell_type": "code",
   "execution_count": 54,
   "metadata": {
    "collapsed": false
   },
   "outputs": [
    {
     "data": {
      "text/plain": [
       "6"
      ]
     },
     "execution_count": 54,
     "metadata": {},
     "output_type": "execute_result"
    }
   ],
   "source": [
    "del container_class\n",
    "wrapped_string.content_string = 'foobar'\n",
    "wrapped_string.length()"
   ]
  },
  {
   "cell_type": "markdown",
   "metadata": {},
   "source": [
    "Just like list, int and object, \"type\" is itself a normal Python object, and is itself an instance of a class. In this case, it is in fact an instance of itself."
   ]
  },
  {
   "cell_type": "code",
   "execution_count": 56,
   "metadata": {
    "collapsed": false
   },
   "outputs": [
    {
     "name": "stdout",
     "output_type": "stream",
     "text": [
      "<class 'type'> <class 'type'> <class 'type'>\n"
     ]
    }
   ],
   "source": [
    "print(type(object), type(int), type(type))"
   ]
  },
  {
   "cell_type": "markdown",
   "metadata": {},
   "source": [
    "It can be instantiated to create new class objects similarly to the class factory example above by passing the name of the new class, the base classes to inherit from, and a dictionary defining the namespace to use.\n",
    "\n",
    "    MyClass = type(\"MyClass\", (BaseClass,), {'some_attribute' : 42})"
   ]
  },
  {
   "cell_type": "code",
   "execution_count": 71,
   "metadata": {
    "collapsed": false
   },
   "outputs": [
    {
     "data": {
      "text/plain": [
       "{'p': 3, 'param': 3}"
      ]
     },
     "execution_count": 71,
     "metadata": {},
     "output_type": "execute_result"
    }
   ],
   "source": [
    "# scope\n",
    "def foo(param):\n",
    "    p = param\n",
    "    return locals()\n",
    "foo(3)"
   ]
  }
 ],
 "metadata": {
  "kernelspec": {
   "display_name": "Python [default]",
   "language": "python",
   "name": "python3"
  },
  "language_info": {
   "codemirror_mode": {
    "name": "ipython",
    "version": 3
   },
   "file_extension": ".py",
   "mimetype": "text/x-python",
   "name": "python",
   "nbconvert_exporter": "python",
   "pygments_lexer": "ipython3",
   "version": "3.5.2"
  }
 },
 "nbformat": 4,
 "nbformat_minor": 1
}
