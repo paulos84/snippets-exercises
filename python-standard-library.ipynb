{
 "cells": [
  {
   "cell_type": "code",
   "execution_count": null,
   "metadata": {
    "collapsed": true
   },
   "outputs": [],
   "source": []
  },
  {
   "cell_type": "markdown",
   "metadata": {},
   "source": [
    "Inheriting from **collections.abc** for custom container types\n",
    "\n",
    "*nb see notes on ABCs in concepts_A-L.pynb.* The collections module has some concrete classes that derive from ABCs; these can, of course, be further derived. In addition the collections.abc submodule has some ABCs that can be used to test whether a class or instance provides a particular interface, for example, is it hashable or a mapping.By subclassing built-in types e.g. list you get all the standard functionality and semantics of a list, but you can create custom methods:"
   ]
  },
  {
   "cell_type": "code",
   "execution_count": 21,
   "metadata": {
    "collapsed": false
   },
   "outputs": [
    {
     "data": {
      "text/plain": [
       "{'a': 2, 'b': 1, 'c': 2, 'd': 1}"
      ]
     },
     "execution_count": 21,
     "metadata": {},
     "output_type": "execute_result"
    }
   ],
   "source": [
    "class FreqList(list):\n",
    "    def\t__init__(self, items):\n",
    "        super().__init__(items)\n",
    "        \n",
    "    def frequency(self):\n",
    "        counts = {item: 0 for item in self}\n",
    "        for item in self:\n",
    "            counts[item] += 1\n",
    "        return counts\n",
    "    \n",
    "foo = FreqList(['a', 'b', 'a', 'c', 'd', 'c'])\n",
    "foo.frequency()"
   ]
  },
  {
   "cell_type": "markdown",
   "metadata": {},
   "source": [
    "Suppose you wanted to create an object that provides sequence semantics such as indexing, for which you might provide an implementation of \\__getitem\\__ . This method is called when indexing a list:"
   ]
  },
  {
   "cell_type": "code",
   "execution_count": 22,
   "metadata": {
    "collapsed": false
   },
   "outputs": [
    {
     "data": {
      "text/plain": [
       "1"
      ]
     },
     "execution_count": 22,
     "metadata": {},
     "output_type": "execute_result"
    }
   ],
   "source": [
    "bar = [1, 2, 3]\n",
    "bar[0]\n",
    "# is interpreted as:\n",
    "bar.__getitem__(0)"
   ]
  },
  {
   "cell_type": "markdown",
   "metadata": {},
   "source": [
    "There are a large number of methods required to implement custom container types correctly. You may forget to implement e.g. the count or index methods which would be expected on a sequence like a list or tuple. To avoid this problem, the collections.abc module defines a set of ABCs with all the methods expected for a container type. This ensures your class matches the expected interface and behaviour. For example: "
   ]
  },
  {
   "cell_type": "code",
   "execution_count": 23,
   "metadata": {
    "collapsed": false
   },
   "outputs": [
    {
     "ename": "TypeError",
     "evalue": "Can't instantiate abstract class BadType with abstract methods __getitem__, __len__",
     "output_type": "error",
     "traceback": [
      "\u001b[0;31m---------------------------------------------------------------------------\u001b[0m",
      "\u001b[0;31mTypeError\u001b[0m                                 Traceback (most recent call last)",
      "\u001b[0;32m<ipython-input-23-eb0862503895>\u001b[0m in \u001b[0;36m<module>\u001b[0;34m()\u001b[0m\n\u001b[1;32m      4\u001b[0m     \u001b[1;32mpass\u001b[0m\u001b[1;33m\u001b[0m\u001b[0m\n\u001b[1;32m      5\u001b[0m \u001b[1;33m\u001b[0m\u001b[0m\n\u001b[0;32m----> 6\u001b[0;31m \u001b[0mfoo\u001b[0m \u001b[1;33m=\u001b[0m \u001b[0mBadType\u001b[0m\u001b[1;33m(\u001b[0m\u001b[1;33m)\u001b[0m\u001b[1;33m\u001b[0m\u001b[0m\n\u001b[0m",
      "\u001b[0;31mTypeError\u001b[0m: Can't instantiate abstract class BadType with abstract methods __getitem__, __len__"
     ]
    }
   ],
   "source": [
    "from collections.abc import Sequence\n",
    "\n",
    "class BadType(Sequence):\n",
    "    pass\n",
    "\n",
    "foo = BadType()"
   ]
  },
  {
   "cell_type": "code",
   "execution_count": 12,
   "metadata": {
    "collapsed": false
   },
   "outputs": [
    {
     "name": "stdout",
     "output_type": "stream",
     "text": [
      "defaultdict(<class 'str'>,\n",
      "            {'John': 'Yellow',\n",
      "             'Luke': 'Yellow',\n",
      "             'Mike': 'Green'})\n"
     ]
    }
   ],
   "source": [
    "from collections import defaultdict, Counter, deque, namedtuple\n",
    "from pprint import pprint\n",
    "\n",
    "colors = (('Luke', 'Yellow'), ('Mike', 'Green'),)\n",
    "\n",
    "# can pass in a sequence of tuples as well as a dict\n",
    "fav_colors = defaultdict(str, colors)\n",
    "\n",
    "# no KeyError is raised\n",
    "fav_colors['John'] = 'Yellow'\n",
    "pprint(fav_colors)"
   ]
  },
  {
   "cell_type": "code",
   "execution_count": 15,
   "metadata": {
    "collapsed": false
   },
   "outputs": [
    {
     "name": "stdout",
     "output_type": "stream",
     "text": [
      "{\"colours\": {\"favourite\": \"yellow\"}}\n",
      "defaultdict(<function <lambda> at 0x000001BF6BA4C950>,\n",
      "            {'colours': defaultdict(<function <lambda> at 0x000001BF6BA4C950>,\n",
      "                                    {'favourite': 'yellow'})})\n"
     ]
    }
   ],
   "source": [
    "tree = lambda: defaultdict(tree)\n",
    "some_dict = tree()\n",
    "some_dict['colours']['favourite'] = \"yellow\"\n",
    "# json.dumps returns a JSON string representation of the Python object\n",
    "print(json.dumps(some_dict))\n",
    "pprint(some_dict)"
   ]
  },
  {
   "cell_type": "code",
   "execution_count": 15,
   "metadata": {
    "collapsed": false
   },
   "outputs": [
    {
     "data": {
      "text/plain": [
       "Counter({'a': 2, 'b': 3, 'c': 1})"
      ]
     },
     "execution_count": 15,
     "metadata": {},
     "output_type": "execute_result"
    }
   ],
   "source": [
    "Counter('abcbab') # a dict sub-class "
   ]
  },
  {
   "cell_type": "markdown",
   "metadata": {},
   "source": [
    "**deque** provides a queue allowing you to append and delete elements from either side. Values can be popped from either side and the number of items can be limited so that values may be popped rom either side:"
   ]
  },
  {
   "cell_type": "code",
   "execution_count": 16,
   "metadata": {
    "collapsed": false
   },
   "outputs": [
    {
     "data": {
      "text/plain": [
       "([0, 5], deque([1, 2, 3, 4]))"
      ]
     },
     "execution_count": 16,
     "metadata": {},
     "output_type": "execute_result"
    }
   ],
   "source": [
    "d = deque(range(6))\n",
    "[d.popleft(), d.pop()], d"
   ]
  },
  {
   "cell_type": "code",
   "execution_count": 17,
   "metadata": {
    "collapsed": false
   },
   "outputs": [
    {
     "data": {
      "text/plain": [
       "deque([1, 2, 3, 4, 5])"
      ]
     },
     "execution_count": 17,
     "metadata": {},
     "output_type": "execute_result"
    }
   ],
   "source": [
    "d = deque(range(5), maxlen=5)\n",
    "d.append(5)\n",
    "d"
   ]
  },
  {
   "cell_type": "markdown",
   "metadata": {},
   "source": [
    "**namedtuple** a gives a meaningful name to associate with the object in the tuple instead of only an index value."
   ]
  },
  {
   "cell_type": "code",
   "execution_count": 18,
   "metadata": {
    "collapsed": false
   },
   "outputs": [
    {
     "name": "stdout",
     "output_type": "stream",
     "text": [
      "55 55\n"
     ]
    }
   ],
   "source": [
    "color = (55, 155, 255)\n",
    "Color = namedtuple('Color', ['red', 'green', 'blue'])\n",
    "named_color = Color(*color)\n",
    "print (color[0], named_color.red)"
   ]
  },
  {
   "cell_type": "code",
   "execution_count": null,
   "metadata": {
    "collapsed": true
   },
   "outputs": [],
   "source": []
  },
  {
   "cell_type": "markdown",
   "metadata": {},
   "source": [
    "**Debugging and Profiling**"
   ]
  },
  {
   "cell_type": "markdown",
   "metadata": {},
   "source": [
    "**Timeit**\n",
    "This module provides a simple way to time small bits of Python code. It has both a Command-Line Interface as well as a callable one. For example:\n",
    "\n",
    "$ python3 -m timeit \"'-'.join([str(n) for n in range(100)])\"\n",
    "\n",
    "10000 loops, best of 3: 55.4 usec per loop"
   ]
  },
  {
   "cell_type": "code",
   "execution_count": 1,
   "metadata": {
    "collapsed": false
   },
   "outputs": [
    {
     "name": "stdout",
     "output_type": "stream",
     "text": [
      "4.296773656118973\n"
     ]
    }
   ],
   "source": [
    "def f(x):\n",
    "    return x**2\n",
    "def g(x):\n",
    "    return x**4\n",
    "def h(x):\n",
    "    return x**8\n",
    "\n",
    "import timeit\n",
    "print(timeit.timeit('[func(42) for func in (f,g,h)]', globals=globals()))"
   ]
  },
  {
   "cell_type": "code",
   "execution_count": null,
   "metadata": {
    "collapsed": true
   },
   "outputs": [],
   "source": []
  },
  {
   "cell_type": "markdown",
   "metadata": {},
   "source": [
    "**Development Tools**\n",
    "\n"
   ]
  },
  {
   "cell_type": "markdown",
   "metadata": {},
   "source": [
    "**unittest** \n",
    "\n",
    "The unittest module provides a rich set of tools for constructing and running tests.  It supports test automation, sharing of setup and shutdown code for tests, aggregation of tests into collections, and independence of the tests from the reporting framework. To achieve this, unittest supports some important concepts in an object-oriented way:\n",
    "\n",
    "Test fixture  represents the preparation needed to perform one or more tests, and any associate cleanup actions. This may involve, for example, creating temporary or proxy databases, directories, or starting a server process.\n",
    "test case\n",
    "\n",
    "A test case is the individual unit of testing. It checks for a specific response to a particular set of inputs. Test suite is a collection of test cases, test suites, or both. It is used to aggregate tests that should be executed together. Test runner is a component which orchestrates the execution of tests and provides the outcome to the user.\n",
    "\n",
    "The crux of each test is a call to assertEqual() to check for an expected result; assertTrue() or assertFalse() to verify a condition; or assertRaises() to verify that a specific exception gets raised. These methods are used instead of the assert statement so the test runner can accumulate all test results and produce a report."
   ]
  },
  {
   "cell_type": "code",
   "execution_count": 20,
   "metadata": {
    "collapsed": false
   },
   "outputs": [],
   "source": [
    "import unittest\n",
    "\n",
    "class TestStringMethods(unittest.TestCase):\n",
    "\n",
    "    def test_upper(self):\n",
    "        self.assertEqual('foo'.upper(), 'FOO')\n",
    "\n",
    "    def test_isupper(self):\n",
    "        self.assertTrue('FOO'.isupper())\n",
    "        self.assertFalse('Foo'.isupper())\n",
    "\n",
    "    def test_split(self):\n",
    "        s = 'hello world'\n",
    "        self.assertEqual(s.split(), ['hello', 'world'])\n",
    "        # check that s.split fails when the separator is not a string\n",
    "        with self.assertRaises(TypeError):\n",
    "            s.split(2)\n",
    "\n",
    "if __name__ == '__main__':\n",
    "    unittest.main()"
   ]
  },
  {
   "cell_type": "code",
   "execution_count": null,
   "metadata": {
    "collapsed": true
   },
   "outputs": [],
   "source": [
    "import mymod\n",
    "\n",
    "class MyTestCase(unittest.TestCase):\n",
    "    def test1(self):\n",
    "        self.assertRaises(SomeCoolException, mymod.myfunc)"
   ]
  },
  {
   "cell_type": "code",
   "execution_count": 21,
   "metadata": {
    "collapsed": true
   },
   "outputs": [],
   "source": [
    "def broken_function():\n",
    "    raise Exception('This is broken')\n",
    "\n",
    "class MyTestCase(unittest.TestCase):\n",
    "    def test(self):\n",
    "        with self.assertRaises(Exception) as context:\n",
    "            broken_function()\n",
    "\n",
    "        self.assertTrue('This is broken' in context.exception)"
   ]
  },
  {
   "cell_type": "markdown",
   "metadata": {},
   "source": [
    "Passing the -v option to your test script will instruct unittest.main() to enable a higher level of verbosity. The unittest module can be used from the command line to run tests from modules, classes or even individual test methods.\n",
    "\n",
    "Tests can be skipped (e.g. expected failures) simply by applying the following decorator to individual tests:\n",
    "\n",
    "    @unittest.skip(\"demonstrating skipping\")\n",
    "\n",
    "    @unittest.skipUnless(sys.platform.startswith(\"win\"), \"requires Windows\")\n",
    "\n",
    "Nose and py.test are third-party unittest frameworks with a lighter-weight syntax for writing tests. For example:\n",
    "    \n",
    "    assert func(10) == 42."
   ]
  },
  {
   "cell_type": "markdown",
   "metadata": {},
   "source": [
    "**unittest.mock** \n",
    "\n",
    "patch() acts as a function decorator, class decorator or a context manager. Inside the body of the function or with statement, the target is patched with a new object. When the function/with statement exits the patch is undone.\n",
    "A common use is for mocking return values of a function being called within a function being tested, so that it can be tested in isolation.\n",
    "\n",
    "from unittest.mock import patch\n",
    " \n",
    "\n",
    "class MockingTestTestCase(unittest.TestCase):\n",
    "\n",
    "\n",
    "    @patch('my_app.my_file.function_to_mock')\n",
    "\n",
    "    def test_my_func(self, test_patch):\n",
    "\n",
    "        test_patch.return_value = 'Mocked this'\n",
    "\n",
    "        ...\n",
    "     \n",
    "    @patch('my_app.my_file.function_to_mock', return_value='Mocked this')\n",
    "\n",
    "    def test_my_func_again(self, test_patch):\n",
    "\n",
    "        ...\n",
    " \n",
    "In doing so, the mocked function has been replaced with a Mock object created by applying the decorator. When it is called, a Mock object will return its return_value attribute, which is by default a new Mock object but can easily be assigned with the unit test or by passing it to a Mock class constructor.  \n",
    "\n",
    "The basic principle is that you patch where an object is looked up, not necessarily the same place as where it is defined. An example is in testing a function which uses requests.get() and checking that an Exception is raised for a certain condition. This shows how the patch decorator allows you to perform side effects, including raising an exception when a mock is called:\n",
    "\n",
    "    from requests.exeptions import HTTPException\n",
    "    \n",
    "    @patch('my_app.my_file.requests.get', side_effect=HTTPException)\n",
    "    def test_my_func_raises_HTTPException(self, test_patch):\n",
    "        ...\n",
    "        with self.assertRaises(RequestException):\n",
    "            self.my_func(url)\n",
    "\n",
    "Objects of the Mock class have the attributes 'called' and 'call_count' which give a boolean value of whether or not the mocked object was called and how many times it was called: "
   ]
  },
  {
   "cell_type": "code",
   "execution_count": 6,
   "metadata": {
    "collapsed": false
   },
   "outputs": [
    {
     "name": "stdout",
     "output_type": "stream",
     "text": [
      "False True 2\n"
     ]
    }
   ],
   "source": [
    "from unittest.mock import Mock\n",
    "\n",
    "mock = Mock(return_value=None)\n",
    "a = mock.called\n",
    "mock()\n",
    "mock()\n",
    "b = mock.called\n",
    "c = mock.call_count\n",
    "print(a, b, c)"
   ]
  },
  {
   "cell_type": "code",
   "execution_count": 3,
   "metadata": {
    "collapsed": false
   },
   "outputs": [],
   "source": []
  },
  {
   "cell_type": "code",
   "execution_count": null,
   "metadata": {
    "collapsed": true
   },
   "outputs": [],
   "source": []
  },
  {
   "cell_type": "code",
   "execution_count": null,
   "metadata": {
    "collapsed": true
   },
   "outputs": [],
   "source": []
  },
  {
   "cell_type": "code",
   "execution_count": null,
   "metadata": {
    "collapsed": true
   },
   "outputs": [],
   "source": []
  },
  {
   "cell_type": "markdown",
   "metadata": {},
   "source": [
    "**Functools**\n",
    "\n",
    "**Function caching**\n",
    "\n",
    "Function caching allows us to cache the return values of a function depending on the arguments. It can save time when an I/O bound function is periodically called with the same arguments.The maxsize argument tells lru_cache about how many recent return values to cache:"
   ]
  },
  {
   "cell_type": "code",
   "execution_count": 9,
   "metadata": {
    "collapsed": false
   },
   "outputs": [
    {
     "name": "stdout",
     "output_type": "stream",
     "text": [
      "[0, 1, 1, 2, 3, 5, 8, 13, 21, 34]\n"
     ]
    }
   ],
   "source": [
    "from functools import lru_cache\n",
    "\n",
    "@lru_cache(maxsize=32)\n",
    "def fib(n):\n",
    "    if n < 2:\n",
    "        return n\n",
    "    return fib(n-1) + fib(n-2)\n",
    "\n",
    "print([fib(n) for n in range(10)])\n",
    "# uncache the return values\n",
    "fib.cache_clear()"
   ]
  },
  {
   "cell_type": "code",
   "execution_count": null,
   "metadata": {
    "collapsed": true
   },
   "outputs": [],
   "source": []
  },
  {
   "cell_type": "markdown",
   "metadata": {},
   "source": [
    "The **importlib** package provides an implementation of the built-in import function and allows e.g. a certain module being imported depending on a condition or use the import function in various other contexts within code.\n",
    "\n",
    "    from importlib import import_module\n",
    "    ...\n",
    "    my_module = 'import_this'\n",
    "    try: \n",
    "        import_module('a.b.{}’.format(my_module))\n",
    "    except ImportError: \n",
    "        ... "
   ]
  },
  {
   "cell_type": "code",
   "execution_count": null,
   "metadata": {
    "collapsed": true
   },
   "outputs": [],
   "source": []
  },
  {
   "cell_type": "markdown",
   "metadata": {},
   "source": [
    "**Itertools**\n",
    "\n",
    "**itertools.chain**(\\*iterables) is used for treating consecutive sequences as a single sequence. Equivalent to:"
   ]
  },
  {
   "cell_type": "code",
   "execution_count": 6,
   "metadata": {
    "collapsed": false
   },
   "outputs": [
    {
     "data": {
      "text/plain": [
       "[2, 3, 4, 7, 8, 9]"
      ]
     },
     "execution_count": 6,
     "metadata": {},
     "output_type": "execute_result"
    }
   ],
   "source": [
    "def chain(*iterables):\n",
    "    # chain('ABC', 'DEF') --> A B C D E F\n",
    "    for it in iterables:\n",
    "        for element in it:\n",
    "            yield element\n",
    "            \n",
    "[i + 1 for i in chain([1,2,3], [6,7,8])]"
   ]
  },
  {
   "cell_type": "markdown",
   "metadata": {},
   "source": [
    "**itertools.islice**(iterable, start, stop[, step]) creates an iterator that iterates over an *existing* list, rather than normal slice which holds a copy of the slice in memory. So it avoids havings to use more memory or computation to create the new lists:"
   ]
  },
  {
   "cell_type": "code",
   "execution_count": 8,
   "metadata": {
    "collapsed": false
   },
   "outputs": [
    {
     "data": {
      "text/plain": [
       "<itertools.chain at 0x2189ba84048>"
      ]
     },
     "execution_count": 8,
     "metadata": {},
     "output_type": "execute_result"
    }
   ],
   "source": [
    "import itertools \n",
    "\n",
    "data1 = range(10)\n",
    "\n",
    "# This creates a NEW list\n",
    "data1[2:5]\n",
    "\n",
    "# This creates an iterator that iterates over the EXISTING list\n",
    "itertools.islice(data1, 2, 5)\n",
    "\n",
    "data2 = [1, 2, 3]\n",
    "data3 = [4, 5, 6]\n",
    "\n",
    "# This creates a NEW list\n",
    "data2 + data3\n",
    "\n",
    "# This creates an iterator that iterates over the EXISTING lists\n",
    "itertools.chain(data2, data3)"
   ]
  },
  {
   "cell_type": "code",
   "execution_count": null,
   "metadata": {
    "collapsed": true
   },
   "outputs": [],
   "source": []
  },
  {
   "cell_type": "code",
   "execution_count": null,
   "metadata": {
    "collapsed": true
   },
   "outputs": [],
   "source": []
  }
 ],
 "metadata": {
  "anaconda-cloud": {},
  "kernelspec": {
   "display_name": "Python [conda root]",
   "language": "python",
   "name": "conda-root-py"
  },
  "language_info": {
   "codemirror_mode": {
    "name": "ipython",
    "version": 3
   },
   "file_extension": ".py",
   "mimetype": "text/x-python",
   "name": "python",
   "nbconvert_exporter": "python",
   "pygments_lexer": "ipython3",
   "version": "3.5.2"
  }
 },
 "nbformat": 4,
 "nbformat_minor": 1
}
