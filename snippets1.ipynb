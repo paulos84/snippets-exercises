{
 "cells": [
  {
   "cell_type": "markdown",
   "metadata": {},
   "source": [
    "**Collections**"
   ]
  },
  {
   "cell_type": "code",
   "execution_count": 21,
   "metadata": {
    "collapsed": false
   },
   "outputs": [
    {
     "name": "stdout",
     "output_type": "stream",
     "text": [
      "{\"Paul\": \"Blue\", \"Luke\": \"Red\", \"James\": \"Green\", \"John\": \"Yellow\"}\n"
     ]
    }
   ],
   "source": [
    "from collections import defaultdict\n",
    "import json\n",
    "\n",
    "colors = (\n",
    "    ('Luke', 'Yellow'),\n",
    "    ('Paul', 'Blue'),\n",
    "    ('James', 'Green'),\n",
    ")\n",
    "\n",
    "# can pass in a sequence of tuples as well as a dict\n",
    "fav_colors = defaultdict(str, colors)\n",
    "\n",
    "fav_colors['Luke'] = 'Red'\n",
    "# no KeyError raised\n",
    "fav_colors['John'] = 'Yellow'\n",
    "print(json.dumps(fav_colors))"
   ]
  },
  {
   "cell_type": "code",
   "execution_count": 20,
   "metadata": {
    "collapsed": false
   },
   "outputs": [
    {
     "name": "stdout",
     "output_type": "stream",
     "text": [
      "{\"colours\": {\"favourite\": \"yellow\"}}\n"
     ]
    }
   ],
   "source": [
    "tree = lambda: collections.defaultdict(tree)\n",
    "some_dict = tree()\n",
    "some_dict['colours']['favourite'] = \"yellow\"\n",
    "# json.dumps returns a JSON string representation of the Python object\n",
    "print(json.dumps(some_dict))"
   ]
  },
  {
   "cell_type": "code",
   "execution_count": null,
   "metadata": {
    "collapsed": true
   },
   "outputs": [],
   "source": [
    "OrderedDict http://book.pythontips.com/en/latest/collections.html"
   ]
  },
  {
   "cell_type": "markdown",
   "metadata": {},
   "source": [
    "**Copy operations**\n",
    "\n",
    "Assignment statements in Python do not copy objects, they create bindings between a target and an object. For collections that are mutable or contain mutable items, a copy is sometimes needed so one can change one copy without changing the other."
   ]
  },
  {
   "cell_type": "code",
   "execution_count": null,
   "metadata": {
    "collapsed": true
   },
   "outputs": [],
   "source": []
  },
  {
   "cell_type": "code",
   "execution_count": 65,
   "metadata": {
    "collapsed": false
   },
   "outputs": [
    {
     "data": {
      "text/plain": [
       "[2, 2, 2]"
      ]
     },
     "execution_count": 65,
     "metadata": {},
     "output_type": "execute_result"
    }
   ],
   "source": [
    "d = [2, 2, 2]\n",
    "e = d[:]\n",
    "d[2] = 4\n",
    "e"
   ]
  },
  {
   "cell_type": "markdown",
   "metadata": {},
   "source": [
    "The difference between shallow and deep copying is only relevant for compound objects (contain other objects, like lists or class instances)"
   ]
  },
  {
   "cell_type": "code",
   "execution_count": 66,
   "metadata": {
    "collapsed": false
   },
   "outputs": [
    {
     "data": {
      "text/plain": [
       "[[2, 2, 4], [2, 2, 2]]"
      ]
     },
     "execution_count": 66,
     "metadata": {},
     "output_type": "execute_result"
    }
   ],
   "source": [
    "import copy\n",
    "a = [[2, 2, 2], [2, 2, 2]]\n",
    "# shallow copy (could use copy.copy). Without the '[:]', 'b' would just point to the object that 'a' references\n",
    "b = a[:]\n",
    "c = copy.deepcopy(a)\n",
    "a[0][2] = 4\n",
    "b"
   ]
  },
  {
   "cell_type": "markdown",
   "metadata": {},
   "source": [
    "**Decorators**"
   ]
  },
  {
   "cell_type": "code",
   "execution_count": 63,
   "metadata": {
    "collapsed": false,
    "scrolled": true
   },
   "outputs": [
    {
     "name": "stdout",
     "output_type": "stream",
     "text": [
      "<function has_name at 0x0000024B17599B70> <function a_new_decorator.<locals>.wrapTheFunction at 0x0000024B175AE6A8>\n"
     ]
    }
   ],
   "source": [
    "def a_new_decorator(a_func):\n",
    "    def wrapTheFunction():\n",
    "        print(\"Before a_func()\")\n",
    "        a_func()\n",
    "        print(\"After a_func()\")\n",
    "    return wrapTheFunction\n",
    "\n",
    "def has_name():\n",
    "    pass\n",
    "\n",
    "@a_new_decorator\n",
    "def decorated():\n",
    "    pass\n",
    "print(has_name, decorated)"
   ]
  },
  {
   "cell_type": "markdown",
   "metadata": {},
   "source": [
    "The decorator overrode the name and docstring of the function. This is needed for debugging etc., so to solve this use functools.wraps. The following is a use-case of a decorator, similar to what might be used to protect a route in Flask where if authorization credentials are not contained within the request object a return redirect statement is executed."
   ]
  },
  {
   "cell_type": "code",
   "execution_count": 64,
   "metadata": {
    "collapsed": false
   },
   "outputs": [
    {
     "name": "stdout",
     "output_type": "stream",
     "text": [
      "Function is running\n",
      "Function will not run\n"
     ]
    }
   ],
   "source": [
    "from functools import wraps\n",
    "def decorator_name(f):\n",
    "    @wraps(f)\n",
    "    def decorated(*args, **kwargs):\n",
    "        if not can_run:\n",
    "            return \"Function will not run\"\n",
    "        return f(*args, **kwargs)\n",
    "    return decorated\n",
    "\n",
    "@decorator_name\n",
    "def func():\n",
    "    return(\"Function is running\")\n",
    "\n",
    "can_run = True\n",
    "print(func())\n",
    "\n",
    "can_run = False\n",
    "print(func())"
   ]
  },
  {
   "cell_type": "markdown",
   "metadata": {},
   "source": [
    "**Duck-typing** is a concept that states that the type of the object is a matter of concern only at runtime, so that you don’t need to to explicitly mention the type of object performing an operation on it. E.g. an error is only raised for a function being called with unsupported objects if/when it is encountered."
   ]
  },
  {
   "cell_type": "markdown",
   "metadata": {},
   "source": [
    "**Function caching**\n",
    "http://book.pythontips.com/en/latest/function_caching.html"
   ]
  },
  {
   "cell_type": "markdown",
   "metadata": {},
   "source": [
    "**Iterables and Iterators**\n",
    "An iterable is an object capable of returning its members one at a time. This includes all sequences types (e.g. str, list etc.), as well as non-sequence types which includes dict, file objects and objects of any class with an __iter__() method.\n",
    "\n",
    "An iterator is an object representing a stream of data.  A classic iterator will be defined using a class with __iter__ and __next__ methods. Repeated calls to the iterator’s __next__() method (or passing it to the built-in function next()) return successive items in the stream. When no more data are available a StopIteration exception is raised. \n",
    "Ways to create an iterative function include: generator expressions, create a generator function (defined using yield instead of return), or by defining a class with __iter__ and __next__ methods. As iterators have an __iter__ method, they may be used in most places where other iterables are accepted:"
   ]
  },
  {
   "cell_type": "code",
   "execution_count": null,
   "metadata": {
    "collapsed": true
   },
   "outputs": [],
   "source": [
    "'MAKE A CLASS E.G.'"
   ]
  },
  {
   "cell_type": "code",
   "execution_count": 49,
   "metadata": {
    "collapsed": false
   },
   "outputs": [
    {
     "data": {
      "text/plain": [
       "[2, 4, 6, 8]"
      ]
     },
     "execution_count": 49,
     "metadata": {},
     "output_type": "execute_result"
    }
   ],
   "source": [
    "def counter(low, high):\n",
    "    n = low\n",
    "    while n <= high:\n",
    "        yield n\n",
    "        n += 1\n",
    "counts = counter(2,8)\n",
    "[a for a in counts if a % 2 == 0]"
   ]
  },
  {
   "cell_type": "markdown",
   "metadata": {},
   "source": [
    "A container object (e.g. a list) produces a fresh new iterator each time you pass it to the iter() function or use it in a for loop. Attempting this with an iterator will just return the same exhausted iterator object used in the previous iteration pass, making it appear empty:"
   ]
  },
  {
   "cell_type": "code",
   "execution_count": 50,
   "metadata": {
    "collapsed": false
   },
   "outputs": [
    {
     "data": {
      "text/plain": [
       "[]"
      ]
     },
     "execution_count": 50,
     "metadata": {},
     "output_type": "execute_result"
    }
   ],
   "source": [
    "[a for a in counts if a % 2 == 0]"
   ]
  },
  {
   "cell_type": "code",
   "execution_count": null,
   "metadata": {
    "collapsed": true
   },
   "outputs": [],
   "source": []
  },
  {
   "cell_type": "markdown",
   "metadata": {},
   "source": [
    "**Multiprocessing and multithreading**\n",
    "\n",
    "Concurrency is when two or more tasks can start, run, and complete in overlapping time periods. It doesn't necessarily mean they'll ever both be running at the same instant. Eg. multitasking on a single-core machine. Parallelism is when two or more tasks  run at the same time, e.g. on a multicore processor. Concurrency can be characterized as a property of a program or system and parallelism as the run-time behaviour of executing multiple tasks at the same time. "
   ]
  },
  {
   "cell_type": "raw",
   "metadata": {},
   "source": [
    "Concurrency                 Concurrency + parallelism\n",
    "(Single-Core CPU)           (Multi-Core CPU)\n",
    " ___                         ___ ___\n",
    "|th1|                       |th1|th2|\n",
    "|   |                       |   |___|\n",
    "|___|___                    |   |___\n",
    "    |th2|                   |___|th2|             In both cases we have concurrency as \n",
    " ___|___|                    ___|___|             we have more than one thread running. \n",
    "|th1|                       |th1|\n",
    "|___|___                    |   |___\n",
    "    |th2|                   |   |th2|"
   ]
  },
  {
   "cell_type": "markdown",
   "metadata": {},
   "source": [
    "If we ran this program on a computer with a single CPU core, the OS would be switching between the two threads, allowing one thread to run at a time. If we ran this program on a computer with a multi-core CPU then we would be able to run the two threads in parallel - side by side at the exact same time\n",
    "\n",
    "A thread is a sequence of instructions within a process. It can be thought of as a lightweight process. Threads share the same memory space. A process is an instance of a program running in a computer which can contain one or more threads. A process has its independant memory space. \n",
    "    \n",
    "The threading module is used for working with threads in Python. The CPython implementation has a Global Interpreter Lock (GIL) which allows only one thread to be active in the interpreter at once. This means that threads cannot be used for parallel execution of Python code. While parallel CPU computation is not possible, parallel IO operations are possible using threads. This is because performing IO operations releases the GIL. What are threads used for in Python? \n",
    "\n",
    "    In GUI applications to keep the UI thread responsive\n",
    "\n",
    "    IO tasks (network IO or filesystem IO)\n",
    "\n",
    "Using threads for these tasks improves performance, since in network IO for example, most of the time is spent waiting for a response from the URL. Threads should not be used for CPU bound tasks as this will actually result in worse performance compared to using a single thread.\n",
    "\n",
    "For parallel execution of tasks use multiprocessing, a package that supports spawning processes using an API similar to the threading module. It side-steps the GIL by using subprocesses instead of threads. The Pool object which offers a convenient means of parallelizing the execution of a function across multiple input values, distributing the input data across processes (data parallelism). The following example demonstrates the common practice of defining such functions in a module so that child processes can successfully import that module:"
   ]
  },
  {
   "cell_type": "markdown",
   "metadata": {},
   "source": [
    "**Mutable default arguments**\n",
    "\n",
    "In the following example, the list object has an empty list as a default value. This assignment is carried out only when the function definition is first evaluated. "
   ]
  },
  {
   "cell_type": "code",
   "execution_count": 28,
   "metadata": {
    "collapsed": false
   },
   "outputs": [],
   "source": [
    "def func1(item, lst=[]):\n",
    "    lst.append(item)\n",
    "    return lst\n",
    "\n",
    "def func2 (item, lst=None):\n",
    "    if lst is None: \n",
    "        lst = []\n",
    "    lst.append(item)\n",
    "    return lst"
   ]
  },
  {
   "cell_type": "markdown",
   "metadata": {},
   "source": [
    "A new list is created each time the function is called if a second argument isn’t provided, so that the output is as follows:"
   ]
  },
  {
   "cell_type": "code",
   "execution_count": 29,
   "metadata": {
    "collapsed": false
   },
   "outputs": [
    {
     "name": "stdout",
     "output_type": "stream",
     "text": [
      "[[0, 1, 2], [0, 1, 2], [0, 1, 2]]\n"
     ]
    }
   ],
   "source": [
    "print([func1(i) for i in range(3)])"
   ]
  },
  {
   "cell_type": "markdown",
   "metadata": {},
   "source": [
    "This feature gives speed and memory boosts, as in most cases you will have immutable default arguments and Python can construct them just once, instead of on every function call. Another benefit is simplicity, as it is easier to understand how the expression is evaluated and thereby make debugging easier. \n",
    "\n",
    "To avoid this, the mutable objects used as defaults should be replaced by None, and then the arguments tested for None:"
   ]
  },
  {
   "cell_type": "code",
   "execution_count": 30,
   "metadata": {
    "collapsed": false,
    "scrolled": true
   },
   "outputs": [
    {
     "name": "stdout",
     "output_type": "stream",
     "text": [
      "[[0], [1], [2]]\n"
     ]
    }
   ],
   "source": [
    "print([func2(i) for i in range(3)])"
   ]
  },
  {
   "cell_type": "markdown",
   "metadata": {},
   "source": [
    "**Else clauses on loops**\n",
    "Think of the else as 'nobreak':"
   ]
  },
  {
   "cell_type": "code",
   "execution_count": 59,
   "metadata": {
    "collapsed": false
   },
   "outputs": [
    {
     "name": "stdout",
     "output_type": "stream",
     "text": [
      "1\n",
      "2\n",
      "3\n"
     ]
    }
   ],
   "source": [
    "mylist = [1,2,3]\n",
    "for i in mylist:\n",
    "    print(i)\n",
    "    if i == 3:\n",
    "        break\n",
    "else:\n",
    "    print('Reached StopIteration or broke out of loop')"
   ]
  },
  {
   "cell_type": "code",
   "execution_count": null,
   "metadata": {
    "collapsed": true
   },
   "outputs": [],
   "source": []
  },
  {
   "cell_type": "markdown",
   "metadata": {},
   "source": [
    "**functools.partial**\n",
    "https://stackoverflow.com/questions/15331726/how-does-the-functools-partial-work-in-python\n",
    "https://www.pydanny.com/python-partials-are-fun.html"
   ]
  },
  {
   "cell_type": "markdown",
   "metadata": {},
   "source": [
    "**Factory Methods**"
   ]
  },
  {
   "cell_type": "code",
   "execution_count": null,
   "metadata": {
    "collapsed": true
   },
   "outputs": [],
   "source": []
  },
  {
   "cell_type": "markdown",
   "metadata": {},
   "source": []
  },
  {
   "cell_type": "markdown",
   "metadata": {},
   "source": [
    "**Property Decorator**  getter setter deleter methods https://docs.python.org/2.7/reference/datamodel.html#customizing-attribute-access\n",
    "Enable you to set an attribute using a function. The setter method allows you to have functionality of normal class attribute assignment.\n",
    "\n",
    "-overall useful in that can come in and modify property already defined when the class instance was initalized?\n",
    "\n",
    "see corey s youtube vid"
   ]
  },
  {
   "cell_type": "code",
   "execution_count": null,
   "metadata": {
    "collapsed": true
   },
   "outputs": [],
   "source": []
  },
  {
   "cell_type": "code",
   "execution_count": null,
   "metadata": {
    "collapsed": true
   },
   "outputs": [],
   "source": []
  },
  {
   "cell_type": "code",
   "execution_count": null,
   "metadata": {
    "collapsed": true
   },
   "outputs": [],
   "source": []
  },
  {
   "cell_type": "code",
   "execution_count": null,
   "metadata": {
    "collapsed": true
   },
   "outputs": [],
   "source": []
  },
  {
   "cell_type": "markdown",
   "metadata": {},
   "source": [
    "**Strong-typing** You cannot coerce objects into a different type by any kind of inferring, as in weakly-typed languages. In so, the object type is more explicit.\n",
    "\n"
   ]
  },
  {
   "cell_type": "markdown",
   "metadata": {},
   "source": [
    "**sys**"
   ]
  },
  {
   "cell_type": "code",
   "execution_count": 60,
   "metadata": {
    "collapsed": false
   },
   "outputs": [
    {
     "data": {
      "text/plain": [
       "('3.5.2 |Anaconda custom (64-bit)| (default, Jul  5 2016, 11:41:13) [MSC v.1900 64 bit (AMD64)]',\n",
       " ['',\n",
       "  'C:\\\\Users\\\\Paul\\\\Anaconda3\\\\python35.zip',\n",
       "  'C:\\\\Users\\\\Paul\\\\Anaconda3\\\\DLLs',\n",
       "  'C:\\\\Users\\\\Paul\\\\Anaconda3\\\\lib',\n",
       "  'C:\\\\Users\\\\Paul\\\\Anaconda3',\n",
       "  'C:\\\\Users\\\\Paul\\\\AppData\\\\Roaming\\\\Python\\\\Python35\\\\site-packages',\n",
       "  'C:\\\\Users\\\\Paul\\\\Anaconda3\\\\lib\\\\site-packages',\n",
       "  'C:\\\\Users\\\\Paul\\\\Anaconda3\\\\lib\\\\site-packages\\\\win32',\n",
       "  'C:\\\\Users\\\\Paul\\\\Anaconda3\\\\lib\\\\site-packages\\\\win32\\\\lib',\n",
       "  'C:\\\\Users\\\\Paul\\\\Anaconda3\\\\lib\\\\site-packages\\\\Pythonwin',\n",
       "  'C:\\\\Users\\\\Paul\\\\Anaconda3\\\\lib\\\\site-packages\\\\IPython\\\\extensions',\n",
       "  'C:\\\\Users\\\\Paul\\\\.ipython'])"
      ]
     },
     "execution_count": 60,
     "metadata": {},
     "output_type": "execute_result"
    }
   ],
   "source": []
  },
  {
   "cell_type": "code",
   "execution_count": null,
   "metadata": {
    "collapsed": true
   },
   "outputs": [],
   "source": []
  }
 ],
 "metadata": {
  "anaconda-cloud": {},
  "kernelspec": {
   "display_name": "Python [default]",
   "language": "python",
   "name": "python3"
  },
  "language_info": {
   "codemirror_mode": {
    "name": "ipython",
    "version": 3
   },
   "file_extension": ".py",
   "mimetype": "text/x-python",
   "name": "python",
   "nbconvert_exporter": "python",
   "pygments_lexer": "ipython3",
   "version": "3.5.2"
  }
 },
 "nbformat": 4,
 "nbformat_minor": 1
}
