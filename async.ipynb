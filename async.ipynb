{
 "cells": [
  {
   "cell_type": "markdown",
   "metadata": {},
   "source": [
    "**Async: a style of concurrent programming in which tasks release the CPU during waiting periods, so other tasks can use it**"
   ]
  },
  {
   "cell_type": "markdown",
   "metadata": {},
   "source": [
    "\n",
    "3 ways of doing multiple things at once in Python: multiprocessing, multithreading, asynchronous programming\n",
    "\n",
    "**Multiprocessing and multithreading**\n",
    "\n",
    "Concurrency is when two or more tasks can start, run, and complete in overlapping time periods. It doesn't necessarily mean they'll ever both be running at the same instant. Eg. multitasking on a single-core machine. Parallelism is when two or more tasks  run at the same time, e.g. on a multicore processor. Concurrency can be characterized as a property of a program or system and parallelism as the runtime behaviour of executing multiple tasks at the same time. "
   ]
  },
  {
   "cell_type": "markdown",
   "metadata": {},
   "source": [
    "![](images/concurrency_parallelism.png)\n",
    "If we ran this program on a computer with a single CPU core, the OS would be switching between the two threads, allowing one thread to run at a time. If we ran this program on a computer with a multi-core CPU then we would be able to run the two threads in parallel - side by side at the exact same time\n",
    "\n",
    "A thread is a sequence of instructions within a process. It can be thought of as a lightweight process. Threads share the same memory space. A process is an instance of a program running in a computer which can contain one or more threads. A process has its independant memory space. \n",
    "    \n",
    "The threading module is used for working with threads in Python. The CPython implementation has a Global Interpreter Lock (GIL) which allows only one thread to be active in the interpreter at once. The mechanism used by the CPython interpreter to assure that only one thread executes Python bytecode at a time. This simplifies the CPython implementation by making the object model (including critical built-in types such as dict) implicitly safe against concurrent access. Locking the entire interpreter makes it easier for the interpreter to be multi-threaded, at the expense of much of the parallelism afforded by multi-processor machines. This means that threads cannot be used for parallel execution of Python code. While parallel CPU computation is not possible, parallel IO operations are possible using threads. This is because performing IO operations releases the GIL. What are threads used for in Python? \n",
    "\n",
    "    In GUI applications to keep the UI thread responsive\n",
    "\n",
    "    IO tasks (network IO or filesystem IO)\n",
    "\n",
    "Using threads for these tasks improves performance, since in network IO for example, most of the time is spent waiting for a response from the URL. Threads should not be used for CPU bound tasks as this will actually result in worse performance compared to using a single thread.\n",
    "\n",
    "For parallel execution of tasks use multiprocessing, a package that supports spawning processes using an API similar to the threading module. It side-steps the GIL by using subprocesses instead of threads. The Pool object which offers a convenient means of parallelizing the execution of a function across multiple input values, distributing the input data across processes (data parallelism).\n",
    "\n",
    "**Using coroutines to run functions concurrently**\n",
    "\n",
    "While threads are useful for blocking I/O, they should be avoided for parallel procesessing. Three problems with threads: special tools are needed e.g. to prevent data races, which increases code complexity and difficultly with its maintenance, and executing threads requires uses a lot of memory and are costly to start. \n",
    "\n",
    "Python work around these rpoblem with coroutines. These allow you to have many seemingly simultaneous functions running in your programs. They are are extension of generators and the cost of starting them is just a function call and require only a small amount of memory until they are exhausted. "
   ]
  },
  {
   "cell_type": "markdown",
   "metadata": {},
   "source": [
    "Again, how does Python do multiple things at once?\n",
    "\n",
    "1 - Multiple processes\n",
    "\n",
    "The most obvious way is to use multiple processes. From the terminal you can start your script two, three, four…ten times and then all the scripts are going to run independently or at the same time. The operating system that's underneath will take care of sharing your CPU resources among all those instances. Using CPython that's actually the only way you can get to use more than one CPU at the same time.\n",
    "\n",
    "2 - Multiple threads\n",
    "\n",
    "The next way to run multiple things at once is to use threads.\n",
    "\n",
    "A thread is a line of execution, pretty much like a process, but you can have multiple threads in the context of one process and they all share access to common resources. But because of this it's difficult to write a threading code. And again, the operating system is doing all the heavy lifting on sharing the CPU, but the global interpreter lock (GIL) allows only one thread to run Python code at a given time even when you have multiple threads running code. So, In CPython, the GIL prevents multi core concurrency. Basically, you’re running in a single core even though you may have two or four or more.\n",
    "\n",
    "3 - Asynchronous Programming\n",
    "\n",
    "The third way is an asynchronous programming, where the OS is not participating. As far as OS is concerned you're going to have one process and there's going to be a single thread within that process, but you'll be able to do multiple things at once. So, what's the trick? \n",
    "\n",
    "Much of the code we write, especially in heavy IO applications like websites, depends on external resources. This could be anything from a remote database call to POSTing to a REST service. As soon as you ask for any of these resources, your code is waiting around with nothing to do. With asynchronous programming, you allow your code to handle other tasks while waiting for these other resources to respond."
   ]
  },
  {
   "cell_type": "markdown",
   "metadata": {},
   "source": [
    "Coroutines: a background\n",
    "-------------------------\n",
    "\n",
    "Coroutines have similarities to generators. When you call a generator function, a generator object is returned. The function is not run, it only executes on `next()`. Yield produces a value but the function is suspended and resumes on the next call to `next()` until StopIteration is reached."
   ]
  },
  {
   "cell_type": "code",
   "execution_count": 22,
   "metadata": {},
   "outputs": [
    {
     "data": {
      "text/plain": [
       "[0, 2, 4, 6, 8]"
      ]
     },
     "execution_count": 22,
     "metadata": {},
     "output_type": "execute_result"
    }
   ],
   "source": [
    "# Generators generate data, coroutines consume data. You can advance a generator to the yield statement by the \n",
    "# send method, however sending anything other than `None` to a generator causes an Exception to be raised.\n",
    "def my_gen():\n",
    "    # a generator function yielding even numbers < 10\n",
    "    for i in range(10):\n",
    "        if i % 2 == 0:\n",
    "            yield i\n",
    "        \n",
    "g = my_gen()\n",
    "data = [g.send(None) for i in range(5)] \n",
    "assert data == list(my_gen()) \n",
    "data "
   ]
  },
  {
   "cell_type": "markdown",
   "metadata": {},
   "source": [
    "Following PEP-342, you can use `yield` in expressions, such as the RHS of assignments. If you use `yield` more generally, you get a coroutine. These do more than generate values, they can consume values sent to them (you can only send None to a generator, effectively the same as calling `next()` on it). Values sent to them are returned by (yield):"
   ]
  },
  {
   "cell_type": "code",
   "execution_count": 59,
   "metadata": {},
   "outputs": [
    {
     "name": "stdout",
     "output_type": "stream",
     "text": [
      "Looking for Python\n"
     ]
    }
   ],
   "source": [
    "def grep(pattern):\n",
    "    print (\"Looking for {}\".format(pattern))\n",
    "    while True:        \n",
    "        line = (yield)       \n",
    "        if pattern in line:            \n",
    "            print(line)\n",
    "            \n",
    "g = grep('Python')\n",
    "next(g)"
   ]
  },
  {
   "cell_type": "markdown",
   "metadata": {},
   "source": [
    "Execution is similar as for generators. 'Priming' the coroutine by calling `next()` or `.send(None)` advances the coroutine to the first `yield` and execution is suspended until it is sent a value. "
   ]
  },
  {
   "cell_type": "code",
   "execution_count": 60,
   "metadata": {},
   "outputs": [
    {
     "name": "stdout",
     "output_type": "stream",
     "text": [
      "Python, you are so cool\n"
     ]
    }
   ],
   "source": [
    "g.send('no snakes here')\n",
    "g.send('Python, you are so cool')\n",
    "g.close()"
   ]
  },
  {
   "cell_type": "code",
   "execution_count": 56,
   "metadata": {},
   "outputs": [],
   "source": [
    "#The need to call next()`can be solved using a decorator :\n",
    "\n",
    "def coroutine(func):    \n",
    "    def start(*args,**kwargs):        \n",
    "        cr = func(*args,**kwargs)        \n",
    "        next(cr)        \n",
    "        return cr    \n",
    "    return start"
   ]
  },
  {
   "cell_type": "markdown",
   "metadata": {},
   "source": [
    "**Processing Pipelines**\n",
    "\n",
    "Coroutines can be used to set up pipes. The source (typically not a coroutine) drives the pipeline.You just chain coroutines together and push data through the pipe with `send()` operations\n",
    "\n",
    "![](images/proc_pipeline.png)"
   ]
  },
  {
   "cell_type": "markdown",
   "metadata": {},
   "source": [
    "async/await\n",
    "----------"
   ]
  },
  {
   "cell_type": "code",
   "execution_count": 96,
   "metadata": {},
   "outputs": [
    {
     "data": {
      "text/plain": [
       "<coroutine object speak_async at 0x0000019E7D0A9CA8>"
      ]
     },
     "execution_count": 96,
     "metadata": {},
     "output_type": "execute_result"
    }
   ],
   "source": [
    "import asyncio\n",
    "\n",
    "async def speak_async():  \n",
    "    print('OMG asynchronicity!')\n",
    "\n",
    "# cannot run with something driving it\n",
    "speak = speak_async()\n",
    "speak"
   ]
  },
  {
   "cell_type": "code",
   "execution_count": 97,
   "metadata": {},
   "outputs": [
    {
     "name": "stdout",
     "output_type": "stream",
     "text": [
      "OMG asynchronicity!\n"
     ]
    },
    {
     "ename": "StopIteration",
     "evalue": "",
     "output_type": "error",
     "traceback": [
      "\u001b[0;31m---------------------------------------------------------------------------\u001b[0m",
      "\u001b[0;31mStopIteration\u001b[0m                             Traceback (most recent call last)",
      "\u001b[0;32m<ipython-input-97-7c84b2e23841>\u001b[0m in \u001b[0;36m<module>\u001b[0;34m()\u001b[0m\n\u001b[0;32m----> 1\u001b[0;31m \u001b[0mspeak\u001b[0m\u001b[1;33m.\u001b[0m\u001b[0msend\u001b[0m\u001b[1;33m(\u001b[0m\u001b[1;32mNone\u001b[0m\u001b[1;33m)\u001b[0m\u001b[1;33m\u001b[0m\u001b[0m\n\u001b[0m",
      "\u001b[0;31mStopIteration\u001b[0m: "
     ]
    }
   ],
   "source": [
    "speak.send(None)"
   ]
  },
  {
   "cell_type": "code",
   "execution_count": 117,
   "metadata": {},
   "outputs": [
    {
     "name": "stdout",
     "output_type": "stream",
     "text": [
      "OMG asynchronicity!\n"
     ]
    }
   ],
   "source": [
    "async def run_this():\n",
    "    await speak_async()\n",
    "\n",
    "# Blocking call which returns when the display_date() coroutine is done\n",
    "loop.run_until_complete(run_this())"
   ]
  },
  {
   "cell_type": "code",
   "execution_count": 118,
   "metadata": {},
   "outputs": [
    {
     "name": "stdout",
     "output_type": "stream",
     "text": [
      "Hello\n",
      "World!\n"
     ]
    }
   ],
   "source": [
    "import asyncio\n",
    "\n",
    "loop = asyncio.get_event_loop()\n",
    "\n",
    "async def hello():\n",
    "    print('Hello')\n",
    "    await asyncio.sleep(3)\n",
    "    print('World!')  \n",
    "  \n",
    "loop.run_until_complete(hello())"
   ]
  },
  {
   "cell_type": "markdown",
   "metadata": {},
   "source": [
    "**How is Async implemented**\n",
    "\n",
    "A practical definition of Async is that it's a style of concurrent programming in which tasks release the CPU during waiting periods, so that other tasks can use it. How can you do that with one process and one thread? You need two things, basically.\n",
    "\n",
    "The first thing that you need is to have a function that can suspend and resume. A function that enters a waiting period is suspended, and only resumed when the wait is over. This can be done using async/await keywords that you can use in Python 3.5+.\n",
    "\n",
    "The next thing that we need is a piece of code that can decide how the CPU is shared, which function gets the CPU next. So, we need a scheduler of sorts. And in asynchronous programming this is called an event loop.\n",
    "\n",
    "**Scheduling Asynchronous Tasks**\n",
    "\n",
    "An event loop will know all the tasks that are running or want to run, it'll select one and give control to it. That task is going to suspend when it needs to wait for something. The control will go back to the loop and the last will find another task and it'll keep going that way. This is called cooperative multi-tasking. Let's say that we wanna write a little script that prints 'hello' waits 3 seconds and then prints 'world'. "
   ]
  },
  {
   "cell_type": "code",
   "execution_count": 109,
   "metadata": {},
   "outputs": [
    {
     "name": "stdout",
     "output_type": "stream",
     "text": [
      "Hello\n",
      "World!\n",
      "Hello\n",
      "World!\n"
     ]
    }
   ],
   "source": [
    "from time import sleep\n",
    "\n",
    "def hello():\n",
    "    print('Hello')\n",
    "    sleep(3)\n",
    "    print('World!')\n",
    "    \n",
    "for i in range(2):\n",
    "    hello()"
   ]
  },
  {
   "cell_type": "markdown",
   "metadata": {},
   "source": [
    "If we were to put a loop on that 'hello' on the bottom to run 'hello' 10 times, for example, this is gonna run not for 3 seconds but for 30 seconds. \n",
    "\n",
    "In this next example we're using a generator function. The nice thing about them is that you don't have to pre-generate all the entire sequence you can generate elements of that sequence as the person calling the generator asks. You can repurpose that using yield or yield from keywords and also use it for an asynchronous function. Basically, when we reach the yield from in the example above, we are saying: \"OK, loop, I'm done for now, so I give you back control. Please, run this function for me [the one that follows the yield from], so asyncio sleep for 3 seconds. And when that's done I'm ready to continue\". The loop will take note of that and then manage everything. Because it’s a scheduler and that's what it does. So, if you were to call this 'hello' function 10 times instead of running for 30 seconds you're gonna see 10 hellos then a pause for 3 seconds and then you’re gonna see 10 'worlds'."
   ]
  },
  {
   "cell_type": "code",
   "execution_count": 119,
   "metadata": {},
   "outputs": [
    {
     "name": "stdout",
     "output_type": "stream",
     "text": [
      "2018-04-26 22:02:14.383911\n",
      "2018-04-26 22:02:15.387404\n",
      "2018-04-26 22:02:16.388661\n",
      "2018-04-26 22:02:17.390532\n",
      "2018-04-26 22:02:18.390698\n"
     ]
    }
   ],
   "source": [
    "asyncio.set_event_loop(asyncio.new_event_loop())\n",
    "\n",
    "import asyncio\n",
    "import datetime\n",
    "\n",
    "async def display_date(loop):\n",
    "    end_time = loop.time() + 5.0\n",
    "    while True:\n",
    "        print(datetime.datetime.now())\n",
    "        if (loop.time() + 1.0) >= end_time:\n",
    "            break\n",
    "        await asyncio.sleep(1)\n",
    "\n",
    "loop = asyncio.get_event_loop()\n",
    "# Blocking call which returns when the display_date() coroutine is done\n",
    "loop.run_until_complete(display_date(loop))\n",
    "loop.close()"
   ]
  },
  {
   "cell_type": "markdown",
   "metadata": {},
   "source": [
    "The one of the things that asyncio is great for is that it makes very explicit the points where the code suspends and resumes.\n",
    "\n",
    "**Example: Chain Coroutines**"
   ]
  },
  {
   "cell_type": "code",
   "execution_count": 124,
   "metadata": {},
   "outputs": [
    {
     "name": "stdout",
     "output_type": "stream",
     "text": [
      "Compute 1 + 2 ...\n",
      "1 + 2 = 3\n"
     ]
    }
   ],
   "source": [
    "asyncio.set_event_loop(asyncio.new_event_loop())\n",
    "\n",
    "async def compute(x, y):\n",
    "    print(\"Compute %s + %s ...\" % (x, y))\n",
    "    await asyncio.sleep(1.0)\n",
    "    return x + y\n",
    "\n",
    "async def print_sum(x, y):\n",
    "    result = await compute(x, y)\n",
    "    print(\"%s + %s = %s\" % (x, y, result))\n",
    "\n",
    "loop = asyncio.get_event_loop()\n",
    "loop.run_until_complete(print_sum(1, 2))\n",
    "loop.close()"
   ]
  },
  {
   "cell_type": "markdown",
   "metadata": {},
   "source": [
    "`compute()` is chained to `print_sum()` meaning that `print_sum()` coroutine waits until `compute()` is completed before returning its result.\n",
    "\n",
    "Sequence diagram of the example:\n",
    "\n",
    "![](images/tulip_coro.png)"
   ]
  },
  {
   "cell_type": "markdown",
   "metadata": {},
   "source": [
    "**Event loop is closed exception**\n",
    "\n",
    "You have already called loop.close() before you ran that sample piece of code, on the global event loop, so you need to create a new loop:\n",
    "\n",
    "loop = asyncio.new_event_loop()\n",
    "\n",
    "You can set that as the new global loop with:\n",
    "\n",
    "asyncio.set_event_loop(asyncio.new_event_loop())\n",
    "\n",
    "and then just use asyncio.get_event_loop() again.\n",
    "\n",
    "Alternatively, just restart your Python interpreter, the first time you try to get the global event loop you get a fresh new one, unclosed."
   ]
  },
  {
   "cell_type": "markdown",
   "metadata": {},
   "source": [
    "Asynchronous HTTP requests in Python\n",
    "-------------------------------------\n",
    "\n",
    "You can consider aiohttp as the asynchronous version of requests. Usage is very similar to requests but the  performance benefits can be huge. If you haven’t used the NBA’s statistics API you should know that it can be extremely slow. Calls can take upwards of 5-6 seconds and collecting data from the API can be major pain. "
   ]
  },
  {
   "cell_type": "code",
   "execution_count": 86,
   "metadata": {},
   "outputs": [
    {
     "name": "stdout",
     "output_type": "stream",
     "text": [
      "Getting all players...\n",
      "this would take 12 mins!\n"
     ]
    }
   ],
   "source": [
    "#Approx. 12 minutes!\n",
    "\n",
    "import requests\n",
    "\n",
    "base_url = 'http://stats.nba.com/stats'\n",
    "HEADERS = {\n",
    "    'user-agent': ('Mozilla/5.0 (Macintosh; Intel Mac OS X 10_10_5) '\n",
    "                   'AppleWebKit/537.36 (KHTML, like Gecko) '\n",
    "                   'Chrome/45.0.2454.101 Safari/537.36'),\n",
    "}\n",
    "\n",
    "\n",
    "def get_players(player_args):\n",
    "    endpoint = '/commonallplayers'\n",
    "    params = {'leagueid': '00', 'season': '2016-17', 'isonlycurrentseason': '1'}\n",
    "    url = '{}{}'.format(base_url, endpoint)\n",
    "    print('Getting all players...')\n",
    "    resp = requests.get(url, headers=HEADERS, params=params)\n",
    "    data = resp.json()\n",
    "    player_args.extend(\n",
    "        [(item[0], item[2]) for item in data['resultSets'][0]['rowSet']])\n",
    "\n",
    "\n",
    "def get_player(player_id, player_name):\n",
    "    endpoint = '/commonplayerinfo'\n",
    "    params = {'playerid': player_id}\n",
    "    url = '{}{}'.format(base_url, endpoint)\n",
    "    print('Getting player {}'.format(player_name))\n",
    "    resp = requests.get(url, headers=HEADERS, params=params)\n",
    "    print(resp)\n",
    "    data = resp.text\n",
    "    with open('{}.json'.format(player_name.replace(\" \", \"_\")), 'w') as file:\n",
    "        file.write(data)\n",
    "\n",
    "\n",
    "player_args = []\n",
    "get_players(player_args)\n",
    "#for args in player_args:\n",
    "#    get_player(*args)\n",
    "print('this would take 12 mins!')"
   ]
  },
  {
   "cell_type": "markdown",
   "metadata": {},
   "source": [
    "After gathering the player ID’s and player names the program synchronously gathers player information and stores it in files with the format FIRSTNAME_LASTNAME.json.\n",
    "It’s a fairly straightforward program and takes around 12 minutes of total time. The following asychronous way is far quicker:"
   ]
  },
  {
   "cell_type": "code",
   "execution_count": null,
   "metadata": {},
   "outputs": [],
   "source": [
    "import asyncio\n",
    "import aiofiles\n",
    "import aiohttp\n",
    "\n",
    "base_url = 'http://stats.nba.com/stats'\n",
    "HEADERS = {\n",
    "    'user-agent': ('Mozilla/5.0 (Macintosh; Intel Mac OS X 10_10_5) '\n",
    "                   'AppleWebKit/537.36 (KHTML, like Gecko) '\n",
    "                   'Chrome/45.0.2454.101 Safari/537.36'),\n",
    "}\n",
    "\n",
    "async def get_players(player_args):\n",
    "    endpoint = '/commonallplayers'\n",
    "    params = {'leagueid': '00', 'season': '2016-17', 'isonlycurrentseason': '1'}\n",
    "    url = '{}{}'.format(base_url, endpoint)\n",
    "    print('Getting all players...')\n",
    "    async with aiohttp.ClientSession() as session:\n",
    "        async with session.get(url, headers=HEADERS, params=params) as resp:\n",
    "            data = await resp.json()\n",
    "    player_args.extend(\n",
    "        [(item[0], item[2]) for item in data['resultSets'][0]['rowSet']])\n",
    "\n",
    "async def get_player(player_id, player_name):\n",
    "    endpoint = '/commonplayerinfo'\n",
    "    params = {'playerid': player_id}\n",
    "    url = '{}{}'.format(base_url, endpoint)\n",
    "    print('Getting player {}'.format(player_name))\n",
    "    async with aiohttp.ClientSession() as session:\n",
    "        async with session.get(url, headers=HEADERS, params=params) as resp:\n",
    "            print(resp)\n",
    "            data = await resp.text()\n",
    "    async with aiofiles.open('{}.json'.format(player_name.replace(\" \", \"_\")), 'w') as file:\n",
    "        await file.write(data)\n",
    "\n",
    "loop = asyncio.get_event_loop()\n",
    "player_args = []\n",
    "loop.run_until_complete(get_players(player_args))\n",
    "loop.run_until_complete(\n",
    "    asyncio.gather(\n",
    "        *(get_player(*args) for args in player_args)\n",
    "    )\n",
    ")"
   ]
  }
 ],
 "metadata": {
  "anaconda-cloud": {},
  "kernelspec": {
   "display_name": "Python [default]",
   "language": "python",
   "name": "python3"
  },
  "language_info": {
   "codemirror_mode": {
    "name": "ipython",
    "version": 3
   },
   "file_extension": ".py",
   "mimetype": "text/x-python",
   "name": "python",
   "nbconvert_exporter": "python",
   "pygments_lexer": "ipython3",
   "version": "3.5.2"
  }
 },
 "nbformat": 4,
 "nbformat_minor": 1
}
