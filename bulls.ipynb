{
 "cells": [
  {
   "cell_type": "code",
   "execution_count": 95,
   "metadata": {
    "collapsed": false
   },
   "outputs": [
    {
     "data": {
      "text/plain": [
       "'3254 => bulls 0, cows 2'"
      ]
     },
     "execution_count": 95,
     "metadata": {},
     "output_type": "execute_result"
    }
   ],
   "source": [
    "guess = '3254'\n",
    "\n",
    "def bc_count(secret, gs):\n",
    "    \"\"\" expects secret as a list of four ints, guess as a four digit string \"\"\"\n",
    "    bulls = 0\n",
    "    cows = 0\n",
    "    ges = [int(a) for a in gs]\n",
    "    for a in ges:\n",
    "        if a in secret:\n",
    "            cows += 1\n",
    "        if a == secret[ges.index(a)]:\n",
    "            bulls += 1\n",
    "            cows -= 1\n",
    "    return bulls, cows\n",
    "\n",
    "def player_turn():\n",
    "    return '{} => bulls {}, cows {}'.format(guess, *bc_count(sec, guess))\n",
    "\n",
    "player_turn()"
   ]
  },
  {
   "cell_type": "code",
   "execution_count": 162,
   "metadata": {
    "collapsed": false
   },
   "outputs": [
    {
     "data": {
      "text/plain": [
       "[9, 2, 8, 3]"
      ]
     },
     "execution_count": 162,
     "metadata": {},
     "output_type": "execute_result"
    }
   ],
   "source": [
    "import random\n",
    "\n",
    "def make_list(exclude=None):\n",
    "    if exclude is None:\n",
    "        exclude = []\n",
    "    k = 0\n",
    "    items = []\n",
    "    while k < 4:\n",
    "        r = random.randint(1,9)\n",
    "        if r not in items and r not in exclude:\n",
    "            items.append(r)\n",
    "            k += 1\n",
    "    return items\n",
    "\n",
    "sec = make_list()\n",
    "sec"
   ]
  },
  {
   "cell_type": "code",
   "execution_count": 67,
   "metadata": {
    "collapsed": true
   },
   "outputs": [],
   "source": [
    "my_secret = '5678'\n",
    "sec_ints = [int(a) for a in my_secret]"
   ]
  },
  {
   "cell_type": "code",
   "execution_count": 222,
   "metadata": {
    "collapsed": false
   },
   "outputs": [],
   "source": [
    "import random \n",
    "\n",
    "\n",
    "class BullGetter():\n",
    "    \n",
    "    def __init__(self, bc):\n",
    "        self.current = [1,2,3,4] # make_list()\n",
    "        self.bulls = {} # a dict with index position as key and number 1-9 as the value\n",
    "        self.avoid = [] # digits that are either asserted bulls or non-cows\n",
    "        self.turn = 0\n",
    "        self.mem = [[self.current]] #{0:{0:2, 1:3...'bulls':}}\n",
    "        self.counts = [] #[(0,2)]\n",
    "        \n",
    "    def __str__(self):\n",
    "        return ''.join(str(a) for a in self.current)\n",
    "    \n",
    "    def set_counts(self, entry):\n",
    "        self.counts.append((int(entry[0]), int(entry[1])))        \n",
    "    \n",
    "    def update(self):\n",
    "        self.mem.append(bgt.current)\n",
    "        self.turn += 1\n",
    "        \n",
    "    def pick_new(self):\n",
    "        return random.choice([a for a in range(1,9) if a != self.avoid and a not in self.current])\n",
    "    \n",
    "    @property\n",
    "    def change(self):\n",
    "        # gives a tuple (a, b, c) where a is the index position, b is previous, c is the new\n",
    "        # condition for check that only only digit changed!! \n",
    "        if self.turn > 1:\n",
    "            mem = self.mem[-2]\n",
    "            for a in self.current:\n",
    "                if a not in mem:\n",
    "                    ind = self.current.index(a)\n",
    "                    diff = (ind, mem[ind], a)\n",
    "            return diff"
   ]
  },
  {
   "cell_type": "code",
   "execution_count": 223,
   "metadata": {
    "collapsed": false
   },
   "outputs": [
    {
     "name": "stdout",
     "output_type": "stream",
     "text": [
      "Attempt #1. My guess: 1234\n"
     ]
    }
   ],
   "source": [
    "bgt = BullGetter('11')\n",
    "print('Attempt #1. My guess: {}'.format(bgt))\n",
    "#bgt.avoid = dict(zip(range(4), [[a] for a in bgt.current])) # [a for a in cb.ges_ints]"
   ]
  },
  {
   "cell_type": "code",
   "execution_count": 224,
   "metadata": {
    "collapsed": false
   },
   "outputs": [],
   "source": [
    "bgt.set_counts('11')"
   ]
  },
  {
   "cell_type": "code",
   "execution_count": 225,
   "metadata": {
    "collapsed": false
   },
   "outputs": [
    {
     "name": "stdout",
     "output_type": "stream",
     "text": [
      "3\n"
     ]
    }
   ],
   "source": [
    "if bgt.counts:\n",
    "    print(3)"
   ]
  },
  {
   "cell_type": "code",
   "execution_count": null,
   "metadata": {
    "collapsed": true
   },
   "outputs": [],
   "source": []
  },
  {
   "cell_type": "code",
   "execution_count": 240,
   "metadata": {
    "collapsed": false
   },
   "outputs": [],
   "source": [
    "# while not 4 bulls ... use bc_count to see when ends  \n",
    "\n",
    "# strategy - change one digit at a time to work out if a cow or a bull\n",
    "#  - if bad use memory to work out and bulls/cows and  add to self.avoid\n",
    "\n",
    "\n",
    "# just do within while loop and change return to continue    \n",
    "def make_choice(user_input):\n",
    "    entry = int(user_input[0]), int(user_input[1])\n",
    "    bgt.set_counts(user_input)\n",
    "    if user_input == '00':\n",
    "        bgt.avoid = bgt.current\n",
    "        bgt.current = make_list(bgt.avoid)\n",
    "        bgt.update()\n",
    "        return\n",
    "    if bgt.turn > 0:\n",
    "        prev = bgt.mem[-2]\n",
    "        # list containing a tuple (a, b, c) where a is index position, b is previous value and c in the new value\n",
    "        #change = [(current.index(x), prev[current.index(x)], x)  for x in current if x not in prev]\n",
    "        if entry[0] < bgt.counts[-1][0]:  # if bulls -1\n",
    "            bgt.bulls[bgt.change[0][0]] = bgt.change[0][1]\n",
    "            bgt.avoid.append(bgt.change[0][1])\n",
    "        elif entry[0] > bgt.counts[-1][0]:  # if bulls +1\n",
    "            bgt.bulls[bgt.change[0][0]] = bgt.change[0][2]\n",
    "            bgt.avoid.append(bgt.change[0][2])        \n",
    "        if entry[0] == bgt.counts[-1][0]:\n",
    "            if entry[1] < bgt.counts[-1][1]:  # if cows -1\n",
    "                bgt.avoid.append(bgt.change[0][2])\n",
    "            elif entry[1] > bgt.counts[-1][1]:  # if cows +1\n",
    "                bgt.avoid.append(bgt.change[0][1])\n",
    "    if bgt.bulls:\n",
    "        pass        \n",
    "    else:\n",
    "        bgt.current[random.randint(0,3)] = bgt.pick_new()\n",
    "        bgt.update()         "
   ]
  },
  {
   "cell_type": "code",
   "execution_count": 247,
   "metadata": {
    "collapsed": false
   },
   "outputs": [],
   "source": [
    "make_choice('03')\n"
   ]
  },
  {
   "cell_type": "code",
   "execution_count": 248,
   "metadata": {
    "collapsed": false
   },
   "outputs": [
    {
     "data": {
      "text/plain": [
       "[(1, 1), (0, 3), (0, 3), (0, 3), (0, 3), (0, 3), (0, 3), (0, 3)]"
      ]
     },
     "execution_count": 248,
     "metadata": {},
     "output_type": "execute_result"
    }
   ],
   "source": [
    "bgt.counts"
   ]
  },
  {
   "cell_type": "code",
   "execution_count": 249,
   "metadata": {
    "collapsed": false
   },
   "outputs": [
    {
     "data": {
      "text/plain": [
       "[[[1, 2, 5, 8]],\n",
       " [1, 2, 5, 8],\n",
       " [1, 2, 5, 8],\n",
       " [1, 2, 5, 8],\n",
       " [1, 2, 5, 8],\n",
       " [1, 2, 5, 8],\n",
       " [1, 2, 5, 8]]"
      ]
     },
     "execution_count": 249,
     "metadata": {},
     "output_type": "execute_result"
    }
   ],
   "source": [
    "bgt.mem"
   ]
  },
  {
   "cell_type": "code",
   "execution_count": 66,
   "metadata": {
    "collapsed": false
   },
   "outputs": [
    {
     "ename": "TypeError",
     "evalue": "unorderable types: int() < tuple()",
     "output_type": "error",
     "traceback": [
      "\u001b[0;31m---------------------------------------------------------------------------\u001b[0m",
      "\u001b[0;31mTypeError\u001b[0m                                 Traceback (most recent call last)",
      "\u001b[0;32m<ipython-input-66-0451c1e0d7ec>\u001b[0m in \u001b[0;36m<module>\u001b[0;34m()\u001b[0m\n\u001b[1;32m      1\u001b[0m \u001b[0mbgt\u001b[0m\u001b[1;33m.\u001b[0m\u001b[0mcurrent\u001b[0m \u001b[1;33m=\u001b[0m \u001b[1;33m[\u001b[0m\u001b[1;36m6\u001b[0m\u001b[1;33m,\u001b[0m \u001b[1;36m2\u001b[0m\u001b[1;33m,\u001b[0m \u001b[1;36m9\u001b[0m\u001b[1;33m,\u001b[0m \u001b[1;36m8\u001b[0m\u001b[1;33m]\u001b[0m\u001b[1;33m\u001b[0m\u001b[0m\n\u001b[0;32m----> 2\u001b[0;31m \u001b[0mturn\u001b[0m\u001b[1;33m(\u001b[0m\u001b[1;34m'01'\u001b[0m\u001b[1;33m)\u001b[0m\u001b[1;33m\u001b[0m\u001b[0m\n\u001b[0m",
      "\u001b[0;32m<ipython-input-65-4596af95c92f>\u001b[0m in \u001b[0;36mturn\u001b[0;34m(entry)\u001b[0m\n\u001b[1;32m     18\u001b[0m         \u001b[0mprev\u001b[0m \u001b[1;33m=\u001b[0m \u001b[0mbgt\u001b[0m\u001b[1;33m.\u001b[0m\u001b[0mmem\u001b[0m\u001b[1;33m[\u001b[0m\u001b[1;33m-\u001b[0m\u001b[1;36m2\u001b[0m\u001b[1;33m]\u001b[0m\u001b[1;33m\u001b[0m\u001b[0m\n\u001b[1;32m     19\u001b[0m         \u001b[0mchange\u001b[0m \u001b[1;33m=\u001b[0m \u001b[1;33m[\u001b[0m\u001b[1;33m(\u001b[0m\u001b[0mcurrent\u001b[0m\u001b[1;33m.\u001b[0m\u001b[0mindex\u001b[0m\u001b[1;33m(\u001b[0m\u001b[0mx\u001b[0m\u001b[1;33m)\u001b[0m\u001b[1;33m,\u001b[0m \u001b[0mprev\u001b[0m\u001b[1;33m[\u001b[0m\u001b[0mcurrent\u001b[0m\u001b[1;33m.\u001b[0m\u001b[0mindex\u001b[0m\u001b[1;33m(\u001b[0m\u001b[0mx\u001b[0m\u001b[1;33m)\u001b[0m\u001b[1;33m]\u001b[0m\u001b[1;33m,\u001b[0m \u001b[0mx\u001b[0m\u001b[1;33m)\u001b[0m  \u001b[1;32mfor\u001b[0m \u001b[0mx\u001b[0m \u001b[1;32min\u001b[0m \u001b[0mcurrent\u001b[0m \u001b[1;32mif\u001b[0m \u001b[0mx\u001b[0m \u001b[1;32mnot\u001b[0m \u001b[1;32min\u001b[0m \u001b[0mprev\u001b[0m\u001b[1;33m]\u001b[0m\u001b[1;33m\u001b[0m\u001b[0m\n\u001b[0;32m---> 20\u001b[0;31m         \u001b[1;32mif\u001b[0m \u001b[0mint\u001b[0m\u001b[1;33m(\u001b[0m\u001b[0mentry\u001b[0m\u001b[1;33m[\u001b[0m\u001b[1;36m0\u001b[0m\u001b[1;33m]\u001b[0m\u001b[1;33m)\u001b[0m \u001b[1;33m<\u001b[0m \u001b[0mbgt\u001b[0m\u001b[1;33m.\u001b[0m\u001b[0mbov\u001b[0m\u001b[1;33m[\u001b[0m\u001b[0mturn\u001b[0m\u001b[1;33m-\u001b[0m\u001b[1;36m1\u001b[0m\u001b[1;33m]\u001b[0m\u001b[1;33m:\u001b[0m\u001b[1;33m\u001b[0m\u001b[0m\n\u001b[0m\u001b[1;32m     21\u001b[0m             \u001b[1;32mpass\u001b[0m\u001b[1;33m\u001b[0m\u001b[0m\n\u001b[1;32m     22\u001b[0m \u001b[1;33m\u001b[0m\u001b[0m\n",
      "\u001b[0;31mTypeError\u001b[0m: unorderable types: int() < tuple()"
     ]
    }
   ],
   "source": [
    "bgt.current = [6, 2, 9, 8]\n",
    "turn('01')"
   ]
  },
  {
   "cell_type": "code",
   "execution_count": 51,
   "metadata": {
    "collapsed": false
   },
   "outputs": [
    {
     "data": {
      "text/plain": [
       "[6, 9, 3, 8]"
      ]
     },
     "execution_count": 51,
     "metadata": {},
     "output_type": "execute_result"
    }
   ],
   "source": [
    "current = bgt.current\n",
    "current = [2,3,4,5]\n",
    "bgt.current"
   ]
  },
  {
   "cell_type": "code",
   "execution_count": 19,
   "metadata": {
    "collapsed": false
   },
   "outputs": [
    {
     "name": "stdout",
     "output_type": "stream",
     "text": [
      "Attempt #1. My guess: 1248\n",
      "00\n",
      "Attempt #2. My guess: 9765\n",
      "00\n",
      "Attempt #3. My guess: 4813\n",
      "00\n",
      "Attempt #4. My guess: 9276\n",
      "00\n",
      "Attempt #5. My guess: 4853\n",
      "00\n",
      "Attempt #6. My guess: 1729\n",
      "00\n",
      "Attempt #7. My guess: 6843\n",
      "00\n",
      "Attempt #8. My guess: 1257\n",
      "00\n"
     ]
    }
   ],
   "source": [
    "while bgt.turn <8: # add code check to while condition if met breaks out \n",
    "    print('Attempt #{}. My guess: {}'.format(bgt.turn + 1, bgt))\n",
    "    inp = input()\n",
    "    # if code_check...break\n",
    "    turn(inp)\n",
    "    bgt.turn += 1\n",
    "    "
   ]
  },
  {
   "cell_type": "code",
   "execution_count": 96,
   "metadata": {
    "collapsed": false
   },
   "outputs": [
    {
     "data": {
      "text/plain": [
       "[5, 5, 2, 8]"
      ]
     },
     "execution_count": 96,
     "metadata": {},
     "output_type": "execute_result"
    }
   ],
   "source": [
    "import random\n",
    "[random.choice([a for a in range(1,9) if a not in cb.ges_ints]) for i in range(4)]"
   ]
  },
  {
   "cell_type": "code",
   "execution_count": null,
   "metadata": {
    "collapsed": true
   },
   "outputs": [],
   "source": []
  },
  {
   "cell_type": "code",
   "execution_count": 48,
   "metadata": {
    "collapsed": false
   },
   "outputs": [
    {
     "data": {
      "text/plain": [
       "0"
      ]
     },
     "execution_count": 48,
     "metadata": {},
     "output_type": "execute_result"
    }
   ],
   "source": [
    "b = CodeBreaker(bc)\n",
    "b.bulls"
   ]
  },
  {
   "cell_type": "code",
   "execution_count": 50,
   "metadata": {
    "collapsed": false
   },
   "outputs": [
    {
     "data": {
      "text/plain": [
       "5"
      ]
     },
     "execution_count": 50,
     "metadata": {},
     "output_type": "execute_result"
    }
   ],
   "source": [
    "b.bulls += 4\n",
    "b.bulls"
   ]
  },
  {
   "cell_type": "code",
   "execution_count": 46,
   "metadata": {
    "collapsed": false
   },
   "outputs": [
    {
     "data": {
      "text/plain": [
       "'7638'"
      ]
     },
     "execution_count": 46,
     "metadata": {},
     "output_type": "execute_result"
    }
   ],
   "source": [
    "c= CodeBreaker(bc)\n",
    "c.ges1"
   ]
  },
  {
   "cell_type": "code",
   "execution_count": null,
   "metadata": {
    "collapsed": true
   },
   "outputs": [],
   "source": []
  },
  {
   "cell_type": "code",
   "execution_count": 43,
   "metadata": {
    "collapsed": false
   },
   "outputs": [
    {
     "name": "stdout",
     "output_type": "stream",
     "text": [
      "3\n"
     ]
    }
   ],
   "source": [
    "if not b.any_bc:\n",
    "    print(3)"
   ]
  },
  {
   "cell_type": "code",
   "execution_count": 12,
   "metadata": {
    "collapsed": false
   },
   "outputs": [
    {
     "name": "stdout",
     "output_type": "stream",
     "text": [
      "00\n"
     ]
    },
    {
     "data": {
      "text/plain": [
       "'00'"
      ]
     },
     "execution_count": 12,
     "metadata": {},
     "output_type": "execute_result"
    }
   ],
   "source": [
    "input()"
   ]
  },
  {
   "cell_type": "code",
   "execution_count": 16,
   "metadata": {
    "collapsed": false
   },
   "outputs": [
    {
     "ename": "NameError",
     "evalue": "name 'asserttrue' is not defined",
     "output_type": "error",
     "traceback": [
      "\u001b[0;31m---------------------------------------------------------------------------\u001b[0m",
      "\u001b[0;31mNameError\u001b[0m                                 Traceback (most recent call last)",
      "\u001b[0;32m<ipython-input-16-624a8be8ab90>\u001b[0m in \u001b[0;36m<module>\u001b[0;34m()\u001b[0m\n\u001b[0;32m----> 1\u001b[0;31m \u001b[0mhelp\u001b[0m\u001b[1;33m(\u001b[0m\u001b[0masserttrue\u001b[0m\u001b[1;33m(\u001b[0m\u001b[1;33m)\u001b[0m\u001b[1;33m)\u001b[0m\u001b[1;33m\u001b[0m\u001b[0m\n\u001b[0m",
      "\u001b[0;31mNameError\u001b[0m: name 'asserttrue' is not defined"
     ]
    }
   ],
   "source": []
  },
  {
   "cell_type": "code",
   "execution_count": null,
   "metadata": {
    "collapsed": true
   },
   "outputs": [],
   "source": []
  }
 ],
 "metadata": {
  "anaconda-cloud": {},
  "kernelspec": {
   "display_name": "Python [default]",
   "language": "python",
   "name": "python3"
  },
  "language_info": {
   "codemirror_mode": {
    "name": "ipython",
    "version": 3
   },
   "file_extension": ".py",
   "mimetype": "text/x-python",
   "name": "python",
   "nbconvert_exporter": "python",
   "pygments_lexer": "ipython3",
   "version": "3.5.2"
  }
 },
 "nbformat": 4,
 "nbformat_minor": 1
}
