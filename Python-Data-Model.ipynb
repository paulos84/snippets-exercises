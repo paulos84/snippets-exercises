{
 "cells": [
  {
   "cell_type": "markdown",
   "metadata": {},
   "source": [
    "https://docs.python.org/3/reference/datamodel.html"
   ]
  },
  {
   "cell_type": "markdown",
   "metadata": {},
   "source": [
    "**Objects, values and types**\n",
    "Objects are Python’s abstraction for data. All data in a Python program is represented by objects or by relations between objects. Every object has an identity, a type and a value. An object’s identity never changes once it has been created; you may think of it as the object’s address in memory. The ‘is’ operator compares the identity of two objects; the id() function returns an integer representing its identity. In the following example, the 'is' operator returns False since although the values are the same their identities are different"
   ]
  },
  {
   "cell_type": "code",
   "execution_count": 21,
   "metadata": {
    "collapsed": false
   },
   "outputs": [
    {
     "name": "stdout",
     "output_type": "stream",
     "text": [
      "False 2125277037512 2125269989960 2125275859144\n"
     ]
    }
   ],
   "source": [
    "lst1 = [3,4]\n",
    "lst2 = [3,4]\n",
    "tpl = (3, [lst1])\n",
    "print(lst1 is lst2, id(lst1), id(lst2), id(tpl))"
   ]
  },
  {
   "cell_type": "markdown",
   "metadata": {},
   "source": [
    "Objects whose value can change are said to be mutable. Some objects contain references to other objects; these are called containers. A tuple is an immutable container. The defition of mutability is subtle as shown in the following reassignment of 'lst1' (change of identity); the tuple is still considered not to have been mutated because the collection of objects it references is still the same (and so it has the same identity)."
   ]
  },
  {
   "cell_type": "code",
   "execution_count": 22,
   "metadata": {
    "collapsed": false
   },
   "outputs": [
    {
     "name": "stdout",
     "output_type": "stream",
     "text": [
      "2125277037512\n",
      "2125277232456 2125275859144\n"
     ]
    }
   ],
   "source": [
    "lst1 += [3]\n",
    "print(id(lst1))\n",
    "lst1 = [7,8]     \n",
    "print(id(lst1), id(tpl))"
   ]
  },
  {
   "cell_type": "markdown",
   "metadata": {},
   "source": [
    "Objects are never explicitly destroyed but when they become unreachable they may be garbage-collected. Some objects contain references to 'external resources' e.g. open files. Freeing of these resources by garbage collecting is not guaranteed, so it is recommended to use the close() method of these objects, or by the convenience of try, 'try...finally' and 'with' statements."
   ]
  },
  {
   "cell_type": "markdown",
   "metadata": {},
   "source": [
    "**The standard type hierarchy**\n",
    "\n",
    "Python contains a number of built-in standard types (extension modules written in other languages can define additional types).\n",
    "\n",
    "The numbers modules defines a hierarchy of numeric abstract base classes which progressively define more operations. \n",
    "numbers.Number is the root of the numeric hierarchy. numbers.Integral include int and bool. Objects representing the value of True or False  behave like 1 and 0 in almost all contexts except when converted to strings and e.g. 'True' is returned. The float type belongs to numbers.Real which is a subclass of Number E.g. check x in any kind of number:"
   ]
  },
  {
   "cell_type": "code",
   "execution_count": 23,
   "metadata": {
    "collapsed": false
   },
   "outputs": [
    {
     "name": "stdout",
     "output_type": "stream",
     "text": [
      "True True\n"
     ]
    }
   ],
   "source": [
    "from numbers import Number\n",
    "a = 3.4\n",
    "b = False\n",
    "print(isinstance(a, Number), isinstance(b, Number))"
   ]
  },
  {
   "cell_type": "markdown",
   "metadata": {},
   "source": [
    "Sequences represent ordered sets indexed by non-negative numbers and support slicing and the len function. Immutable sequences: string, tuple, bytes.\n",
    "\n",
    "Sets are unordered sets of unique and immutable objects. Being unordered they cannot be sliced, but they can be iterated and do support the len funciton. Common uses are fast membership testing and removing duplicates from a sequence. In addition to sets, which can be modified after creation, there are frozen sets (created using the frozenset() constructor) which are immutable. A frozen set is  hashable so can be used as a member of another set or as a dictionary key. Hashable means the hash value of an object never changes; all built-in immutable objects are hashable.\n",
    "\n",
    "Callable types\n",
    "User-defined functions, these have special attributes:"
   ]
  },
  {
   "cell_type": "code",
   "execution_count": 37,
   "metadata": {
    "collapsed": false
   },
   "outputs": [
    {
     "name": "stdout",
     "output_type": "stream",
     "text": [
      "myfunc (5, False) __main__ {'color': 'red'}\n"
     ]
    }
   ],
   "source": [
    "def myfunc(n, a=5, b=False):\n",
    "    pass\n",
    "myfunc.color = 'red'\n",
    "print(myfunc.__name__, myfunc.__defaults__, myfunc.__module__, myfunc.__dict__)"
   ]
  },
  {
   "cell_type": "markdown",
   "metadata": {},
   "source": [
    "Instance methods have special attribute, similar to the above but also /__self__. Methods also support accessing (but not setting) the arbitrary function attributes on the underlying function object."
   ]
  },
  {
   "cell_type": "code",
   "execution_count": 46,
   "metadata": {
    "collapsed": false
   },
   "outputs": [
    {
     "data": {
      "text/plain": [
       "True"
      ]
     },
     "execution_count": 46,
     "metadata": {},
     "output_type": "execute_result"
    }
   ],
   "source": [
    "class Foo:\n",
    "    def mymethod(self):\n",
    "        print('hello')\n",
    "    mymethod.is_true = True\n",
    "a = Foo()\n",
    "a.mymethod.is_true\n",
    "# attempts to set the method attribute would give AttributeError "
   ]
  },
  {
   "cell_type": "markdown",
   "metadata": {},
   "source": [
    "Generator functions are functions or methods which uses the yield statement. When called, they return an iterator object which can be used to execute the body of the function. Calling the iterator.\\__next__() method will cause the function to execute until it provides a value using the yield statement. When the function executes a return statement or falls off the end, a StopIteration exception is raised."
   ]
  },
  {
   "cell_type": "markdown",
   "metadata": {},
   "source": [
    "Coroutine functions are defined using async_def and when called they return a coroutine object. They may contain await expressions, as well as async with and async for statements.\n",
    "\n",
    "Asynchronous generator functions are defined using async def and they use the yield statement."
   ]
  },
  {
   "cell_type": "markdown",
   "metadata": {},
   "source": []
  },
  {
   "cell_type": "code",
   "execution_count": null,
   "metadata": {
    "collapsed": true
   },
   "outputs": [],
   "source": []
  },
  {
   "cell_type": "code",
   "execution_count": null,
   "metadata": {
    "collapsed": true
   },
   "outputs": [],
   "source": []
  }
 ],
 "metadata": {
  "kernelspec": {
   "display_name": "Python [default]",
   "language": "python",
   "name": "python3"
  },
  "language_info": {
   "codemirror_mode": {
    "name": "ipython",
    "version": 3
   },
   "file_extension": ".py",
   "mimetype": "text/x-python",
   "name": "python",
   "nbconvert_exporter": "python",
   "pygments_lexer": "ipython3",
   "version": "3.5.2"
  }
 },
 "nbformat": 4,
 "nbformat_minor": 1
}
