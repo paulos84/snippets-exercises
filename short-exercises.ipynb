{
 "cells": [
  {
   "cell_type": "markdown",
   "metadata": {},
   "source": [
    "Write an iterator class reverse_iter, that takes a list and iterates it from the reverse direction. ::\n",
    "\n",
    "\\>>> it = reverse_iter([1, 2, 3, 4])"
   ]
  },
  {
   "cell_type": "code",
   "execution_count": 1,
   "metadata": {
    "collapsed": false
   },
   "outputs": [
    {
     "data": {
      "text/plain": [
       "4"
      ]
     },
     "execution_count": 1,
     "metadata": {},
     "output_type": "execute_result"
    }
   ],
   "source": [
    "class Reverser:\n",
    "    \n",
    "    def __init__(self, lst):\n",
    "        self.ind = 0\n",
    "        self.lst = lst\n",
    "        \n",
    "    def __iter__(self):\n",
    "        return self\n",
    "    \n",
    "    def __next__(self):\n",
    "        self.ind -= 1\n",
    "        try:\n",
    "            return self.lst[self.ind]\n",
    "        except IndexError:\n",
    "            raise StopIteration\n",
    "            \n",
    "r = Reverser([2,3,4])\n",
    "next(r)"
   ]
  },
  {
   "cell_type": "code",
   "execution_count": null,
   "metadata": {
    "collapsed": true
   },
   "outputs": [],
   "source": []
  },
  {
   "cell_type": "code",
   "execution_count": 20,
   "metadata": {
    "collapsed": false
   },
   "outputs": [
    {
     "data": {
      "text/plain": [
       "{'poo': 1}"
      ]
     },
     "execution_count": 20,
     "metadata": {},
     "output_type": "execute_result"
    }
   ],
   "source": [
    "class Base:\n",
    "    def __init__(self, poo):\n",
    "        self.poo = poo\n",
    "        \n",
    "    foo = 'bar'\n",
    "    def get(self):\n",
    "        return 2\n",
    "    \n",
    "class Child(Base):\n",
    "    pass\n",
    "\n",
    "a = Child(32)\n",
    "b = Base(1\n",
    ")\n",
    "b.foo\n",
    "b.__dict__"
   ]
  },
  {
   "cell_type": "code",
   "execution_count": 25,
   "metadata": {
    "collapsed": false
   },
   "outputs": [
    {
     "data": {
      "text/plain": [
       "<list_reverseiterator at 0x19cc131b470>"
      ]
     },
     "execution_count": 25,
     "metadata": {},
     "output_type": "execute_result"
    }
   ],
   "source": [
    "p = [1,2,3,4]\n",
    "p = reversed(p)\n",
    "p"
   ]
  },
  {
   "cell_type": "code",
   "execution_count": 26,
   "metadata": {
    "collapsed": false
   },
   "outputs": [
    {
     "name": "stdout",
     "output_type": "stream",
     "text": [
      "['', 'C:\\\\Users\\\\Paul\\\\Anaconda3\\\\python35.zip', 'C:\\\\Users\\\\Paul\\\\Anaconda3\\\\DLLs', 'C:\\\\Users\\\\Paul\\\\Anaconda3\\\\lib', 'C:\\\\Users\\\\Paul\\\\Anaconda3', 'C:\\\\Users\\\\Paul\\\\AppData\\\\Roaming\\\\Python\\\\Python35\\\\site-packages', 'C:\\\\Users\\\\Paul\\\\Anaconda3\\\\lib\\\\site-packages', 'C:\\\\Users\\\\Paul\\\\Anaconda3\\\\lib\\\\site-packages\\\\win32', 'C:\\\\Users\\\\Paul\\\\Anaconda3\\\\lib\\\\site-packages\\\\win32\\\\lib', 'C:\\\\Users\\\\Paul\\\\Anaconda3\\\\lib\\\\site-packages\\\\Pythonwin', 'C:\\\\Users\\\\Paul\\\\Anaconda3\\\\lib\\\\site-packages\\\\IPython\\\\extensions', 'C:\\\\Users\\\\Paul\\\\.ipython']\n"
     ]
    }
   ],
   "source": [
    "import sys\n",
    "print(sys.path)"
   ]
  },
  {
   "cell_type": "code",
   "execution_count": null,
   "metadata": {
    "collapsed": true
   },
   "outputs": [],
   "source": []
  }
 ],
 "metadata": {
  "anaconda-cloud": {},
  "kernelspec": {
   "display_name": "Python [default]",
   "language": "python",
   "name": "python3"
  },
  "language_info": {
   "codemirror_mode": {
    "name": "ipython",
    "version": 3
   },
   "file_extension": ".py",
   "mimetype": "text/x-python",
   "name": "python",
   "nbconvert_exporter": "python",
   "pygments_lexer": "ipython3",
   "version": "3.5.2"
  }
 },
 "nbformat": 4,
 "nbformat_minor": 2
}
