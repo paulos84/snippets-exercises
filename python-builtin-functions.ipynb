{
 "cells": [
  {
   "cell_type": "markdown",
   "metadata": {},
   "source": [
    "**Built-in Functions**"
   ]
  },
  {
   "cell_type": "markdown",
   "metadata": {},
   "source": [
    "**all**() returns True if all elements of the iterable are true (or if the iterable is empty)\n",
    "\n",
    "**any**() returns True if any element of the iterable is true. If the iterable is empty, return False\n",
    "\n",
    "<img src=\"images/truth_table.png\"  style=\"float: left;\">"
   ]
  },
  {
   "cell_type": "code",
   "execution_count": 16,
   "metadata": {
    "collapsed": false
   },
   "outputs": [
    {
     "name": "stdout",
     "output_type": "stream",
     "text": [
      "False False\n",
      "False True\n"
     ]
    }
   ],
   "source": [
    "falsy = [0, False, '', 0.0, [], {}, None]\n",
    "some_truth = [0, False, 'pie', 0.1, [], {}, None]\n",
    "print(all(falsy), all(some_true))\n",
    "print(any(falsy), any(some_true))"
   ]
  },
  {
   "cell_type": "code",
   "execution_count": 17,
   "metadata": {
    "collapsed": false
   },
   "outputs": [
    {
     "data": {
      "text/plain": [
       "'0b1010111010'"
      ]
     },
     "execution_count": 17,
     "metadata": {},
     "output_type": "execute_result"
    }
   ],
   "source": [
    "bin(698)"
   ]
  },
  {
   "cell_type": "code",
   "execution_count": 18,
   "metadata": {
    "collapsed": false
   },
   "outputs": [
    {
     "data": {
      "text/plain": [
       "True"
      ]
     },
     "execution_count": 18,
     "metadata": {},
     "output_type": "execute_result"
    }
   ],
   "source": [
    "# callabe() returns True if the object argument appears callable, False if not. \n",
    "# Class instances are callable if their class has a __call__() method.\n",
    "callable(len)"
   ]
  },
  {
   "cell_type": "markdown",
   "metadata": {
    "collapsed": false
   },
   "source": [
    "**chr**(i) returns the string representing a character whose Unicode code point is the integer i. For example, chr(97) returns the string 'a', while chr(8364) returns the string '€'. This is the inverse of ord() which if given a string representation, will return an integer representing the Unicode code point of that character. For example, ord('a') returns the integer 97 and ord('€') (Euro sign) returns 8364.\n",
    "\n",
    "**@classmethod** transforms a method into a class method. It can be called either on the class (such as C.f()) or on an instance (such as C().f()). The instance is ignored except for its class.\n",
    "\n",
    "**delattr**(object, name) is a relative of setattr(). The arguments are an object and a string. The string must be the name of one of the object’s attributes. The function deletes the named attribute, provided the object allows it. For example, delattr(x, 'foobar') is equivalent to del x.foobar.\n",
    "\n",
    "**dir**([object]) without arguments return the list of names in the current local scope. With an argument, attempt to return a list of valid attributes for that object. If the object has a method named \\__dir\\__(), this method will be called and must return the list of attributes. If the object does not provide \\__dir\\__(), the function tries its best to gather information from the object’s \\__dict\\__ attribute, if defined, and from its type object. The default dir() mechanism behaves differently with different types of objects, as it attempts to produce the most relevant, rather than complete, information:"
   ]
  },
  {
   "cell_type": "code",
   "execution_count": 6,
   "metadata": {
    "collapsed": false
   },
   "outputs": [
    {
     "name": "stdout",
     "output_type": "stream",
     "text": [
      "['In', 'Out', '_', '_1', '_3', '_5', '__', '___', '__builtin__', '__builtins__', '__doc__', '__loader__', '__name__', '__package__', '__spec__', '_dh', '_i', '_i1', '_i2', '_i3', '_i4', '_i5', '_i6', '_ih', '_ii', '_iii', '_oh', '_sh', 'exit', 'get_ipython', 'quit', 'random']\n"
     ]
    }
   ],
   "source": [
    "import random\n",
    "print(dir())  # show the names in the module namespace"
   ]
  },
  {
   "cell_type": "code",
   "execution_count": 7,
   "metadata": {
    "collapsed": false
   },
   "outputs": [
    {
     "name": "stdout",
     "output_type": "stream",
     "text": [
      "['BPF', 'LOG4', 'NV_MAGICCONST', 'RECIP_BPF', 'Random', 'SG_MAGICCONST', 'SystemRandom', 'TWOPI', '_BuiltinMethodType', '_MethodType', '_Sequence', '_Set', '__all__', '__builtins__', '__cached__', '__doc__', '__file__', '__loader__', '__name__', '__package__', '__spec__', '_acos', '_ceil', '_cos', '_e', '_exp', '_inst', '_log', '_pi', '_random', '_sha512', '_sin', '_sqrt', '_test', '_test_generator', '_urandom', '_warn', 'betavariate', 'choice', 'expovariate', 'gammavariate', 'gauss', 'getrandbits', 'getstate', 'lognormvariate', 'normalvariate', 'paretovariate', 'randint', 'random', 'randrange', 'sample', 'seed', 'setstate', 'shuffle', 'triangular', 'uniform', 'vonmisesvariate', 'weibullvariate']\n"
     ]
    }
   ],
   "source": [
    "print(dir(random))   # show the names in the random module "
   ]
  },
  {
   "cell_type": "code",
   "execution_count": 8,
   "metadata": {
    "collapsed": false
   },
   "outputs": [
    {
     "data": {
      "text/plain": [
       "['area', 'location', 'perimeter']"
      ]
     },
     "execution_count": 8,
     "metadata": {},
     "output_type": "execute_result"
    }
   ],
   "source": [
    "class Shape:\n",
    "    def __dir__(self):\n",
    "        return ['area', 'perimeter', 'location']\n",
    "s = Shape()\n",
    "dir(s)"
   ]
  },
  {
   "cell_type": "code",
   "execution_count": 9,
   "metadata": {
    "collapsed": false
   },
   "outputs": [
    {
     "data": {
      "text/plain": [
       "[(0, 'Spring'), (1, 'Summer'), (2, 'Fall'), (3, 'Winter')]"
      ]
     },
     "execution_count": 9,
     "metadata": {},
     "output_type": "execute_result"
    }
   ],
   "source": [
    "#  enumerate(iterable, start=0)\n",
    "seasons = ['Spring', 'Summer', 'Fall', 'Winter']\n",
    "list(enumerate(seasons))"
   ]
  },
  {
   "cell_type": "code",
   "execution_count": 10,
   "metadata": {
    "collapsed": true
   },
   "outputs": [],
   "source": [
    "# equivalent to:\n",
    "def enumerate(sequence, start=0):\n",
    "    n = start\n",
    "    for elem in sequence:\n",
    "        yield n, elem\n",
    "        n += 1"
   ]
  },
  {
   "cell_type": "markdown",
   "metadata": {},
   "source": [
    "**eval**(expression, globals=None, locals=None)\n",
    "Accepts a string as the expression argument, which is parsed and evaluated as a Python expression. "
   ]
  },
  {
   "cell_type": "code",
   "execution_count": 12,
   "metadata": {
    "collapsed": false
   },
   "outputs": [
    {
     "data": {
      "text/plain": [
       "3"
      ]
     },
     "execution_count": 12,
     "metadata": {},
     "output_type": "execute_result"
    }
   ],
   "source": [
    "n = 2\n",
    "eval('n+1')"
   ]
  },
  {
   "cell_type": "markdown",
   "metadata": {},
   "source": [
    "**exec**(object[, globals[, locals]]) supports dynamic execution of Python code. object must be either a string or a code object. If it is a string, the string is parsed as a suite of Python statements which is then executed. If it is a code object the code is expected to be valid as file input."
   ]
  },
  {
   "cell_type": "markdown",
   "metadata": {},
   "source": [
    "**filter**(function, iterable)\n",
    "\n",
    "Construct an iterator from those elements of iterable for which function returns true. Iterable may be either a sequence, a container which supports iteration, or an iterator. If first argument is None filter automatically removes all the elements that evaluate to False in boolean context:\n"
   ]
  },
  {
   "cell_type": "code",
   "execution_count": 6,
   "metadata": {
    "collapsed": false
   },
   "outputs": [
    {
     "data": {
      "text/plain": [
       "[7, 3, 5, 9]"
      ]
     },
     "execution_count": 6,
     "metadata": {},
     "output_type": "execute_result"
    }
   ],
   "source": [
    "foo = [7, 3, 0, 5, 0, 9]\n",
    "list(filter(None, foo))"
   ]
  },
  {
   "cell_type": "code",
   "execution_count": 5,
   "metadata": {
    "collapsed": false
   },
   "outputs": [
    {
     "data": {
      "text/plain": [
       "[1, 3, 5, 3]"
      ]
     },
     "execution_count": 5,
     "metadata": {},
     "output_type": "execute_result"
    }
   ],
   "source": [
    "list(a for a in foo if item)"
   ]
  },
  {
   "cell_type": "code",
   "execution_count": 7,
   "metadata": {
    "collapsed": false
   },
   "outputs": [
    {
     "data": {
      "text/plain": [
       "[7, 5, 9]"
      ]
     },
     "execution_count": 7,
     "metadata": {},
     "output_type": "execute_result"
    }
   ],
   "source": [
    "def truth_test(my_int):\n",
    "    if my_int >= 5:\n",
    "        return True\n",
    "list((a for a in foo if truth_test(a)))"
   ]
  },
  {
   "cell_type": "markdown",
   "metadata": {
    "collapsed": true
   },
   "source": [
    "**frozenset**([iterable]) is an immutable version of set\n",
    "\n",
    "**getattr**(object, name[, default]) return the value of the named attribute of object. name must be a string. If the string is the name of one of the object’s attributes, the result is the value of that attribute. For example, getattr(x, 'foobar') is equivalent to x.foobar:"
   ]
  },
  {
   "cell_type": "code",
   "execution_count": 8,
   "metadata": {
    "collapsed": false
   },
   "outputs": [
    {
     "data": {
      "text/plain": [
       "['abc', 'abc', 'xyz']"
      ]
     },
     "execution_count": 8,
     "metadata": {},
     "output_type": "execute_result"
    }
   ],
   "source": [
    "class HasA:\n",
    "    a = 'abc'\n",
    "\n",
    "class HasNot:\n",
    "    pass\n",
    "\n",
    "hasa =HasA()\n",
    "hastoo =HasA()\n",
    "hasnot = HasNot()\n",
    "\n",
    "[getattr(x, 'a', 'xyz') for x in [hasa, hastoo, hasnot]]"
   ]
  },
  {
   "cell_type": "code",
   "execution_count": 10,
   "metadata": {
    "collapsed": false
   },
   "outputs": [
    {
     "data": {
      "text/plain": [
       "[True, True, False]"
      ]
     },
     "execution_count": 10,
     "metadata": {},
     "output_type": "execute_result"
    }
   ],
   "source": [
    "[hasattr(x, 'a') for x in [hasa, hastoo, hasnot]]"
   ]
  },
  {
   "cell_type": "markdown",
   "metadata": {},
   "source": [
    "**help**([object]) If the argument is a string, then the string is looked up as the name of a module, function, class, method, keyword, or documentation topic, and a help page is printed on the console.\n",
    "\n",
    "**hex**(x) converts an integer number to a lowercase hexadecimal string prefixed with “0x”:"
   ]
  },
  {
   "cell_type": "code",
   "execution_count": 11,
   "metadata": {
    "collapsed": false
   },
   "outputs": [
    {
     "data": {
      "text/plain": [
       "'0x2a'"
      ]
     },
     "execution_count": 11,
     "metadata": {},
     "output_type": "execute_result"
    }
   ],
   "source": [
    "hex(42)"
   ]
  },
  {
   "cell_type": "markdown",
   "metadata": {},
   "source": [
    "**id**(object) returns the “identity” of an object. This is an integer which is guaranteed to be unique and constant for this object during its lifetime.\n",
    "\n",
    "**isinstance**(object, classinfo) returns true if the object argument is an instance of the classinfo argument, or of a (direct, indirect or virtual) subclass thereof. If classinfo is a tuple of type objects (or recursively, other such tuples), return true if object is an instance of any of the types. If classinfo is not a type or tuple of types and such tuples, a TypeError exception is raised.\n",
    "\n",
    "**issubclass**(class, classinfo) returns True if class is a subclass (direct, indirect or virtual) of classinfo. A class is considered a subclass of itself."
   ]
  },
  {
   "cell_type": "code",
   "execution_count": 15,
   "metadata": {
    "collapsed": false
   },
   "outputs": [
    {
     "data": {
      "text/plain": [
       "True"
      ]
     },
     "execution_count": 15,
     "metadata": {},
     "output_type": "execute_result"
    }
   ],
   "source": [
    "isinstance([], (list, tuple))"
   ]
  },
  {
   "cell_type": "markdown",
   "metadata": {},
   "source": [
    "**open**(file, mode='r', buffering=-1, encoding=None, errors=None ...) opens a path-like object giving the pathname (absolute or relative to the current working directory). mode is an optional string that specifies the mode in which the file is opened. It defaults to 'r' which means open for reading in text mode. Other common values are 'w' for writing (truncating the file if it already exists).\n",
    "\n",
    "**pow**(x, y[, z]) returns x to the power y; if z is present, return x to the power y, modulo z (computed more efficiently than pow(x, y) % z). The two-argument form pow(x, y) is equivalent to using the power operator: x\\**y.\n",
    "\n",
    "**print**(*objects, sep=' ', end='\\n', file=sys.stdout, flush=False) prints objects to the text stream file, separated by sep and followed by end."
   ]
  },
  {
   "cell_type": "code",
   "execution_count": 34,
   "metadata": {
    "collapsed": false
   },
   "outputs": [
    {
     "name": "stdout",
     "output_type": "stream",
     "text": [
      "None\n",
      "4\n"
     ]
    },
    {
     "data": {
      "text/plain": [
       "'no attribute x'"
      ]
     },
     "execution_count": 34,
     "metadata": {},
     "output_type": "execute_result"
    }
   ],
   "source": [
    "# property\n",
    "class C:\n",
    "    def __init__(self):\n",
    "        self._x = None\n",
    "\n",
    "    @property\n",
    "    def x(self):\n",
    "        \"\"\"I'm the 'x' property.\"\"\"\n",
    "        return self._x\n",
    "\n",
    "    @x.setter\n",
    "    def x(self, value):\n",
    "        self._x = value\n",
    "\n",
    "    @x.deleter\n",
    "    def x(self):\n",
    "        del self._x\n",
    "c = C()\n",
    "print(c.x)\n",
    "c.x = 4\n",
    "print(c.x)\n",
    "del c.x\n",
    "getattr(c, 'x', 'no attribute x')"
   ]
  },
  {
   "cell_type": "markdown",
   "metadata": {},
   "source": [
    "**reversed**(seq) returns a reverse iterator:"
   ]
  },
  {
   "cell_type": "code",
   "execution_count": 36,
   "metadata": {
    "collapsed": false
   },
   "outputs": [
    {
     "data": {
      "text/plain": [
       "[4, 3, 2, 1]"
      ]
     },
     "execution_count": 36,
     "metadata": {},
     "output_type": "execute_result"
    }
   ],
   "source": [
    "[a for a in reversed([1,2,3,4])]"
   ]
  },
  {
   "cell_type": "markdown",
   "metadata": {},
   "source": [
    "**round**(number[, ndigits]) returns the number rounded to ndigits precision after the decimal point. If ndigits is omitted or is None, it returns the nearest integer\n",
    "\n",
    "**setattr**(object, name, value) is the counterpart of getattr(). The arguments are an object, a string and an arbitrary value. The string may name an existing attribute or a new attribute. The function assigns the value to the attribute, provided the object allows it. For example, setattr(x, 'foobar', 123) is equivalent to x.foobar = 123.\n",
    "\n",
    "**super**([type[, object-or-type]]) delegates method calls to a parent or sibling class of type. This is useful for accessing inherited methods that have been overridden in a class. "
   ]
  },
  {
   "cell_type": "code",
   "execution_count": 39,
   "metadata": {
    "collapsed": false
   },
   "outputs": [
    {
     "data": {
      "text/plain": [
       "(__main__.Fourth, __main__.Second, __main__.Third, __main__.First, object)"
      ]
     },
     "execution_count": 39,
     "metadata": {},
     "output_type": "execute_result"
    }
   ],
   "source": [
    "class First:\n",
    "    def __init__(self):\n",
    "        print('first')\n",
    "\n",
    "class Second(First):\n",
    "    def __init__(self):\n",
    "        print(\"second\")\n",
    "\n",
    "class Third(First):\n",
    "    def __init__(self):\n",
    "        print(\"third\")\n",
    "\n",
    "class Fourth(Second, Third):\n",
    "    def __init__(self):\n",
    "        super(Fourth, self).__init__()\n",
    "        print(\"that's it\")\n",
    "\n",
    "# for Fourth the MRO would be [Fourth, Second, Third, First]:\n",
    "Fourth.__mro__"
   ]
  }
 ],
 "metadata": {
  "anaconda-cloud": {},
  "kernelspec": {
   "display_name": "Python [default]",
   "language": "python",
   "name": "python3"
  },
  "language_info": {
   "codemirror_mode": {
    "name": "ipython",
    "version": 3
   },
   "file_extension": ".py",
   "mimetype": "text/x-python",
   "name": "python",
   "nbconvert_exporter": "python",
   "pygments_lexer": "ipython3",
   "version": "3.5.2"
  }
 },
 "nbformat": 4,
 "nbformat_minor": 1
}
