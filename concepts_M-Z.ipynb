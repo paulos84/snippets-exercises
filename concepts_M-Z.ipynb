{
 "cells": [
  {
   "cell_type": "markdown",
   "metadata": {},
   "source": [
    "**Metaclasses**\n",
    "\n",
    "The class that defines the creation of a class. Class definitions create a class name, a class dictionary, and a list of base classes. The metaclass is responsible for taking those three arguments and creating the class. The let you intercept the class statement and provide special behaviour each time a class is defined. They are powerful and can create unexpected behaviours; it is possible to create custom metaclasses, though most users never need to. The default metaclass is 'type':"
   ]
  },
  {
   "cell_type": "code",
   "execution_count": 12,
   "metadata": {
    "collapsed": false
   },
   "outputs": [
    {
     "data": {
      "text/plain": [
       "'bar'"
      ]
     },
     "execution_count": 12,
     "metadata": {},
     "output_type": "execute_result"
    }
   ],
   "source": [
    "MyClass = type('Foo', (object,), {'foo': 'bar'})\n",
    "a = MyClass()\n",
    "a.foo"
   ]
  },
  {
   "cell_type": "markdown",
   "metadata": {
    "collapsed": true
   },
   "source": [
    "**Method resolution order**\n",
    "When you have a hierarchy of classes, how does Python decide which method to use when  MyClass.\\__mro\\__ will gives a tuple showing the order in which methods and attributes will be looked up:"
   ]
  },
  {
   "cell_type": "code",
   "execution_count": 13,
   "metadata": {
    "collapsed": false
   },
   "outputs": [
    {
     "data": {
      "text/plain": [
       "(__main__.Labrador, __main__.Dog, __main__.Animal, object)"
      ]
     },
     "execution_count": 13,
     "metadata": {},
     "output_type": "execute_result"
    }
   ],
   "source": [
    "class Animal(object):\n",
    "    pass\n",
    "\n",
    "class Dog(Animal):\n",
    "    pass\n",
    "\n",
    "class Labrador(Dog):\n",
    "    pass\n",
    "\n",
    "Labrador.__mro__"
   ]
  },
  {
   "cell_type": "markdown",
   "metadata": {},
   "source": [
    "The MRO in action:"
   ]
  },
  {
   "cell_type": "code",
   "execution_count": 14,
   "metadata": {
    "collapsed": false
   },
   "outputs": [
    {
     "name": "stdout",
     "output_type": "stream",
     "text": [
      "In C\n"
     ]
    }
   ],
   "source": [
    "class A(object):\n",
    "    def foo(self):\n",
    "        print('In A')\n",
    "\n",
    "class B(A):\n",
    "    pass\n",
    "\n",
    "class C(A):\n",
    "    def foo(self):\n",
    "        print('In C')\n",
    "        \n",
    "class D(B, C):\n",
    "    pass\n",
    "\n",
    "d = D()\n",
    "d.foo()"
   ]
  },
  {
   "cell_type": "markdown",
   "metadata": {},
   "source": [
    "**Multiprocessing and multithreading**\n",
    "\n",
    "Concurrency is when two or more tasks can start, run, and complete in overlapping time periods. It doesn't necessarily mean they'll ever both be running at the same instant. Eg. multitasking on a single-core machine. Parallelism is when two or more tasks  run at the same time, e.g. on a multicore processor. Concurrency can be characterized as a property of a program or system and parallelism as the run-time behaviour of executing multiple tasks at the same time. "
   ]
  },
  {
   "cell_type": "markdown",
   "metadata": {},
   "source": [
    "![](images/concurrency_parallelism.png)\n",
    "If we ran this program on a computer with a single CPU core, the OS would be switching between the two threads, allowing one thread to run at a time. If we ran this program on a computer with a multi-core CPU then we would be able to run the two threads in parallel - side by side at the exact same time\n",
    "\n",
    "A thread is a sequence of instructions within a process. It can be thought of as a lightweight process. Threads share the same memory space. A process is an instance of a program running in a computer which can contain one or more threads. A process has its independant memory space. \n",
    "    \n",
    "The threading module is used for working with threads in Python. The CPython implementation has a Global Interpreter Lock (GIL) which allows only one thread to be active in the interpreter at once. The mechanism used by the CPython interpreter to assure that only one thread executes Python bytecode at a time. This simplifies the CPython implementation by making the object model (including critical built-in types such as dict) implicitly safe against concurrent access. Locking the entire interpreter makes it easier for the interpreter to be multi-threaded, at the expense of much of the parallelism afforded by multi-processor machines. This means that threads cannot be used for parallel execution of Python code. While parallel CPU computation is not possible, parallel IO operations are possible using threads. This is because performing IO operations releases the GIL. What are threads used for in Python? \n",
    "\n",
    "    In GUI applications to keep the UI thread responsive\n",
    "\n",
    "    IO tasks (network IO or filesystem IO)\n",
    "\n",
    "Using threads for these tasks improves performance, since in network IO for example, most of the time is spent waiting for a response from the URL. Threads should not be used for CPU bound tasks as this will actually result in worse performance compared to using a single thread.\n",
    "\n",
    "For parallel execution of tasks use multiprocessing, a package that supports spawning processes using an API similar to the threading module. It side-steps the GIL by using subprocesses instead of threads. The Pool object which offers a convenient means of parallelizing the execution of a function across multiple input values, distributing the input data across processes (data parallelism)."
   ]
  },
  {
   "cell_type": "markdown",
   "metadata": {},
   "source": [
    "**Mutable default arguments**\n",
    "\n",
    "In the following example, the list object has an empty list as a default value. This assignment is carried out only when the function definition is first evaluated. "
   ]
  },
  {
   "cell_type": "code",
   "execution_count": 28,
   "metadata": {
    "collapsed": true
   },
   "outputs": [],
   "source": [
    "def func1(item, lst=[]):\n",
    "    lst.append(item)\n",
    "    return lst\n",
    "\n",
    "def func2 (item, lst=None):\n",
    "    if lst is None: \n",
    "        lst = []\n",
    "    lst.append(item)\n",
    "    return lst"
   ]
  },
  {
   "cell_type": "markdown",
   "metadata": {},
   "source": [
    "A new list is created each time the function is called if a second argument isn’t provided, so that the output is as follows:"
   ]
  },
  {
   "cell_type": "code",
   "execution_count": 29,
   "metadata": {
    "collapsed": false
   },
   "outputs": [
    {
     "name": "stdout",
     "output_type": "stream",
     "text": [
      "[[0, 1, 2], [0, 1, 2], [0, 1, 2]]\n"
     ]
    }
   ],
   "source": [
    "print([func1(i) for i in range(3)])"
   ]
  },
  {
   "cell_type": "markdown",
   "metadata": {},
   "source": [
    "This feature gives speed and memory boosts, as in most cases you will have immutable default arguments and Python can construct them just once, instead of on every function call. Another benefit is simplicity, as it is easier to understand how the expression is evaluated and thereby make debugging easier. \n",
    "\n",
    "To avoid this, the mutable objects used as defaults should be replaced by None, and then the arguments tested for None:"
   ]
  },
  {
   "cell_type": "code",
   "execution_count": 30,
   "metadata": {
    "collapsed": false,
    "scrolled": true
   },
   "outputs": [
    {
     "name": "stdout",
     "output_type": "stream",
     "text": [
      "[[0], [1], [2]]\n"
     ]
    }
   ],
   "source": [
    "print([func2(i) for i in range(3)])"
   ]
  },
  {
   "cell_type": "markdown",
   "metadata": {
    "collapsed": true
   },
   "source": [
    "**Polymorphism**\n",
    "\n",
    "Refers to the ability of an object to provide different behaviors (use different implementations) depending on its own nature. Specifically, depending on its position in the class hierarchy. Polymorphism is declaring a uniform interface that isn't type aware, leaving implementation details to concrete types that implement the interface. It allows the expression of some sort of contract, with potentially many types implementing that contract (whether through class inheritance or not) in different ways, each according to their own purpose. Code using that contract should not(*) have to care about which implementation is involved, only that the contract will be obeyed.\n",
    "\n",
    "Polymorphism can be achieved by *method overriding*,  when a method defined in a superclass or interface is re-defined by one of its subclasses, thus modifying/replacing the behavior the superclass provides. Notice the signature of the method remains the same when overriding. *Method overloading* is unrelated to polymorphism. It refers to defining different forms of a method. In this case the signature of the method is changed. "
   ]
  },
  {
   "cell_type": "markdown",
   "metadata": {
    "collapsed": true
   },
   "source": [
    "**Property decorator and the uniform access principle** \n",
    "\n",
    "Python code strives to adhere to the Uniform Access Principle; the are no truly 'protected' or 'private' attributes. Getters and setters are used in many object oriented programming languages to ensure the principle of data encapsulation (the bundling of data with the methods that operate on these data). The accepted approach in Python is to xxpose your instance variables directly, e.g. foo.x = 0, not foo.set_x(0), which preserves the access semantics. The main advantage to this approach is that the caller gets to do this: foo.x += 1 instead of the less-readable: foo.set_x(foo.get_x() + 1)\n",
    "\n",
    "Instance variables starting with a single underscore are conventionally private; not to be messed with directly. and they shouldn't mess with it directly. With double underscore, Python mangles the name but the variable is still accessible from outside.\n",
    "\n",
    "If you need to wrap the access variables assigned by methods use @property. Getter, setter and deleter methods enable you to set an attribute using a function. Getting access is the same and the setter method allows you to have functionality of normal class attribute assignment. You can start with the simplest implementation imaginable, and you are free to later migrate to a version which preserves the access semantics and so avoids having to change the interface.\n",
    "\n",
    "Specifying a `setter` on a property also lets you perform type checking and validation on values passed to the class:"
   ]
  },
  {
   "cell_type": "code",
   "execution_count": 15,
   "metadata": {
    "collapsed": false
   },
   "outputs": [],
   "source": [
    "class A(object):\n",
    "    _x = 0\n",
    "    '''A._x is an attribute'''\n",
    "\n",
    "    @property\n",
    "    def x(self):\n",
    "        '''\n",
    "        A.x is a property\n",
    "        This is the getter method\n",
    "        '''\n",
    "        return self._x\n",
    "\n",
    "    @x.setter\n",
    "    def x(self, value):\n",
    "        \"\"\"\n",
    "        This is the setter method\n",
    "        where I can check it's not assigned a value < 0\n",
    "        \"\"\"\n",
    "        if value < 0:\n",
    "            raise ValueError(\"Must be >= 0\")\n",
    "        self._x = value\n",
    "\n",
    "a = A()\n",
    "a._x = -1 \n",
    "a.x = 2\n",
    "# raises ValueError:\n",
    "# a.x = -1 "
   ]
  },
  {
   "cell_type": "code",
   "execution_count": 32,
   "metadata": {
    "collapsed": false
   },
   "outputs": [
    {
     "data": {
      "text/plain": [
       "0.024"
      ]
     },
     "execution_count": 32,
     "metadata": {},
     "output_type": "execute_result"
    }
   ],
   "source": [
    "class Resistor(object):\n",
    "    def __init__(self, ohms):\n",
    "        self.ohms = ohms\n",
    "        self.voltage = 0\n",
    "        self.current = 0   \n",
    "\n",
    "        \n",
    "class VoltageResistor(Resistor):\n",
    "    \"\"\" Migrate to property decorator to allow current to be varied by assigning the voltage property \"\"\"\n",
    "    def __init__(self, ohms):\n",
    "        super().__init__(ohms)\n",
    "        self._voltage = 0\n",
    "        \n",
    "    @property \n",
    "    def voltage(self):\n",
    "        return self._voltage\n",
    "    \n",
    "    @voltage.setter\n",
    "    def voltage(self, voltage):\n",
    "        self._voltage = voltage\n",
    "        self.current = self._voltage / self.ohms\n",
    "        \n",
    "        \n",
    "class FixedResistor(Resistor):\n",
    "    \"\"\" Use @property to make attribtues from parent classes immutable \"\"\"\n",
    "    def __init__(self, ohms):\n",
    "        super().__init__(ohms)\n",
    "        self._ohms = ohms\n",
    "        \n",
    "    @property\n",
    "    def ohms(self):\n",
    "        return self._ohms\n",
    "    \n",
    "    @ohms.setter\n",
    "    def ohms(self, ohms):\n",
    "        if hasattr(self, 'ohms'):\n",
    "            raise AttributeError(\"Can't set attribute\")\n",
    "        self._ohms = ohms\n",
    "        \n",
    "r1 = Resistor(500)\n",
    "r2 = VoltageResistor(500)\n",
    "r3 = FixedResistor(500)\n",
    "\n",
    "# Immutable, would raise AttributeError:\n",
    "# r3.ohms = 5\n",
    "r2.voltage = 12\n",
    "r2.current"
   ]
  },
  {
   "cell_type": "markdown",
   "metadata": {
    "collapsed": true
   },
   "source": [
    "**Recursion**\n",
    "\n",
    "A function is recursive if it calls itself and has a termination condition. Why a termination condition? To stop the function from calling itself ad infinity. An example of recursion in English: “A human is someone whose mother is human”. Also, a tree diagram where each branch is like a new tree.\n",
    "\n",
    "The two key elements of a recursive algorithm are:\n",
    "\n",
    "The termination condition: n == 0\n",
    "The reduction step where the function calls itself with a smaller number each time: factorial(n - 1)"
   ]
  },
  {
   "cell_type": "code",
   "execution_count": 2,
   "metadata": {
    "collapsed": false
   },
   "outputs": [
    {
     "name": "stderr",
     "output_type": "stream",
     "text": [
      "WARNING:root:3\n",
      "WARNING:root:2\n",
      "WARNING:root:1\n"
     ]
    },
    {
     "data": {
      "text/plain": [
       "6"
      ]
     },
     "execution_count": 2,
     "metadata": {},
     "output_type": "execute_result"
    }
   ],
   "source": [
    "import logging\n",
    "\n",
    "def factorial(n):\n",
    "    if n == 0:\n",
    "        return 1\n",
    "    else:\n",
    "        logging.warning(n)\n",
    "        return n * factorial(n - 1)\n",
    "\n",
    "factorial(3)"
   ]
  },
  {
   "cell_type": "code",
   "execution_count": null,
   "metadata": {
    "collapsed": true
   },
   "outputs": [],
   "source": []
  },
  {
   "cell_type": "markdown",
   "metadata": {},
   "source": [
    "**Strong-typing** You cannot coerce objects into a different type by any kind of inferring, as in weakly-typed languages. In so, the object type is more explicit.\n",
    "\n"
   ]
  },
  {
   "cell_type": "markdown",
   "metadata": {},
   "source": [
    "**sys**"
   ]
  },
  {
   "cell_type": "code",
   "execution_count": 5,
   "metadata": {
    "collapsed": false
   },
   "outputs": [
    {
     "data": {
      "text/plain": [
       "'win32'"
      ]
     },
     "execution_count": 5,
     "metadata": {},
     "output_type": "execute_result"
    }
   ],
   "source": [
    "# sys.path\n",
    "sys.platform"
   ]
  },
  {
   "cell_type": "code",
   "execution_count": null,
   "metadata": {
    "collapsed": true
   },
   "outputs": [],
   "source": []
  }
 ],
 "metadata": {
  "anaconda-cloud": {},
  "kernelspec": {
   "display_name": "Python [default]",
   "language": "python",
   "name": "python3"
  },
  "language_info": {
   "codemirror_mode": {
    "name": "ipython",
    "version": 3
   },
   "file_extension": ".py",
   "mimetype": "text/x-python",
   "name": "python",
   "nbconvert_exporter": "python",
   "pygments_lexer": "ipython3",
   "version": "3.5.2"
  }
 },
 "nbformat": 4,
 "nbformat_minor": 1
}
