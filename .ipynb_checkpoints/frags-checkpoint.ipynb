{
 "cells": [
  {
   "cell_type": "code",
   "execution_count": 9,
   "metadata": {},
   "outputs": [
    {
     "name": "stdout",
     "output_type": "stream",
     "text": [
      "- model: compounds.compound\n",
      "  pk: 230\n",
      "  fields:\n",
      "    cas_number: 23726-94-5\n",
      "    smiles: C\\C=C/C(=O)C1C(=CCCC1(C)C)C\n",
      "    iupac_name: (Z)-1-(2,6,6-trimethyl-1-cyclohex-2-enyl)but-2-en-1-one\n",
      "- model: compounds.compound\n",
      "  pk: 231\n",
      "  fields:\n",
      "    cas_number: 94-86-0\n",
      "    smiles: CCOc1ccc(\\C=C\\C)cc1O\n",
      "    iupac_name: 2-ethoxy-5-[(E)-prop-1-enyl]phenol\n",
      "- model: compounds.compound\n",
      "  pk: 232\n",
      "  fields:\n",
      "    cas_number: 928-95-0\n",
      "    smiles: CCC/C=C/CO\n",
      "    iupac_name: Hex-2-en-1-ol\n",
      "- model: compounds.compound\n",
      "  pk: 233\n",
      "  fields:\n",
      "    cas_number: 5989-54-8\n",
      "    smiles: CC(=C)[C@H]1CCC(=CC1)C\n",
      "    iupac_name: (4S)-1-methyl-4-prop-1-en-2-ylcyclohexene\n"
     ]
    }
   ],
   "source": [
    "from collections import namedtuple\n",
    "import re\n",
    "import sys\n",
    "\n",
    "import cirpy\n",
    "import ruamel.yaml\n",
    "from ruamel.yaml.parser import ParserError\n",
    "\n",
    "with open('C:\\\\Users\\\\Paul\\\\cas.txt', encoding=\"utf8\") as w:\n",
    "    r = w.read()\n",
    "\n",
    "m = re.findall('\\[[^\\[\\]]*\\]', r)\n",
    "lst = []\n",
    "for a in m:\n",
    "    lst.append(re.findall(r'\\d+(?:-\\d+)+',a))\n",
    "[a[0] for a in lst if len(a) >0]\n",
    "cases = [a[0] for a in lst if len(a) >0]\n",
    "cases = list(set(cases))\n",
    "\n",
    "MolFields = namedtuple('MolFields', ['cas_no', 'smiles', 'name'])\n",
    "\n",
    "mol_fields = []\n",
    "for cas_no in cases[:10]:\n",
    "    cirpy_query = cirpy.query(cas_no, 'smiles')\n",
    "    if cirpy_query:\n",
    "        mol_fields.append({\n",
    "            'cas_no': cas_no, \n",
    "            'smiles': cirpy_query[0].value,\n",
    "            'name': cirpy.Molecule(cirpy_query[0].value).iupac_name\n",
    "        })\n",
    "\n",
    "for index, mol in enumerate(mol_fields):\n",
    "    if not mol.get('name'):\n",
    "        continue\n",
    "    if isinstance(mol['name'], list):\n",
    "        mol['name'] = mol['name'][0]\n",
    "    if mol['name'].isupper():\n",
    "        mol['name'] = mol['name'].lower()\n",
    "    inp = \"\"\"\\\n",
    "    - model: compounds.compound\n",
    "      pk: {}\n",
    "      fields:\n",
    "        cas_number: {}\n",
    "        smiles: {}\n",
    "        iupac_name: {}\n",
    "    \"\"\".format(index + 230, mol['cas_no'], mol['smiles'], mol['name'])\n",
    "    try:\n",
    "        code = ruamel.yaml.load(inp, ruamel.yaml.RoundTripLoader)\n",
    "    except ParserError:\n",
    "        continue\n",
    "    ruamel.yaml.dump(code, sys.stdout, Dumper=ruamel.yaml.RoundTripDumper)"
   ]
  },
  {
   "cell_type": "code",
   "execution_count": 8,
   "metadata": {},
   "outputs": [
    {
     "data": {
      "text/plain": [
       "[Fields(cas_no='126-91-0', smiles='CC(C)=CCC[C@@](C)(O)C=C', name='(3R)-3,7-dimethylocta-1,6-dien-3-ol'),\n",
       " Fields(cas_no='638-17-5', smiles='CC1NC(C)SC(C)S1', name=None),\n",
       " Fields(cas_no='58985-18-5', smiles='CC1CCC(CC1)C(C)(C)OC(C)=O', name='2-(4-methylcyclohexyl)propan-2-yl acetate'),\n",
       " Fields(cas_no='29066-34-0', smiles='CC(C)[C@H]1CC[C@H](C)C[C@@H]1OC(C)=O', name='[(1S,2R,5S)-5-methyl-2-propan-2-ylcyclohexyl] acetate'),\n",
       " Fields(cas_no='63500-71-0', smiles='CC(C)CC1CC(C)(O)CCO1', name='4-methyl-2-(2-methylpropyl)oxan-4-ol'),\n",
       " Fields(cas_no='41199-19-3', smiles='CC1(O)CCC2C(=CCCC2(C)C)C1', name='2,5,5-trimethyl-1,3,4,4a,6,7-hexahydronaphthalen-2-ol')]"
      ]
     },
     "execution_count": 8,
     "metadata": {},
     "output_type": "execute_result"
    }
   ],
   "source": [
    "cas_nos"
   ]
  },
  {
   "cell_type": "code",
   "execution_count": null,
   "metadata": {},
   "outputs": [],
   "source": [
    "for i, v in enumerate(cas_nos):\n",
    "    if not v.name:\n",
    "        continue\n",
    "    if isinstance(v.name, list):\n",
    "        v.name = v.name[0]\n",
    "    inp = \"\"\"\\\n",
    "    - model: compounds.compound\n",
    "      pk: {}\n",
    "      fields:\n",
    "        cas_number: {}\n",
    "        smiles: {}\n",
    "        iupac_name: {}\n",
    "    \"\"\".format(i+44, v[0], v[1], v[2])\n",
    "    try:\n",
    "        code = ruamel.yaml.load(inp, ruamel.yaml.RoundTripLoader)\n",
    "    except ParserError:\n",
    "        continue\n",
    "    ruamel.yaml.dump(code, sys.stdout, Dumper=ruamel.yaml.RoundTripDumper)"
   ]
  },
  {
   "cell_type": "code",
   "execution_count": null,
   "metadata": {},
   "outputs": [],
   "source": []
  },
  {
   "cell_type": "code",
   "execution_count": 13,
   "metadata": {},
   "outputs": [
    {
     "data": {
      "text/plain": [
       "498"
      ]
     },
     "execution_count": 13,
     "metadata": {},
     "output_type": "execute_result"
    }
   ],
   "source": [
    "from collections import namedtuple\n",
    "import re\n",
    "import sys\n",
    "\n",
    "import cirpy\n",
    "import ruamel.yaml\n",
    "from ruamel.yaml.parser import ParserError\n",
    "\n",
    "with open('C:\\\\Users\\\\Paul\\\\cas.txt', encoding=\"utf8\") as w:\n",
    "    r = w.read()\n",
    "\n",
    "m = re.findall('\\[[^\\[\\]]*\\]', r)\n",
    "lst = []\n",
    "for a in set(m):\n",
    "    lst.append(re.findall(r'\\d+(?:-\\d+)+',a))\n",
    "[a[0] for a in lst if len(a) >0]\n",
    "cases = [a[0] for a in lst if len(a) >0]\n",
    "\n",
    "\n",
    "len(cases)"
   ]
  },
  {
   "cell_type": "code",
   "execution_count": 16,
   "metadata": {},
   "outputs": [
    {
     "name": "stdout",
     "output_type": "stream",
     "text": [
      "Help on function dump in module ruamel.yaml.main:\n",
      "\n",
      "dump(data, stream=None, Dumper=<class 'ruamel.yaml.dumper.Dumper'>, default_style=None, default_flow_style=None, canonical=None, indent=None, width=None, allow_unicode=None, line_break=None, encoding=None, explicit_start=None, explicit_end=None, version=None, tags=None, block_seq_indent=None)\n",
      "    Serialize a Python object into a YAML stream.\n",
      "    If stream is None, return the produced string instead.\n",
      "    \n",
      "    default_style ∈ None, '', '\"', \"'\", '|', '>'\n",
      "\n"
     ]
    }
   ],
   "source": [
    "help(ruamel.yaml.dump)"
   ]
  },
  {
   "cell_type": "code",
   "execution_count": null,
   "metadata": {},
   "outputs": [],
   "source": []
  }
 ],
 "metadata": {
  "anaconda-cloud": {},
  "kernelspec": {
   "display_name": "Python [default]",
   "language": "python",
   "name": "python3"
  },
  "language_info": {
   "codemirror_mode": {
    "name": "ipython",
    "version": 3
   },
   "file_extension": ".py",
   "mimetype": "text/x-python",
   "name": "python",
   "nbconvert_exporter": "python",
   "pygments_lexer": "ipython3",
   "version": "3.5.2"
  }
 },
 "nbformat": 4,
 "nbformat_minor": 2
}
