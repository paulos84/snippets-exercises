{
 "cells": [
  {
   "cell_type": "markdown",
   "metadata": {},
   "source": [
    "**Metaclasses**\n",
    "\n",
    "The class of a class. Class definitions create a class name, a class dictionary, and a list of base classes. The metaclass is responsible for taking those three arguments and creating the class. The let you intercept the class statement and provide special behaviour each time a class is defined. They are powerful and can create unexpected behaviours; it is possible to create custom metaclasses, though most users never need to."
   ]
  },
  {
   "cell_type": "code",
   "execution_count": null,
   "metadata": {
    "collapsed": true
   },
   "outputs": [],
   "source": [
    "MRO  dict __mro__"
   ]
  },
  {
   "cell_type": "code",
   "execution_count": null,
   "metadata": {
    "collapsed": true
   },
   "outputs": [],
   "source": []
  },
  {
   "cell_type": "markdown",
   "metadata": {},
   "source": [
    "**Multiprocessing and multithreading**\n",
    "\n",
    "Concurrency is when two or more tasks can start, run, and complete in overlapping time periods. It doesn't necessarily mean they'll ever both be running at the same instant. Eg. multitasking on a single-core machine. Parallelism is when two or more tasks  run at the same time, e.g. on a multicore processor. Concurrency can be characterized as a property of a program or system and parallelism as the run-time behaviour of executing multiple tasks at the same time. "
   ]
  },
  {
   "cell_type": "markdown",
   "metadata": {},
   "source": [
    "![](images/concurrency_parallelism.png)\n",
    "If we ran this program on a computer with a single CPU core, the OS would be switching between the two threads, allowing one thread to run at a time. If we ran this program on a computer with a multi-core CPU then we would be able to run the two threads in parallel - side by side at the exact same time\n",
    "\n",
    "A thread is a sequence of instructions within a process. It can be thought of as a lightweight process. Threads share the same memory space. A process is an instance of a program running in a computer which can contain one or more threads. A process has its independant memory space. \n",
    "    \n",
    "The threading module is used for working with threads in Python. The CPython implementation has a Global Interpreter Lock (GIL) which allows only one thread to be active in the interpreter at once. The mechanism used by the CPython interpreter to assure that only one thread executes Python bytecode at a time. This simplifies the CPython implementation by making the object model (including critical built-in types such as dict) implicitly safe against concurrent access. Locking the entire interpreter makes it easier for the interpreter to be multi-threaded, at the expense of much of the parallelism afforded by multi-processor machines. This means that threads cannot be used for parallel execution of Python code. While parallel CPU computation is not possible, parallel IO operations are possible using threads. This is because performing IO operations releases the GIL. What are threads used for in Python? \n",
    "\n",
    "    In GUI applications to keep the UI thread responsive\n",
    "\n",
    "    IO tasks (network IO or filesystem IO)\n",
    "\n",
    "Using threads for these tasks improves performance, since in network IO for example, most of the time is spent waiting for a response from the URL. Threads should not be used for CPU bound tasks as this will actually result in worse performance compared to using a single thread.\n",
    "\n",
    "For parallel execution of tasks use multiprocessing, a package that supports spawning processes using an API similar to the threading module. It side-steps the GIL by using subprocesses instead of threads. The Pool object which offers a convenient means of parallelizing the execution of a function across multiple input values, distributing the input data across processes (data parallelism)."
   ]
  },
  {
   "cell_type": "markdown",
   "metadata": {},
   "source": [
    "**Mutable default arguments**\n",
    "\n",
    "In the following example, the list object has an empty list as a default value. This assignment is carried out only when the function definition is first evaluated. "
   ]
  },
  {
   "cell_type": "code",
   "execution_count": 28,
   "metadata": {
    "collapsed": true
   },
   "outputs": [],
   "source": [
    "def func1(item, lst=[]):\n",
    "    lst.append(item)\n",
    "    return lst\n",
    "\n",
    "def func2 (item, lst=None):\n",
    "    if lst is None: \n",
    "        lst = []\n",
    "    lst.append(item)\n",
    "    return lst"
   ]
  },
  {
   "cell_type": "markdown",
   "metadata": {},
   "source": [
    "A new list is created each time the function is called if a second argument isn’t provided, so that the output is as follows:"
   ]
  },
  {
   "cell_type": "code",
   "execution_count": 29,
   "metadata": {
    "collapsed": false
   },
   "outputs": [
    {
     "name": "stdout",
     "output_type": "stream",
     "text": [
      "[[0, 1, 2], [0, 1, 2], [0, 1, 2]]\n"
     ]
    }
   ],
   "source": [
    "print([func1(i) for i in range(3)])"
   ]
  },
  {
   "cell_type": "markdown",
   "metadata": {},
   "source": [
    "This feature gives speed and memory boosts, as in most cases you will have immutable default arguments and Python can construct them just once, instead of on every function call. Another benefit is simplicity, as it is easier to understand how the expression is evaluated and thereby make debugging easier. \n",
    "\n",
    "To avoid this, the mutable objects used as defaults should be replaced by None, and then the arguments tested for None:"
   ]
  },
  {
   "cell_type": "code",
   "execution_count": 30,
   "metadata": {
    "collapsed": false,
    "scrolled": true
   },
   "outputs": [
    {
     "name": "stdout",
     "output_type": "stream",
     "text": [
      "[[0], [1], [2]]\n"
     ]
    }
   ],
   "source": [
    "print([func2(i) for i in range(3)])"
   ]
  },
  {
   "cell_type": "code",
   "execution_count": null,
   "metadata": {
    "collapsed": true
   },
   "outputs": [],
   "source": []
  },
  {
   "cell_type": "markdown",
   "metadata": {
    "collapsed": true
   },
   "source": [
    "**Property Decorator and the Uniform Access Principle** \n",
    "\n",
    "Python code strives to adhere to the Uniform Access Principle; the are no truly 'protected' or 'private' attributes. Getters and setters are used in many object oriented programming languages to ensure the principle of data encapsulation (the bundling of data with the methods that operate on these data). The accepted approach in Python is to xxpose your instance variables directly, e.g. foo.x = 0, not foo.set_x(0), which preserves the access semantics. The main advantage to this approach is that the caller gets to do this: foo.x += 1 instead of the less-readable: foo.set_x(foo.get_x() + 1)\n",
    "\n",
    "Instance variables starting with a single underscore are conventionally private; not to be messed with directly. and they shouldn't mess with it directly. With double underscore, Python mangles the name but the variable is still accessible from outside.\n",
    "\n",
    "If you need to wrap the access variables assigned by methods use @property. Getter, setter and deleter methods enable you to set an attribute using a function. Getting access is the same and the setter method allows you to have functionality of normal class attribute assignment. You can start with the simplest implementation imaginable, and you are free to later migrate to a version which preserves the access semantics and so avoids having to change the interface."
   ]
  },
  {
   "cell_type": "code",
   "execution_count": 3,
   "metadata": {
    "collapsed": false
   },
   "outputs": [
    {
     "data": {
      "text/plain": [
       "1"
      ]
     },
     "execution_count": 3,
     "metadata": {},
     "output_type": "execute_result"
    }
   ],
   "source": [
    "class A(object):\n",
    "    _x = 0\n",
    "    '''A._x is an attribute'''\n",
    "\n",
    "    @property\n",
    "    def x(self):\n",
    "        '''\n",
    "        A.x is a property\n",
    "        This is the getter method\n",
    "        '''\n",
    "        return self._x\n",
    "\n",
    "    @x.setter\n",
    "    def x(self, value):\n",
    "        \"\"\"\n",
    "        This is the setter method\n",
    "        where I can check it's not assigned a value < 0\n",
    "        \"\"\"\n",
    "        if value < 0:\n",
    "            raise ValueError(\"Must be >= 0\")\n",
    "        self._x = value\n",
    "\n",
    ">>> a = A()\n",
    ">>> a._x = -1\n",
    ">>> a.x = -1\n",
    "Traceback (most recent call last):\n",
    "  File \"ex.py\", line 15, in <module>\n",
    "    a.x = -1\n",
    "  File \"ex.py\", line 9, in x\n",
    "    raise ValueError(\"Must be >= 0\")\n",
    "ValueError: Must be >= 0"
   ]
  },
  {
   "cell_type": "markdown",
   "metadata": {
    "collapsed": true
   },
   "source": [
    "**Recursion**\n",
    "\n",
    "A function is recursive if it calls itself and has a termination condition. Why a termination condition? To stop the function from calling itself ad infinity. An example of recursion in English: “A human is someone whose mother is human”. Also, a tree diagram where each branch is like a new tree.\n",
    "\n",
    "The two key elements of a recursive algorithm are:\n",
    "\n",
    "The termination condition: n == 0\n",
    "The reduction step where the function calls itself with a smaller number each time: factorial(n - 1)"
   ]
  },
  {
   "cell_type": "code",
   "execution_count": 2,
   "metadata": {
    "collapsed": false
   },
   "outputs": [
    {
     "name": "stderr",
     "output_type": "stream",
     "text": [
      "WARNING:root:3\n",
      "WARNING:root:2\n",
      "WARNING:root:1\n"
     ]
    },
    {
     "data": {
      "text/plain": [
       "6"
      ]
     },
     "execution_count": 2,
     "metadata": {},
     "output_type": "execute_result"
    }
   ],
   "source": [
    "import logging\n",
    "\n",
    "def factorial(n):\n",
    "    if n == 0:\n",
    "        return 1\n",
    "    else:\n",
    "        logging.warning(n)\n",
    "        return n * factorial(n - 1)\n",
    "\n",
    "factorial(3)"
   ]
  },
  {
   "cell_type": "code",
   "execution_count": null,
   "metadata": {
    "collapsed": true
   },
   "outputs": [],
   "source": []
  },
  {
   "cell_type": "markdown",
   "metadata": {},
   "source": [
    "**Strong-typing** You cannot coerce objects into a different type by any kind of inferring, as in weakly-typed languages. In so, the object type is more explicit.\n",
    "\n"
   ]
  },
  {
   "cell_type": "markdown",
   "metadata": {},
   "source": [
    "**sys**"
   ]
  },
  {
   "cell_type": "code",
   "execution_count": 5,
   "metadata": {
    "collapsed": false
   },
   "outputs": [
    {
     "data": {
      "text/plain": [
       "'win32'"
      ]
     },
     "execution_count": 5,
     "metadata": {},
     "output_type": "execute_result"
    }
   ],
   "source": [
    "# sys.path\n",
    "sys.platform"
   ]
  },
  {
   "cell_type": "code",
   "execution_count": null,
   "metadata": {
    "collapsed": true
   },
   "outputs": [],
   "source": []
  }
 ],
 "metadata": {
  "anaconda-cloud": {},
  "kernelspec": {
   "display_name": "Python [default]",
   "language": "python",
   "name": "python3"
  },
  "language_info": {
   "codemirror_mode": {
    "name": "ipython",
    "version": 3
   },
   "file_extension": ".py",
   "mimetype": "text/x-python",
   "name": "python",
   "nbconvert_exporter": "python",
   "pygments_lexer": "ipython3",
   "version": "3.5.2"
  }
 },
 "nbformat": 4,
 "nbformat_minor": 1
}
