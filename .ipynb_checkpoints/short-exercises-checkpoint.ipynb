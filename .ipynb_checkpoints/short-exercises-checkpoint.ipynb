{
 "cells": [
  {
   "cell_type": "markdown",
   "metadata": {},
   "source": [
    "Write an iterator class reverse_iter, that can be called with a list to give a reverse iterator (i.e. reinvent the reversed() built-in)\n",
    "\n",
    "\\>>> it = reverse_iter([1, 2, 3, 4])"
   ]
  },
  {
   "cell_type": "code",
   "execution_count": 8,
   "metadata": {
    "collapsed": false
   },
   "outputs": [
    {
     "data": {
      "text/plain": [
       "4"
      ]
     },
     "execution_count": 8,
     "metadata": {},
     "output_type": "execute_result"
    }
   ],
   "source": [
    "class Reverser:\n",
    "    \n",
    "    def __init__(self, lst):\n",
    "        self.ind = 0\n",
    "        self.lst = lst\n",
    "        \n",
    "    def __iter__(self):\n",
    "        return self\n",
    "    \n",
    "    def __next__(self):\n",
    "        self.ind -= 1\n",
    "        try:\n",
    "            return self.lst[self.ind]\n",
    "        except IndexError:\n",
    "            raise StopIteration\n",
    "            \n",
    "r = Reverser([2,3,4])\n",
    "next(r)"
   ]
  },
  {
   "cell_type": "markdown",
   "metadata": {},
   "source": [
    "Write a generator function that opens a file and processes one line at a time using a helper function e.g.`len()` and yields the result, thereby avoiding a `MemoryError` when the file is large. Then use it to write to each result on a new line in a .txt file"
   ]
  },
  {
   "cell_type": "code",
   "execution_count": 11,
   "metadata": {
    "collapsed": false
   },
   "outputs": [],
   "source": [
    "def chars_per_line(some_file):\n",
    "    with open(some_file) as fh:\n",
    "        for line in fh:\n",
    "            yield len(line)\n",
    "            \n",
    "with open('my_chars.txt', 'w') as fh:\n",
    "    for c in chars_per_line('my_genome.txt'):\n",
    "        fh.write(str(c) + '\\n') "
   ]
  },
  {
   "cell_type": "markdown",
   "metadata": {},
   "source": [
    "Create a date class which uses a classmethod to enable an date objects to be constructed using the commonwealth format: "
   ]
  },
  {
   "cell_type": "code",
   "execution_count": 16,
   "metadata": {
    "collapsed": false
   },
   "outputs": [
    {
     "data": {
      "text/plain": [
       "(20, 20)"
      ]
     },
     "execution_count": 16,
     "metadata": {},
     "output_type": "execute_result"
    }
   ],
   "source": [
    "class Date(object):\n",
    "    def __init__(self, year, month, day):\n",
    "        self.year = year\n",
    "        self.month = month\n",
    "        self.day = day\n",
    "        \n",
    "    @classmethod    \n",
    "    def dmy(cls, day, month, year):\n",
    "        cls.day = day\n",
    "        cls.month = month\n",
    "        cls.year = year\n",
    "        return cls(cls.year, cls.month, cls.day) \n",
    "    \n",
    "d = Date(2016, 4, 20)\n",
    "dmy = Date.dmy(20, 4, 2016)\n",
    "d.day, dmy.day"
   ]
  },
  {
   "cell_type": "code",
   "execution_count": null,
   "metadata": {
    "collapsed": true
   },
   "outputs": [],
   "source": []
  },
  {
   "cell_type": "code",
   "execution_count": 26,
   "metadata": {
    "collapsed": false
   },
   "outputs": [
    {
     "name": "stdout",
     "output_type": "stream",
     "text": [
      "['', 'C:\\\\Users\\\\Paul\\\\Anaconda3\\\\python35.zip', 'C:\\\\Users\\\\Paul\\\\Anaconda3\\\\DLLs', 'C:\\\\Users\\\\Paul\\\\Anaconda3\\\\lib', 'C:\\\\Users\\\\Paul\\\\Anaconda3', 'C:\\\\Users\\\\Paul\\\\AppData\\\\Roaming\\\\Python\\\\Python35\\\\site-packages', 'C:\\\\Users\\\\Paul\\\\Anaconda3\\\\lib\\\\site-packages', 'C:\\\\Users\\\\Paul\\\\Anaconda3\\\\lib\\\\site-packages\\\\win32', 'C:\\\\Users\\\\Paul\\\\Anaconda3\\\\lib\\\\site-packages\\\\win32\\\\lib', 'C:\\\\Users\\\\Paul\\\\Anaconda3\\\\lib\\\\site-packages\\\\Pythonwin', 'C:\\\\Users\\\\Paul\\\\Anaconda3\\\\lib\\\\site-packages\\\\IPython\\\\extensions', 'C:\\\\Users\\\\Paul\\\\.ipython']\n"
     ]
    }
   ],
   "source": [
    "import sys\n",
    "print(sys.path)"
   ]
  },
  {
   "cell_type": "code",
   "execution_count": 70,
   "metadata": {
    "collapsed": false
   },
   "outputs": [
    {
     "data": {
      "text/plain": [
       "'hello. Today is 25th March 2018'"
      ]
     },
     "execution_count": 70,
     "metadata": {},
     "output_type": "execute_result"
    }
   ],
   "source": [
    "def suffix(day):\n",
    "    if day in ['11', '12', '13']:\n",
    "        return 'th' \n",
    "    else:\n",
    "        return {1: 'st', 2: 'nd', 3: 'rd'}.get(day, 'th')\n",
    "\n",
    "def welcome_message(greet):\n",
    "    \"\"\" Takes in a string and appends it with e.g. 1st January 1990 \"\"\"\n",
    "    dt = datetime.now()\n",
    "    today = dt.strftime('{d} %B %Y').replace('{d}', str(dt.day) + suffix(dt.day))\n",
    "    return '{}. Today is {}'.format(greet, today)\n",
    "    \n",
    "welcome_message('hello')"
   ]
  },
  {
   "cell_type": "code",
   "execution_count": null,
   "metadata": {
    "collapsed": true
   },
   "outputs": [],
   "source": []
  }
 ],
 "metadata": {
  "anaconda-cloud": {},
  "kernelspec": {
   "display_name": "Python [default]",
   "language": "python",
   "name": "python3"
  },
  "language_info": {
   "codemirror_mode": {
    "name": "ipython",
    "version": 3
   },
   "file_extension": ".py",
   "mimetype": "text/x-python",
   "name": "python",
   "nbconvert_exporter": "python",
   "pygments_lexer": "ipython3",
   "version": "3.5.2"
  }
 },
 "nbformat": 4,
 "nbformat_minor": 2
}
