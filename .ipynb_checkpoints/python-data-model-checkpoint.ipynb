{
 "cells": [
  {
   "cell_type": "markdown",
   "metadata": {},
   "source": [
    "https://docs.python.org/3/reference/datamodel.html"
   ]
  },
  {
   "cell_type": "markdown",
   "metadata": {},
   "source": [
    "**Objects, values and types**\n",
    "Objects are Python’s abstraction for data. All data in a Python program is represented by objects or by relations between objects. Every object has an identity, a type and a value. An object’s identity never changes once it has been created; you may think of it as the object’s address in memory. The ‘is’ operator compares the identity of two objects; the id() function returns an integer representing its identity. In the following example, the 'is' operator returns False since although the values are the same their identities are different"
   ]
  },
  {
   "cell_type": "code",
   "execution_count": 1,
   "metadata": {
    "collapsed": false
   },
   "outputs": [
    {
     "name": "stdout",
     "output_type": "stream",
     "text": [
      "False 978320764616 978320710088 978320926856\n"
     ]
    }
   ],
   "source": [
    "lst1 = [3,4]\n",
    "lst2 = [3,4]\n",
    "tpl = (3, [lst1])\n",
    "print(lst1 is lst2, id(lst1), id(lst2), id(tpl))"
   ]
  },
  {
   "cell_type": "markdown",
   "metadata": {},
   "source": [
    "Objects whose value can change are said to be mutable. Some objects contain references to other objects; these are called containers. A tuple is an immutable container. The defition of mutability is subtle as shown in the following reassignment of 'lst1' (change of identity); the tuple is still considered not to have been mutated because the collection of objects it references is still the same (and so it has the same identity)."
   ]
  },
  {
   "cell_type": "code",
   "execution_count": 2,
   "metadata": {
    "collapsed": false
   },
   "outputs": [
    {
     "name": "stdout",
     "output_type": "stream",
     "text": [
      "978320764616\n",
      "978320966792 978320926856\n"
     ]
    }
   ],
   "source": [
    "lst1 += [3]\n",
    "print(id(lst1))\n",
    "lst1 = [7,8]     \n",
    "print(id(lst1), id(tpl))"
   ]
  },
  {
   "cell_type": "markdown",
   "metadata": {},
   "source": [
    "Objects are never explicitly destroyed but when they become unreachable they may be garbage-collected. Some objects contain references to 'external resources' e.g. open files. Freeing of these resources by garbage collecting is not guaranteed, so it is recommended to use the close() method of these objects, or by the convenience of try, 'try...finally' and 'with' statements."
   ]
  },
  {
   "cell_type": "markdown",
   "metadata": {},
   "source": [
    "**The standard type hierarchy**\n",
    "\n",
    "Python contains a number of built-in standard types (extension modules written in other languages can define additional types).\n",
    "\n",
    "The *numbers* modules defines a hierarchy of numeric abstract base classes which progressively define more operations. \n",
    "numbers.Number is the root of the numeric hierarchy. numbers.Integral include int and bool. Objects representing the value of True or False  behave like 1 and 0 in almost all contexts except when converted to strings and e.g. 'True' is returned. The float type belongs to numbers.Real which is a subclass of Number E.g. check x in any kind of number:"
   ]
  },
  {
   "cell_type": "code",
   "execution_count": 3,
   "metadata": {
    "collapsed": false
   },
   "outputs": [
    {
     "name": "stdout",
     "output_type": "stream",
     "text": [
      "True True\n"
     ]
    }
   ],
   "source": [
    "from numbers import Number\n",
    "a = 3.4\n",
    "b = False\n",
    "print(isinstance(a, Number), isinstance(b, Number))"
   ]
  },
  {
   "cell_type": "markdown",
   "metadata": {},
   "source": [
    "*Sequences* represent ordered sets indexed by non-negative numbers and support slicing and the len function. Immutable sequences: string, tuple, bytes.\n",
    "\n",
    "*Sets* are unordered sets of unique and immutable objects. Being unordered they cannot be sliced, but they can be iterated and do support the len funciton. Common uses are fast membership testing and removing duplicates from a sequence. In addition to sets, which can be modified after creation, there are frozen sets (created using the frozenset() constructor) which are immutable. A frozen set is  hashable so can be used as a member of another set or as a dictionary key. Hashable means the hash value of an object never changes; all built-in immutable objects are hashable.\n",
    "\n",
    "*Callable types*\n",
    "\n",
    "User-defined functions, these have special attributes:"
   ]
  },
  {
   "cell_type": "code",
   "execution_count": 4,
   "metadata": {
    "collapsed": false
   },
   "outputs": [
    {
     "name": "stdout",
     "output_type": "stream",
     "text": [
      "myfunc\n",
      "(5, False)\n",
      "__main__\n",
      "{'color': 'red'}\n"
     ]
    }
   ],
   "source": [
    "def myfunc(n, a=5, b=False):\n",
    "    pass\n",
    "myfunc.color = 'red'\n",
    "print(myfunc.__name__)\n",
    "print(myfunc.__defaults__)\n",
    "print(myfunc.__module__)\n",
    "print(myfunc.__dict__)"
   ]
  },
  {
   "cell_type": "markdown",
   "metadata": {},
   "source": [
    "Instance methods have special attribute, similar to the above but also \\__self__. Methods also support accessing (but not setting) the arbitrary function attributes on the underlying function object."
   ]
  },
  {
   "cell_type": "code",
   "execution_count": 5,
   "metadata": {
    "collapsed": false
   },
   "outputs": [
    {
     "data": {
      "text/plain": [
       "True"
      ]
     },
     "execution_count": 5,
     "metadata": {},
     "output_type": "execute_result"
    }
   ],
   "source": [
    "class Foo:\n",
    "    def mymethod(self):\n",
    "        print('hello')\n",
    "    mymethod.is_true = True\n",
    "a = Foo()\n",
    "a.mymethod.is_true \n",
    "# attempts to set the method attribute would give AttributeError "
   ]
  },
  {
   "cell_type": "markdown",
   "metadata": {},
   "source": [
    "Generator functions are functions or methods which uses the yield statement. When called, they return an iterator object which can be used to execute the body of the function. Calling the iterator.\\__next__() method will cause the function to execute until it provides a value using the yield statement. When the function executes a return statement or falls off the end, a StopIteration exception is raised. Coroutine functions are defined using async_def and when called they return a coroutine object. They may contain await expressions, as well as async with and async for statements. Asynchronous generator functions are defined using async def and they use the yield statement.\n",
    "\n",
    "*Custom Classes*\n",
    "\n",
    " A class has a namespace implemented by a dictionary object. Class attribute references are translated to lookups in this dictionary, e.g., C.x is translated to C.\\__dict\\__[\"x\"]. When the attribute name is not found there, the attribute search continues in the base classes. This search of the base classes uses the C3 method resolution order; unless you make strong use of multiple inheritance and you have non-trivial hierarchies, you don't need to understand the C3 algorithm. Special attributes: \\__name\\__ is the class name; \\__module\\__ is the module name in which the class was defined; \\__dict\\__ is the dictionary containing the class’s namespace; \\__bases\\__ is a tuple containing the base classes, in the order of their occurrence in the base class list; \\__doc\\__ is the class’s documentation string\n",
    " \n",
    "*Class Instances* \n",
    "\n",
    "A class instance has a namespace implemented as a dictionary (instance.\\__dict\\__) which is the first place in which attribute references are searched. When an attribute is not found there the search continues with the class attributes. If no class attribute is found, and the object’s class has a \\__getattr\\__() method, that is called to satisfy the lookup."
   ]
  },
  {
   "cell_type": "code",
   "execution_count": 6,
   "metadata": {
    "collapsed": false
   },
   "outputs": [
    {
     "name": "stdout",
     "output_type": "stream",
     "text": [
      "{'make': 'Mazda', 'model': '626'} Not found\n"
     ]
    }
   ],
   "source": [
    "class Car:\n",
    "    category = 'vehicle'\n",
    "    \n",
    "    def __init__(self, make, model):\n",
    "        self.make = make\n",
    "        self.model = model\n",
    "        \n",
    "    # overriding __getattr__ which is called when missing attribute lookup   \n",
    "    def __getattr__(self, attr):\n",
    "        try:\n",
    "            return self[attr]\n",
    "        except:\n",
    "            return 'Not found'\n",
    "        \n",
    "c = Car('Mazda', '626')\n",
    "# category is a class attribute, it is not in class instance namespace\n",
    "print(c.__dict__, c.color)"
   ]
  },
  {
   "cell_type": "markdown",
   "metadata": {},
   "source": [
    "**Special Method Names**\n",
    "*Basic customization*\n",
    "\n",
    "object.\\__new\\__(cls[, ...]) is a static method that takes the class as its first argument, with the remaining arguments passed to the object constructor expression. The return value of \\__new\\__() should be the new object instance. Typical implementations create a new instance of the class by invoking the superclass’s \\__new\\__() method using super().\\__new\\__(cls[, ...]) with appropriate arguments and then modifying the newly-created instance as necessary before returning it. \\__new\\__() is intended mainly to allow subclasses of immutable types (like int, str, or tuple) to customize instance creation. \n",
    "\n",
    "object.\\__init\\__(self[, ...]) is called after the instance has been created (by \\__new\\__()). These work together in constructing objects (\\__new\\__() to create it, and \\__init\\__() to customize it). If a base class has an \\__init\\__() method, the derived class’s \\__init\\__() method, if any, must explicitly call it to ensure proper initialization of the base class part of the instance; for example: super().\\__init\\__([args...]).\n",
    "\n",
    "object.\\__repr\\__(self) is typically used for debugging, so it is important that the representation is information-rich and unambiguous. If at all possible, the string should look like a valid Python expression that could be used to recreate an object with the same value.\n",
    "\n",
    "*Descriptors*\n",
    "\n",
    "Are objects which define the methods \\__get\\__(), \\__set\\__(), or \\__delete\\__(). When a class attribute is a descriptor, its special binding behavior is triggered upon attribute lookup. Normally, using a.b to get, set or delete an attribute looks up the object named b in the class dictionary for a, but if b is a descriptor, the respective descriptor method gets called. Understanding descriptors is a key to a deep understanding of Python because they are the basis for many features including functions, methods, properties, class methods, static methods, and reference to super classes.\n",
    "\n",
    "*Customizing attribute access*\n",
    "\n",
    "object.\\__getattr\\__(self, name) is called when the default attribute access fails because name is not an instance attribute or an attribute in the class tree for self. Note that if the attribute is found through the normal mechanism, \\__getattr\\__() is not called. This method should either return the (computed) attribute value or raise an AttributeError exception.\n",
    "\n",
    "object.\\__getattribute\\__(self, name) is called to unconditionally implement attribute accesses for instances of the class. If the class also defines \\__getattr\\__(), the latter will not be called unless \\__getattribute\\__() either calls it explicitly or raises an AttributeError. \n",
    "\n",
    "object.\\__iter\\__(self) is called when an iterator is required for a container. This method should return a new iterator object that can iterate over all the objects in the container. For mappings, it should iterate over the keys of the container. Iterator objects also need to implement this method; they are required to return themselves.\n",
    "\n",
    "*Implementing Descriptors*\n",
    "\n",
    "object.\\__get\\__(self, instance, owner)\n",
    "\n",
    "This method should return the (computed) attribute value or raise an AttributeError exception.\n",
    "\n",
    "object.\\__set\\__(self, instance, value)\n",
    "\n",
    "Called to set the attribute on an instance instance of the owner class to a new value, value.\n",
    "\n",
    "object.\\__delete\\__(self, instance)\n",
    "\n",
    "Called to delete the attribute on an instance instance of the owner class.\n",
    "\n",
    "A descriptor is an object with any of the following methods (\\__get\\__, \\__set\\__, or \\__delete\\__), intended to be used via dotted-lookup as if it were a typical attribute of an instance. For an owner-object, obj_instance, with a descriptor object:\n",
    "\n",
    "    descriptor.__get__(self, obj_instance, owner_class) (returning a value)\n",
    "    # invoked by:\n",
    "    obj_instance.descriptor\n",
    "\n",
    "    descriptor.__set__(self, obj_instance, value) (returning None)\n",
    "    # invoked by:\n",
    "    obj_instance.descriptor = value\n",
    "\n",
    "    descriptor.__delete__(self, obj_instance) (returning None)\n",
    "    # invoked by:\n",
    "    del obj_instance.descriptor\n",
    "\n",
    "Descriptors are a low-level mechanism that lets you hook into an object's attributes being accessed. Properties are a high-level application of this; that is, properties are implemented using descriptors. Or, better yet, properties are descriptors that are already provided for you in the standard library. If you need a simple way to return a computed value from an attribute read, or to call a function on an attribute write, use the @property decorator. The property function gives us a handy way to implement a simple descriptor without defining a separate class. Rather than create a complete class definition, we can write getter and setter method functions, and then bind these functions to an attribute name.\n",
    "\n",
    "The descriptor API is more flexible, but less convenient, and arguably \"overkill\" and non-idiomatic in many situations. It's useful for more advanced use cases property is a descriptor, and for probably 95% of cases it's the only one you'll need. Basically, you might do it if you would otherwise have to write several propertys with similar behavior; a descriptor lets you factor out the common behavior to avoid code repetition. Custom descriptors are used, for instance, to drive systems like like Django and SQLAlchemy. If you find yourself writing something at that level of complexity you might need to write a custom descriptor.\n",
    "\n",
    "Basically, use the simplest one you can. Roughly, the order of is: regular attribute, property, \\__getattr\\__, \\__getattribute\\__, descriptor. \\__getattribute\\__ and custom descriptors are both things you probably won't need to do very often. This leads to some simple rules of thumb:\n",
    "\n",
    "    Don't use a property if a normal attribute will work.\n",
    "    Don't write your own descriptor if a property will work.\n",
    "    Don't use __getattr__ if a property will work.\n",
    "    Don't use __getattribute__ if __getattr__ will work.\n"
   ]
  },
  {
   "cell_type": "code",
   "execution_count": 2,
   "metadata": {
    "collapsed": false
   },
   "outputs": [
    {
     "data": {
      "text/plain": [
       "0.0"
      ]
     },
     "execution_count": 2,
     "metadata": {},
     "output_type": "execute_result"
    }
   ],
   "source": [
    "class Celsius(object):\n",
    "    def __init__(self, value=0.0):\n",
    "        self.value = float(value)\n",
    "    def __get__(self, instance, owner):\n",
    "        return self.value\n",
    "    def __set__(self, instance, value):\n",
    "        self.value = float(value)\n",
    "\n",
    "class Temperature(object):\n",
    "    celsius = Celsius()\n",
    "\n",
    "temp=Temperature()\n",
    "temp.celsius"
   ]
  },
  {
   "cell_type": "markdown",
   "metadata": {},
   "source": [
    "Implementing descriptors gives you extra control over how attributes work. An attribute is just a mutable value. A descriptor lets you execute arbitrary code when reading or setting (or deleting) a value. You could use it in e.g. mapping an attribute to a field in a database, or to refuse to accept a new value by throwing an exception in \\__set\\__, effectively making the attribute read only."
   ]
  },
  {
   "cell_type": "markdown",
   "metadata": {},
   "source": [
    "*\\__slots\\__*\n",
    "\n",
    "By default class instances have a dictionary for attribute storage. This wastes space for objects having very few instance variables. The space consumption can become acute when creating large numbers of instances.This class variable can be assigned a string, iterable, or sequence of strings with variable names used by instances. \\__slots\\__ reserves space for the declared variables and prevents the automatic creation of \\__dict\\__ .  If dynamic assignment of new variables is desired, then add \\__dict\\__ to the sequence of strings in the \\__slots\\__ declaration.\n",
    "\n",
    "*With Statement Context Managers*\n",
    "\n",
    "A context manager is an object that defines the runtime context to be established when executing a `with` statement. The context manager handles the entry into, and the exit from, the desired runtime context for the execution of the block of code. It invokes the \\__enter\\__() and \\__exit\\__() methods. Typical uses of context managers include saving and restoring various kinds of global state, locking and unlocking resource, etc."
   ]
  },
  {
   "cell_type": "code",
   "execution_count": null,
   "metadata": {
    "collapsed": true
   },
   "outputs": [],
   "source": [
    "\n",
    "\n"
   ]
  }
 ],
 "metadata": {
  "anaconda-cloud": {},
  "kernelspec": {
   "display_name": "Python [default]",
   "language": "python",
   "name": "python3"
  },
  "language_info": {
   "codemirror_mode": {
    "name": "ipython",
    "version": 3
   },
   "file_extension": ".py",
   "mimetype": "text/x-python",
   "name": "python",
   "nbconvert_exporter": "python",
   "pygments_lexer": "ipython3",
   "version": "3.5.2"
  }
 },
 "nbformat": 4,
 "nbformat_minor": 1
}
