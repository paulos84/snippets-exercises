{
 "cells": [
  {
   "cell_type": "code",
   "execution_count": null,
   "metadata": {
    "collapsed": false,
    "scrolled": true
   },
   "outputs": [],
   "source": [
    "guess = '3254'\n",
    "def bc_count(secret, gs):\n",
    "    \"\"\" expects secret as a list of four ints, guess as a four digit string \"\"\"\n",
    "    bulls = 0\n",
    "    cows = 0\n",
    "    ges = [int(a) for a in gs]\n",
    "    for a in ges:\n",
    "        if a in secret:\n",
    "            cows += 1\n",
    "        if a == secret[ges.index(a)]:\n",
    "            bulls += 1\n",
    "            cows -= 1\n",
    "    return bulls, cows\n",
    "\n",
    "def player_turn():\n",
    "    return '{} => bulls {}, cows {}'.format(guess, *bc_count(sec, guess))"
   ]
  },
  {
   "cell_type": "code",
   "execution_count": 1,
   "metadata": {
    "collapsed": false
   },
   "outputs": [
    {
     "data": {
      "text/plain": [
       "[3, 8, 6, 5]"
      ]
     },
     "execution_count": 1,
     "metadata": {},
     "output_type": "execute_result"
    }
   ],
   "source": [
    "import random\n",
    "\n",
    "def make_list(exclude=None):\n",
    "    if exclude is None:\n",
    "        exclude = []\n",
    "    k = 0\n",
    "    items = []\n",
    "    while k < 4:\n",
    "        r = random.randint(1,9)\n",
    "        if r not in items and r not in exclude:\n",
    "            items.append(r)\n",
    "            k += 1\n",
    "    return items\n",
    "\n",
    "sec = make_list()\n",
    "sec"
   ]
  },
  {
   "cell_type": "code",
   "execution_count": 39,
   "metadata": {
    "collapsed": false
   },
   "outputs": [],
   "source": [
    "import random \n",
    "\n",
    "\n",
    "class BullGetter():\n",
    "\n",
    "    def __init__(self):\n",
    "        self.current = [1,2,3,4] # make_list()\n",
    "        self.bulls = {} # a dict with index position as key and number 1-9 as the value\n",
    "        self.avoid = [] # digits that are either asserted bulls or non-cows\n",
    "        self.mem = [[self.current]] \n",
    "        self.counts = [] \n",
    "        \n",
    "    def __str__(self):\n",
    "        return ''.join(str(a) for a in self.current)     \n",
    "        \n",
    "    def pick_new(self):\n",
    "        try:\n",
    "            return random.choice([a for a in range(1,9) if a not in self.avoid and a not in self.current])\n",
    "        except IndexError:\n",
    "            ind = [a for a in range(4) if a not in self.bulls.keys()]\n",
    "            self.current[ind[0]], self.current[ind[1]] = self.current[ind[1]], self.current[ind[0]]\n",
    "    \n",
    "    @property\n",
    "    def change(self):\n",
    "        # to evaluate one digit changes, gives (a, b, c) where a is the index position, b is previous, c is new digit\n",
    "        mem = self.mem[-1]\n",
    "        new_dig = [a for a in self.current if a not in mem]\n",
    "        if len(new_dig) == 1:\n",
    "            ind = self.current.index(new_dig[0])\n",
    "            return (ind, mem[ind], new_dig[0])"
   ]
  },
  {
   "cell_type": "code",
   "execution_count": 40,
   "metadata": {
    "collapsed": false
   },
   "outputs": [],
   "source": [
    "a = [1,2,3]\n",
    "b = [4, 2, 3]\n",
    "c = [i for i in b if i not in a]"
   ]
  },
  {
   "cell_type": "code",
   "execution_count": 41,
   "metadata": {
    "collapsed": false
   },
   "outputs": [
    {
     "data": {
      "text/plain": [
       "[4]"
      ]
     },
     "execution_count": 41,
     "metadata": {},
     "output_type": "execute_result"
    }
   ],
   "source": [
    "c"
   ]
  },
  {
   "cell_type": "code",
   "execution_count": 42,
   "metadata": {
    "collapsed": false
   },
   "outputs": [
    {
     "name": "stdout",
     "output_type": "stream",
     "text": [
      "Attempt #1. My guess: 1234\n"
     ]
    }
   ],
   "source": [
    "bgt = BullGetter()\n",
    "print('Attempt #1. My guess: {}'.format(bgt))\n",
    "#bgt.avoid = dict(zip(range(4), [[a] for a in bgt.current])) # [a for a in cb.ges_ints]"
   ]
  },
  {
   "cell_type": "code",
   "execution_count": 43,
   "metadata": {
    "collapsed": false
   },
   "outputs": [
    {
     "data": {
      "text/plain": [
       "[]"
      ]
     },
     "execution_count": 43,
     "metadata": {},
     "output_type": "execute_result"
    }
   ],
   "source": [
    "bgt.counts"
   ]
  },
  {
   "cell_type": "code",
   "execution_count": 44,
   "metadata": {
    "collapsed": false
   },
   "outputs": [],
   "source": [
    "import logging\n",
    "\n",
    "-"
   ]
  },
  {
   "cell_type": "code",
   "execution_count": null,
   "metadata": {
    "collapsed": false
   },
   "outputs": [
    {
     "name": "stdout",
     "output_type": "stream",
     "text": [
      "Attempt #1. My guess: 57None6\n",
      "00\n"
     ]
    }
   ],
   "source": [
    "n = 1\n",
    "while True: \n",
    "    print('Attempt #{}. My guess: {}'.format(n, bgt))\n",
    "    user_input = input()\n",
    "    if user_input == '' or user_input == '40':\n",
    "        break\n",
    "    entry = (int(user_input[0]), int(user_input[1]))\n",
    "    bgt.counts.append((entry[0], entry[1]))   \n",
    "    evaluate(entry)\n",
    "    make_choice()\n",
    "    n +=1\n",
    "#5678\n",
    "    "
   ]
  },
  {
   "cell_type": "markdown",
   "metadata": {
    "collapsed": false
   },
   "source": [
    "import random\n",
    "[random.choice([a for a in range(1,9) if a not in cb.ges_ints]) for i in range(4)]"
   ]
  },
  {
   "cell_type": "code",
   "execution_count": 22,
   "metadata": {
    "collapsed": false
   },
   "outputs": [
    {
     "data": {
      "text/plain": [
       "4"
      ]
     },
     "execution_count": 22,
     "metadata": {},
     "output_type": "execute_result"
    }
   ],
   "source": [
    "len(bgt.mem)"
   ]
  },
  {
   "cell_type": "code",
   "execution_count": 48,
   "metadata": {
    "collapsed": false
   },
   "outputs": [
    {
     "data": {
      "text/plain": [
       "0"
      ]
     },
     "execution_count": 48,
     "metadata": {},
     "output_type": "execute_result"
    }
   ],
   "source": [
    "b = CodeBreaker(bc)\n",
    "b.bulls"
   ]
  },
  {
   "cell_type": "code",
   "execution_count": 50,
   "metadata": {
    "collapsed": false
   },
   "outputs": [
    {
     "data": {
      "text/plain": [
       "5"
      ]
     },
     "execution_count": 50,
     "metadata": {},
     "output_type": "execute_result"
    }
   ],
   "source": [
    "b.bulls += 4\n",
    "b.bulls"
   ]
  },
  {
   "cell_type": "code",
   "execution_count": 46,
   "metadata": {
    "collapsed": false
   },
   "outputs": [
    {
     "data": {
      "text/plain": [
       "'7638'"
      ]
     },
     "execution_count": 46,
     "metadata": {},
     "output_type": "execute_result"
    }
   ],
   "source": [
    "c= CodeBreaker(bc)\n",
    "c.ges1"
   ]
  },
  {
   "cell_type": "code",
   "execution_count": null,
   "metadata": {
    "collapsed": true
   },
   "outputs": [],
   "source": []
  },
  {
   "cell_type": "code",
   "execution_count": 43,
   "metadata": {
    "collapsed": false
   },
   "outputs": [
    {
     "name": "stdout",
     "output_type": "stream",
     "text": [
      "3\n"
     ]
    }
   ],
   "source": [
    "if not b.any_bc:\n",
    "    print(3)"
   ]
  },
  {
   "cell_type": "code",
   "execution_count": 12,
   "metadata": {
    "collapsed": false
   },
   "outputs": [
    {
     "name": "stdout",
     "output_type": "stream",
     "text": [
      "00\n"
     ]
    },
    {
     "data": {
      "text/plain": [
       "'00'"
      ]
     },
     "execution_count": 12,
     "metadata": {},
     "output_type": "execute_result"
    }
   ],
   "source": [
    "input()"
   ]
  },
  {
   "cell_type": "code",
   "execution_count": 16,
   "metadata": {
    "collapsed": false
   },
   "outputs": [
    {
     "ename": "NameError",
     "evalue": "name 'asserttrue' is not defined",
     "output_type": "error",
     "traceback": [
      "\u001b[0;31m---------------------------------------------------------------------------\u001b[0m",
      "\u001b[0;31mNameError\u001b[0m                                 Traceback (most recent call last)",
      "\u001b[0;32m<ipython-input-16-624a8be8ab90>\u001b[0m in \u001b[0;36m<module>\u001b[0;34m()\u001b[0m\n\u001b[0;32m----> 1\u001b[0;31m \u001b[0mhelp\u001b[0m\u001b[1;33m(\u001b[0m\u001b[0masserttrue\u001b[0m\u001b[1;33m(\u001b[0m\u001b[1;33m)\u001b[0m\u001b[1;33m)\u001b[0m\u001b[1;33m\u001b[0m\u001b[0m\n\u001b[0m",
      "\u001b[0;31mNameError\u001b[0m: name 'asserttrue' is not defined"
     ]
    }
   ],
   "source": []
  },
  {
   "cell_type": "code",
   "execution_count": null,
   "metadata": {
    "collapsed": true
   },
   "outputs": [],
   "source": []
  }
 ],
 "metadata": {
  "anaconda-cloud": {},
  "kernelspec": {
   "display_name": "Python [default]",
   "language": "python",
   "name": "python3"
  },
  "language_info": {
   "codemirror_mode": {
    "name": "ipython",
    "version": 3
   },
   "file_extension": ".py",
   "mimetype": "text/x-python",
   "name": "python",
   "nbconvert_exporter": "python",
   "pygments_lexer": "ipython3",
   "version": "3.5.2"
  }
 },
 "nbformat": 4,
 "nbformat_minor": 1
}
