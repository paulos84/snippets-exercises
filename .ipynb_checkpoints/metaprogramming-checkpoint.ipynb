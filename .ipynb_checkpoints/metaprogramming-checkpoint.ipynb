{
 "cells": [
  {
   "cell_type": "markdown",
   "metadata": {},
   "source": [
    "Metaprogramming refers to a variety of ways a program has knowledge of itself or can manipulate itself. In a nutshell: code that manipulates code. Common examples: \n",
    "• Decorators \n",
    "• Metaclasses \n",
    "• Descriptors \n",
    "\n",
    "**Statements**\n",
    "\n",
    "Perform the actual work of your program. It always execute in two scopes: • globals - module dictionary • locals - enclosing function (if any).\n",
    "\n",
    "**Functions**\n",
    "\n",
    "The fundamental unit of code in most programs: • Module-level functions • Methods of classes. Calling conventions: positional, keywords arguments. Default arguments: set at definition time; only use immutable values. \n",
    "\n",
    "**Closures**\n",
    "\n",
    "You can make and return functions (local variables are captured):"
   ]
  },
  {
   "cell_type": "code",
   "execution_count": 8,
   "metadata": {
    "collapsed": false
   },
   "outputs": [
    {
     "data": {
      "text/plain": [
       "3"
      ]
     },
     "execution_count": 8,
     "metadata": {},
     "output_type": "execute_result"
    }
   ],
   "source": [
    "def make_adder(x, y):\n",
    "    def add():\n",
    "        return x + y\n",
    "    return add\n",
    "\n",
    "a = make_adder(1, 2)\n",
    "a()"
   ]
  },
  {
   "cell_type": "code",
   "execution_count": 10,
   "metadata": {
    "collapsed": true
   },
   "outputs": [],
   "source": [
    "class Spam:    \n",
    "    a = 1    \n",
    "    \n",
    "    def __init__(self, b):        \n",
    "        self.b = b  \n",
    "        \n",
    "    def imethod(self):        \n",
    "        pass\n",
    "\n",
    "Spam.a    # Class variable           \n",
    "s = Spam(2) \n",
    "s.b    # Instance variable  \n",
    "s.imethod()     # Instance method"
   ]
  },
  {
   "cell_type": "markdown",
   "metadata": {},
   "source": [
    "Almost everything can be customized\n",
    "\n",
    "    class Array:    \n",
    "        def __getitem__(self, index):        \n",
    "        ...\n",
    "        def __setitem__(self, index, value):\n",
    "        ...    \n",
    "        def __delitem__(self, index):        \n",
    "        ...    \n",
    "        def __contains__(self, item):        \n",
    "        ... "
   ]
  },
  {
   "cell_type": "markdown",
   "metadata": {},
   "source": [
    "Inheritance:  \n",
    "  \n",
    "    class Base:    \n",
    "        def spam(self):        \n",
    "\n",
    "    class Foo(Base):    \n",
    "        def spam(self):        \n",
    "        ...        \n",
    "        # Call method in base class        \n",
    "        r = super().spam()"
   ]
  },
  {
   "cell_type": "code",
   "execution_count": 13,
   "metadata": {
    "collapsed": false
   },
   "outputs": [
    {
     "data": {
      "text/plain": [
       "mappingproxy({'__dict__': <attribute '__dict__' of 'Spam' objects>,\n",
       "              '__doc__': None,\n",
       "              '__init__': <function __main__.Spam.__init__>,\n",
       "              '__module__': '__main__',\n",
       "              '__weakref__': <attribute '__weakref__' of 'Spam' objects>,\n",
       "              'foo': <function __main__.Spam.foo>})"
      ]
     },
     "execution_count": 13,
     "metadata": {},
     "output_type": "execute_result"
    }
   ],
   "source": [
    "# Objects are layered on dictionaries\n",
    "\n",
    "class Spam:    \n",
    "    def __init__(self, x, y):        \n",
    "        self.x = x        \n",
    "        self.y = y    \n",
    "        \n",
    "    def foo(self):        \n",
    "        pass\n",
    "    \n",
    "s = Spam(2,3) \n",
    "s.__dict__ \n",
    "Spam.__dict__"
   ]
  },
  {
   "cell_type": "markdown",
   "metadata": {},
   "source": [
    "**Avoiding boilerplate \\__init\\__() methods using inheritance**"
   ]
  },
  {
   "cell_type": "code",
   "execution_count": 2,
   "metadata": {
    "collapsed": true
   },
   "outputs": [],
   "source": [
    "class Stock:    \n",
    "    def __init__(self, name, shares, price):        \n",
    "        self.name = name        \n",
    "        self.shares = shares        \n",
    "        self.price = price \n",
    "\n",
    "class Point:    \n",
    "    def __init__(self, x, y):        \n",
    "        self.x = x        \n",
    "        self.y = y \n",
    "\n",
    "class Host:    \n",
    "    def __init__(self, address, port):        \n",
    "        self.address = address        \n",
    "        self.port = port "
   ]
  },
  {
   "cell_type": "code",
   "execution_count": 26,
   "metadata": {
    "collapsed": false
   },
   "outputs": [
    {
     "data": {
      "text/plain": [
       "123.45"
      ]
     },
     "execution_count": 26,
     "metadata": {},
     "output_type": "execute_result"
    }
   ],
   "source": [
    "class Structure:    \n",
    "    _fields = []    \n",
    "    def __init__(self, *args):        \n",
    "        if len(args) != len(self._fields):            \n",
    "            raise TypeError('Wrong # args')        \n",
    "        for name, val in zip(self._fields, args):            \n",
    "            setattr(self, name, val) \n",
    "        \n",
    "class Stock(Structure):   \n",
    "    _fields = ['name', 'shares', 'price'] \n",
    "        \n",
    "class Point(Structure):    \n",
    "    _fields = ['x', 'y'] \n",
    "    \n",
    "class Host(Structure):    \n",
    "    _fields = ['address', 'port']\n",
    "    \n",
    "s = Stock('ACME', 50, 123.45)\n",
    "s.price"
   ]
  },
  {
   "cell_type": "markdown",
   "metadata": {},
   "source": [
    "**Add calling signature and support for kwargs**"
   ]
  },
  {
   "cell_type": "code",
   "execution_count": 27,
   "metadata": {
    "collapsed": false
   },
   "outputs": [
    {
     "name": "stdout",
     "output_type": "stream",
     "text": [
      "(*args)\n"
     ]
    }
   ],
   "source": [
    "import inspect\n",
    "print(inspect.signature(Stock))"
   ]
  },
  {
   "cell_type": "code",
   "execution_count": 29,
   "metadata": {
    "collapsed": false
   },
   "outputs": [
    {
     "name": "stdout",
     "output_type": "stream",
     "text": [
      "(name, shares, price)\n"
     ]
    }
   ],
   "source": [
    "from inspect import Signature, Parameter\n",
    "\n",
    "def make_signature(names):\n",
    "    return Signature(Parameter(name, Parameter.POSITIONAL_OR_KEYWORD) for name in names)\n",
    "\n",
    "class Structure:    \n",
    "    __signature__ = make_signature([])   \n",
    "    def __init__(self, *args, **kwargs):\n",
    "        bound = self.__signature__.bind(*args, **kwargs)        \n",
    "        for name, val in bound.arguments.items():            \n",
    "            setattr(self, name, val)\n",
    "            \n",
    "class Stock(Structure):   \n",
    "     __signature__ = make_signature(['name', 'shares', 'price'])\n",
    "        \n",
    "print(inspect.signature(Stock))"
   ]
  },
  {
   "cell_type": "code",
   "execution_count": 30,
   "metadata": {
    "collapsed": false
   },
   "outputs": [
    {
     "data": {
      "text/plain": [
       "123.45"
      ]
     },
     "execution_count": 30,
     "metadata": {},
     "output_type": "execute_result"
    }
   ],
   "source": [
    "s = Stock('ACME', 50, 123.45)\n",
    "s.price"
   ]
  },
  {
   "cell_type": "code",
   "execution_count": 31,
   "metadata": {
    "collapsed": false
   },
   "outputs": [
    {
     "data": {
      "text/plain": [
       "'3'"
      ]
     },
     "execution_count": 31,
     "metadata": {},
     "output_type": "execute_result"
    }
   ],
   "source": [
    "def add_signature(*names):    \n",
    "    def decorate(cls):        \n",
    "        cls.__signature__ = make_signature(names)       \n",
    "        return cls    \n",
    "    return decorate \n",
    "\n",
    "@add_signature('x','y') \n",
    "class Point(Structure):    \n",
    "    pass\n",
    "\n",
    "p = Point('2', '3')\n",
    "p.y"
   ]
  },
  {
   "cell_type": "code",
   "execution_count": 2,
   "metadata": {
    "collapsed": false
   },
   "outputs": [
    {
     "data": {
      "text/plain": [
       "{'In': ['', 'globals()', 'locals()'],\n",
       " 'Out': {1: {...}},\n",
       " '_': {...},\n",
       " '_1': {...},\n",
       " '__': '',\n",
       " '___': '',\n",
       " '__builtin__': <module 'builtins' (built-in)>,\n",
       " '__builtins__': <module 'builtins' (built-in)>,\n",
       " '__doc__': 'Automatically created module for IPython interactive environment',\n",
       " '__loader__': None,\n",
       " '__name__': '__main__',\n",
       " '__package__': None,\n",
       " '__spec__': None,\n",
       " '_dh': ['C:\\\\Users\\\\Paul\\\\Desktop\\\\old snippets\\\\snippets-exercises'],\n",
       " '_i': 'globals()',\n",
       " '_i1': 'globals()',\n",
       " '_i2': 'locals()',\n",
       " '_ih': ['', 'globals()', 'locals()'],\n",
       " '_ii': '',\n",
       " '_iii': '',\n",
       " '_oh': {1: {...}},\n",
       " '_sh': <module 'IPython.core.shadowns' from 'C:\\\\Users\\\\Paul\\\\Anaconda3\\\\lib\\\\site-packages\\\\IPython\\\\core\\\\shadowns.py'>,\n",
       " 'exit': <IPython.core.autocall.ZMQExitAutocall at 0x22f759ee438>,\n",
       " 'get_ipython': <bound method InteractiveShell.get_ipython of <ipykernel.zmqshell.ZMQInteractiveShell object at 0x0000022F7599D4A8>>,\n",
       " 'quit': <IPython.core.autocall.ZMQExitAutocall at 0x22f759ee438>}"
      ]
     },
     "execution_count": 2,
     "metadata": {},
     "output_type": "execute_result"
    }
   ],
   "source": [
    "locals()"
   ]
  }
 ],
 "metadata": {
  "kernelspec": {
   "display_name": "Python [default]",
   "language": "python",
   "name": "python3"
  },
  "language_info": {
   "codemirror_mode": {
    "name": "ipython",
    "version": 3
   },
   "file_extension": ".py",
   "mimetype": "text/x-python",
   "name": "python",
   "nbconvert_exporter": "python",
   "pygments_lexer": "ipython3",
   "version": "3.5.2"
  }
 },
 "nbformat": 4,
 "nbformat_minor": 1
}
