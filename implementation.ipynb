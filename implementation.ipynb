{
 "cells": [
  {
   "cell_type": "markdown",
   "metadata": {},
   "source": [
    "The interpreter interface can be invoked in additional ways e.g.:\n",
    "\n",
    "    $ python hello.py \n",
    "    hello world\n",
    "\n",
    "    $ python -c print('hello world')\n",
    "    hello world\n",
    "    \n",
    "    -h\n",
    "    --help\n",
    "        Print a short description of all command line options.\n",
    "\n",
    "    -V\n",
    "    --version\n",
    "        Print the Python version number and exit.\n",
    "        \n",
    "**BDFL**\n",
    "\n",
    "Benevolent Dictator For Life, a.k.a. Guido van Rossum, Python’s creator.\n",
    "\n",
    "**binary Code**\n",
    "\n",
    "A file object able to read and write bytes-like objects. Examples of binary files are files opened in binary mode ('rb', 'wb' or 'rb+'), sys.stdin.buffer, sys.stdout.buffer, and instances of io.BytesIO and gzip.GzipFile.\n",
    "\n",
    "A text file reads and writes str objects.\n",
    "\n",
    "\n",
    "**bytecode**\n",
    "\n",
    "Python source code is compiled into bytecode, the internal representation of a Python program in the CPython interpreter. The bytecode is also cached in .pyc files so that executing the same file is faster the second time (recompilation from source to bytecode can be avoided). This “intermediate language” is said to run on a virtual machine that executes the machine code corresponding to each bytecode. \n",
    "        \n",
    "**environment variables**\n",
    "\n",
    "These environment variables influence Python’s behavior. E.g. PYTHONHOME variable can change location of standard Python libraries. PYTHONPATH can be used to augment the default search path for module files.\n",
    "\n",
    "**finder** \n",
    "\n",
    "An object that tries to find the loader for a module that is being imported. There are two types of finder: meta path finders for use with sys.meta_path, and path entry finders for use with sys.path_hooks.\n",
    "\n",
    "**import Path**\n",
    "\n",
    "A list of locations (or path entries) that are searched by the path based finder for modules to import. During import, this list of locations usually comes from sys.path, but for subpackages it may also come from the parent package’s \\__path\\__ attribute.\n",
    "\n",
    "**loader**\n",
    "\n",
    "An object that loads a module. It must define a method named load_module(). A loader is typically returned by a finder.\n",
    "\n",
    "**packages**\n",
    "\n",
    "A Python module which can contain submodules or recursively, subpackages. Technically, a package is a Python module with an __path__ attribute.\n",
    "\n",
    "A regular package, a directory containing an __init__.py file.A namespace package serves only as a container for subpackages. They may have no physical representation, and specifically are not like a regular package because they have no __init__.py file.\n",
    "\n",
    "**virtual machine**\n",
    "\n",
    "A computer defined entirely in software. Python’s virtual machine executes the bytecode emitted by the bytecode compiler.\n"
   ]
  },
  {
   "cell_type": "code",
   "execution_count": null,
   "metadata": {
    "collapsed": true
   },
   "outputs": [],
   "source": []
  }
 ],
 "metadata": {
  "anaconda-cloud": {},
  "kernelspec": {
   "display_name": "Python [default]",
   "language": "python",
   "name": "python3"
  },
  "language_info": {
   "codemirror_mode": {
    "name": "ipython",
    "version": 3
   },
   "file_extension": ".py",
   "mimetype": "text/x-python",
   "name": "python",
   "nbconvert_exporter": "python",
   "pygments_lexer": "ipython3",
   "version": "3.5.2"
  }
 },
 "nbformat": 4,
 "nbformat_minor": 1
}
