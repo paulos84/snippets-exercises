{
 "cells": [
  {
   "cell_type": "markdown",
   "metadata": {},
   "source": [
    "**Collections**"
   ]
  },
  {
   "cell_type": "code",
   "execution_count": 53,
   "metadata": {},
   "outputs": [
    {
     "name": "stdout",
     "output_type": "stream",
     "text": [
      "{\"Luke\": \"Red\", \"Paul\": \"Blue\", \"James\": \"Green\", \"John\": \"Yellow\"}\n"
     ]
    }
   ],
   "source": [
    "from collections import defaultdict, Counter, deque, namedtuple\n",
    "import json\n",
    "\n",
    "colors = (('Luke', 'Yellow'), ('Paul', 'Blue'), ('James', 'Green'),)\n",
    "\n",
    "# can pass in a sequence of tuples as well as a dict\n",
    "fav_colors = defaultdict(str, colors)\n",
    "\n",
    "fav_colors['Luke'] = 'Red'\n",
    "# no KeyError is raised\n",
    "fav_colors['John'] = 'Yellow'\n",
    "print(json.dumps(fav_colors))"
   ]
  },
  {
   "cell_type": "code",
   "execution_count": 41,
   "metadata": {},
   "outputs": [
    {
     "name": "stdout",
     "output_type": "stream",
     "text": [
      "{\"colours\": {\"favourite\": \"yellow\"}}\n"
     ]
    }
   ],
   "source": [
    "tree = lambda: defaultdict(tree)\n",
    "some_dict = tree()\n",
    "some_dict['colours']['favourite'] = \"yellow\"\n",
    "# json.dumps returns a JSON string representation of the Python object\n",
    "print(json.dumps(some_dict))"
   ]
  },
  {
   "cell_type": "code",
   "execution_count": 42,
   "metadata": {},
   "outputs": [
    {
     "data": {
      "text/plain": [
       "Counter({'a': 2, 'b': 3, 'c': 1})"
      ]
     },
     "execution_count": 42,
     "metadata": {},
     "output_type": "execute_result"
    }
   ],
   "source": [
    "Counter('abcbab') # a dict sub-class "
   ]
  },
  {
   "cell_type": "markdown",
   "metadata": {},
   "source": [
    "deque provides a queue allowing you to append and delete elements from either side. Values can be popped from either side and the number of items can be limited so that values may be popped rom either side:"
   ]
  },
  {
   "cell_type": "code",
   "execution_count": 43,
   "metadata": {},
   "outputs": [
    {
     "data": {
      "text/plain": [
       "([0, 5], deque([1, 2, 3, 4]))"
      ]
     },
     "execution_count": 43,
     "metadata": {},
     "output_type": "execute_result"
    }
   ],
   "source": [
    "d = deque(range(6))\n",
    "[d.popleft(), d.pop()], d"
   ]
  },
  {
   "cell_type": "code",
   "execution_count": 44,
   "metadata": {},
   "outputs": [
    {
     "data": {
      "text/plain": [
       "deque([1, 2, 3, 4, 5])"
      ]
     },
     "execution_count": 44,
     "metadata": {},
     "output_type": "execute_result"
    }
   ],
   "source": [
    "d = deque(range(5), maxlen=5)\n",
    "d.append(5)\n",
    "d"
   ]
  },
  {
   "cell_type": "markdown",
   "metadata": {},
   "source": [
    "namedtuple a gives a meaningful name to associate with the object in the tuple instead of only an index value."
   ]
  },
  {
   "cell_type": "code",
   "execution_count": 52,
   "metadata": {},
   "outputs": [
    {
     "name": "stdout",
     "output_type": "stream",
     "text": [
      "55 55\n"
     ]
    }
   ],
   "source": [
    "color = (55, 155, 255)\n",
    "Color = namedtuple('Color', ['red', 'green', 'blue'])\n",
    "named_color = Color(*color)\n",
    "print (color[0], named_color.red)"
   ]
  },
  {
   "cell_type": "markdown",
   "metadata": {},
   "source": [
    "**Copy operations**\n",
    "\n",
    "Assignment statements in Python do not copy objects, they create bindings between a target and an object. For collections that are mutable or contain mutable items, a copy is sometimes needed so one can change one copy without changing the other."
   ]
  },
  {
   "cell_type": "code",
   "execution_count": 65,
   "metadata": {},
   "outputs": [
    {
     "data": {
      "text/plain": [
       "[2, 2, 2]"
      ]
     },
     "execution_count": 65,
     "metadata": {},
     "output_type": "execute_result"
    }
   ],
   "source": [
    "d = [2, 2, 2]\n",
    "e = d[:]\n",
    "d[2] = 4\n",
    "e"
   ]
  },
  {
   "cell_type": "markdown",
   "metadata": {},
   "source": [
    "The difference between shallow and deep copying is only relevant for compound objects (contain other objects, like lists or class instances)"
   ]
  },
  {
   "cell_type": "code",
   "execution_count": 66,
   "metadata": {},
   "outputs": [
    {
     "data": {
      "text/plain": [
       "[[2, 2, 4], [2, 2, 2]]"
      ]
     },
     "execution_count": 66,
     "metadata": {},
     "output_type": "execute_result"
    }
   ],
   "source": [
    "import copy\n",
    "a = [[2, 2, 2], [2, 2, 2]]\n",
    "# shallow copy (could use copy.copy). Without the '[:]', 'b' would just point to the object that 'a' references\n",
    "b = a[:]\n",
    "c = copy.deepcopy(a)\n",
    "a[0][2] = 4\n",
    "b"
   ]
  },
  {
   "cell_type": "markdown",
   "metadata": {},
   "source": [
    "**Coroutines**\n",
    "\n",
    "Threads give Python programmers a way to run multiple functions seemingly at the same time but have a number of issues which coroutines can work around. Coroutines let you have many seemingly simultaneous functions in your Python programs. They’re implemented as an extension to generators. Coroutines work by enabling the code consuming a generator to send a value back into the generator function after each yield expression. \n",
    "\n",
    "The generator function receives the value passed to the send function as the result of the corresponding yield expression. The initial call to next is required to prepare the generator for receiving the first send by advancing it to the first yield expression. Together, yield and send provide generators with a standard way to vary their next yielded value in response to external input. E.g., to implement a generator coroutine that yields the minimum value it’s been sent so far. Here the bare yield prepares the coroutine with the initial minimum value sent in from the outside. Then the generator repeatedly yields the new minimum in exchange for the next value to consider."
   ]
  },
  {
   "cell_type": "code",
   "execution_count": 7,
   "metadata": {},
   "outputs": [
    {
     "data": {
      "text/plain": [
       "20"
      ]
     },
     "execution_count": 7,
     "metadata": {},
     "output_type": "execute_result"
    }
   ],
   "source": [
    "def minimize():\n",
    "    current = yield\n",
    "    while True:\n",
    "        value = yield current\n",
    "        current = min(value, current)\n",
    "\n",
    "it = minimize()\n",
    "next(it)\n",
    "it.send(20)\n",
    "it.send(40)\n",
    "it.send(30)"
   ]
  },
  {
   "cell_type": "code",
   "execution_count": 8,
   "metadata": {},
   "outputs": [
    {
     "data": {
      "text/plain": [
       "4"
      ]
     },
     "execution_count": 8,
     "metadata": {},
     "output_type": "execute_result"
    }
   ],
   "source": [
    "it.send(4)"
   ]
  },
  {
   "cell_type": "code",
   "execution_count": null,
   "metadata": {
    "collapsed": true
   },
   "outputs": [],
   "source": []
  },
  {
   "cell_type": "markdown",
   "metadata": {},
   "source": [
    "**Decorators**"
   ]
  },
  {
   "cell_type": "code",
   "execution_count": 63,
   "metadata": {
    "scrolled": true
   },
   "outputs": [
    {
     "name": "stdout",
     "output_type": "stream",
     "text": [
      "<function has_name at 0x0000024B17599B70> <function a_new_decorator.<locals>.wrapTheFunction at 0x0000024B175AE6A8>\n"
     ]
    }
   ],
   "source": [
    "def a_new_decorator(a_func):\n",
    "    def wrapTheFunction():\n",
    "        print(\"Before a_func()\")\n",
    "        a_func()\n",
    "        print(\"After a_func()\")\n",
    "    return wrapTheFunction\n",
    "\n",
    "def has_name():\n",
    "    pass\n",
    "\n",
    "@a_new_decorator\n",
    "def decorated():\n",
    "    pass\n",
    "print(has_name, decorated)"
   ]
  },
  {
   "cell_type": "markdown",
   "metadata": {},
   "source": [
    "The decorator overrode the name and docstring of the function. This is needed for debugging etc., so to solve this use functools.wraps. The following is a use-case of a decorator, similar to what might be used to protect a route in Flask where if authorization credentials are not contained within the request object a return redirect statement is executed."
   ]
  },
  {
   "cell_type": "code",
   "execution_count": 64,
   "metadata": {},
   "outputs": [
    {
     "name": "stdout",
     "output_type": "stream",
     "text": [
      "Function is running\n",
      "Function will not run\n"
     ]
    }
   ],
   "source": [
    "from functools import wraps\n",
    "def decorator_name(f):\n",
    "    @wraps(f)\n",
    "    def decorated(*args, **kwargs):\n",
    "        if not can_run:\n",
    "            return \"Function will not run\"\n",
    "        return f(*args, **kwargs)\n",
    "    return decorated\n",
    "\n",
    "@decorator_name\n",
    "def func():\n",
    "    return(\"Function is running\")\n",
    "\n",
    "can_run = True\n",
    "print(func())\n",
    "\n",
    "can_run = False\n",
    "print(func())"
   ]
  },
  {
   "cell_type": "markdown",
   "metadata": {},
   "source": [
    "**Duck-typing** is a concept that states that the type of the object is a matter of concern only at runtime, so that you don’t need to to explicitly mention the type of object performing an operation on it. E.g. an error is only raised for a function being called with unsupported objects if/when it is encountered."
   ]
  },
  {
   "cell_type": "code",
   "execution_count": null,
   "metadata": {
    "collapsed": true
   },
   "outputs": [],
   "source": []
  },
  {
   "cell_type": "code",
   "execution_count": null,
   "metadata": {
    "collapsed": true
   },
   "outputs": [],
   "source": []
  },
  {
   "cell_type": "markdown",
   "metadata": {},
   "source": [
    "**Factory Methods**\n",
    "We may not always know what kind of objects we want to create in advance.\n",
    "Some objects can be created only at execution time after a user requests so. Defer the instantiation of an object until runtime."
   ]
  },
  {
   "cell_type": "code",
   "execution_count": null,
   "metadata": {
    "collapsed": true
   },
   "outputs": [],
   "source": []
  },
  {
   "cell_type": "code",
   "execution_count": null,
   "metadata": {
    "collapsed": true
   },
   "outputs": [],
   "source": []
  },
  {
   "cell_type": "code",
   "execution_count": null,
   "metadata": {
    "collapsed": true
   },
   "outputs": [],
   "source": [
    "\n"
   ]
  },
  {
   "cell_type": "markdown",
   "metadata": {},
   "source": [
    "**Else clauses on loops**\n",
    "Think of the else as 'nobreak':"
   ]
  },
  {
   "cell_type": "code",
   "execution_count": null,
   "metadata": {
    "collapsed": true
   },
   "outputs": [],
   "source": [
    "mylist = [1,2,3]\n",
    "for i in mylist:\n",
    "    print(i)\n",
    "    if i == 3:\n",
    "        break\n",
    "else:\n",
    "    print('Reached StopIteration or broke out of loop')"
   ]
  },
  {
   "cell_type": "markdown",
   "metadata": {
    "collapsed": true
   },
   "source": [
    "**functools.partial**\n",
    "\n",
    "Partials have many uses, but they’re not always obvious. They allow arguments to be pre-filled before they're called in a function. If your function takes x and y, fill in the x beforehand and then call it later with just the y: "
   ]
  },
  {
   "cell_type": "code",
   "execution_count": 6,
   "metadata": {},
   "outputs": [
    {
     "data": {
      "text/plain": [
       "8"
      ]
     },
     "execution_count": 6,
     "metadata": {},
     "output_type": "execute_result"
    }
   ],
   "source": [
    "import functools \n",
    "\n",
    "def adder(x, y): \n",
    "  return x + y \n",
    "\n",
    "add_five = functools.partial(adder, y=5)\n",
    "add_five(3)"
   ]
  },
  {
   "cell_type": "code",
   "execution_count": null,
   "metadata": {
    "collapsed": true
   },
   "outputs": [],
   "source": []
  },
  {
   "cell_type": "code",
   "execution_count": null,
   "metadata": {
    "collapsed": true
   },
   "outputs": [],
   "source": []
  },
  {
   "cell_type": "code",
   "execution_count": null,
   "metadata": {
    "collapsed": true
   },
   "outputs": [],
   "source": [
    "**Factory Patterns**"
   ]
  },
  {
   "cell_type": "code",
   "execution_count": null,
   "metadata": {
    "collapsed": true
   },
   "outputs": [],
   "source": []
  },
  {
   "cell_type": "markdown",
   "metadata": {},
   "source": [
    "**Function caching**\n",
    "http://book.pythontips.com/en/latest/function_caching.html"
   ]
  },
  {
   "cell_type": "code",
   "execution_count": null,
   "metadata": {
    "collapsed": true
   },
   "outputs": [],
   "source": []
  },
  {
   "cell_type": "code",
   "execution_count": null,
   "metadata": {
    "collapsed": true
   },
   "outputs": [],
   "source": []
  },
  {
   "cell_type": "code",
   "execution_count": null,
   "metadata": {
    "collapsed": true
   },
   "outputs": [],
   "source": []
  },
  {
   "cell_type": "markdown",
   "metadata": {},
   "source": []
  },
  {
   "cell_type": "code",
   "execution_count": null,
   "metadata": {
    "collapsed": true
   },
   "outputs": [],
   "source": []
  },
  {
   "cell_type": "markdown",
   "metadata": {},
   "source": [
    "**Iterables and Iterators**\n",
    "An iterable is an object capable of returning its members one at a time. This includes all sequences types (e.g. str, list etc.), as well as non-sequence types which includes dict, file objects and objects of any class with an __iter__() method."
   ]
  },
  {
   "cell_type": "code",
   "execution_count": 4,
   "metadata": {},
   "outputs": [
    {
     "data": {
      "text/plain": [
       "[3, 4, 5]"
      ]
     },
     "execution_count": 4,
     "metadata": {},
     "output_type": "execute_result"
    }
   ],
   "source": [
    "class MyList(object):\n",
    "    def __init__(self, lst):\n",
    "        self.lst = lst\n",
    "    def __iter__(self):\n",
    "        return iter(self.lst)\n",
    "\n",
    "my_iterable = MyList([3,4,5])\n",
    "[i for i in my_iterable]"
   ]
  },
  {
   "cell_type": "markdown",
   "metadata": {},
   "source": [
    "An iterator is an object representing a stream of data.  A classic iterator will be defined using a class with \\__iter\\__ and \\__next\\__ methods: "
   ]
  },
  {
   "cell_type": "code",
   "execution_count": 33,
   "metadata": {},
   "outputs": [
    {
     "data": {
      "text/plain": [
       "4"
      ]
     },
     "execution_count": 33,
     "metadata": {},
     "output_type": "execute_result"
    }
   ],
   "source": [
    "class Reverser:\n",
    "    \n",
    "    def __init__(self, lst):\n",
    "        self.ind = 0\n",
    "        self.lst = lst\n",
    "        \n",
    "    def __iter__(self):\n",
    "        return self\n",
    "    \n",
    "    def __next__(self):\n",
    "        self.ind -= 1\n",
    "        try:\n",
    "            return self.lst[self.ind]\n",
    "        except IndexError:\n",
    "            raise StopIteration\n",
    "            \n",
    "r = Reverser([2,3,4])\n",
    "next(r)"
   ]
  },
  {
   "cell_type": "markdown",
   "metadata": {},
   "source": [
    "Repeated calls to the iterator’s \\__next\\__() method (or passing it to the built-in function next()) return successive items in the stream. When no more data are available a StopIteration exception is raised. Ways to create an iterative function include: generator expressions, create a generator function (defined using yield instead of return), or by defining a class with \\__iter\\__ and \\__next\\__ methods. \n",
    "\n",
    "An iterator can be created from a container object (e.g. a list) by passing it to the iter() function. Repeatedly calling the next() method gives a new element each time until a StopIterationor is reached."
   ]
  },
  {
   "cell_type": "code",
   "execution_count": 25,
   "metadata": {
    "scrolled": false
   },
   "outputs": [
    {
     "data": {
      "text/plain": [
       "1"
      ]
     },
     "execution_count": 25,
     "metadata": {},
     "output_type": "execute_result"
    }
   ],
   "source": [
    "x = iter([1, 2, 3])\n",
    "x.__next__()"
   ]
  },
  {
   "cell_type": "markdown",
   "metadata": {},
   "source": [
    "As iterators have an \\__iter\\__ method, they may be used in most places where other iterables are accepted and so iterated over in a for loop:"
   ]
  },
  {
   "cell_type": "code",
   "execution_count": 27,
   "metadata": {},
   "outputs": [
    {
     "data": {
      "text/plain": [
       "[2, 4, 6, 8]"
      ]
     },
     "execution_count": 27,
     "metadata": {},
     "output_type": "execute_result"
    }
   ],
   "source": [
    "def counter(low, high):\n",
    "    n = low\n",
    "    while n <= high:\n",
    "        yield n\n",
    "        n += 1\n",
    "counts = counter(2,8)\n",
    "[a for a in counts if a % 2 == 0]"
   ]
  },
  {
   "cell_type": "markdown",
   "metadata": {},
   "source": [
    "Attempting this with an iterator will just return the same exhausted iterator object used in the previous iteration pass, making it appear empty:"
   ]
  },
  {
   "cell_type": "code",
   "execution_count": 29,
   "metadata": {},
   "outputs": [
    {
     "data": {
      "text/plain": [
       "False"
      ]
     },
     "execution_count": 29,
     "metadata": {},
     "output_type": "execute_result"
    }
   ],
   "source": [
    "4 in counts"
   ]
  },
  {
   "cell_type": "markdown",
   "metadata": {},
   "source": []
  },
  {
   "cell_type": "code",
   "execution_count": null,
   "metadata": {
    "collapsed": true
   },
   "outputs": [],
   "source": []
  },
  {
   "cell_type": "markdown",
   "metadata": {},
   "source": [
    "**Iterators and Generators**\n",
    "\n",
    "Generators simplifies creation of iterators. A generator is a function that produces a sequence of results instead of a single value. Each time the yield statement is executed the function generates a new value.\n",
    "\n",
    "\n",
    "When a generator function is called, it returns a generator object without beginning execution of the function. A generator is also an iterator so you don’t have to worry about the iterator protocol. When next method is called for the first time, the function starts executing until it reaches yield statement. The yielded value is returned by the next() call."
   ]
  },
  {
   "cell_type": "code",
   "execution_count": 36,
   "metadata": {},
   "outputs": [
    {
     "data": {
      "text/plain": [
       "0"
      ]
     },
     "execution_count": 36,
     "metadata": {},
     "output_type": "execute_result"
    }
   ],
   "source": [
    "def my_range(n):\n",
    "    i = 0\n",
    "    while i < n:\n",
    "        yield i\n",
    "        i += 1\n",
    "m = my_range(10)\n",
    "# generator object is an iterator so don't need to call iter() on the iterable first\n",
    "next(m)"
   ]
  },
  {
   "cell_type": "code",
   "execution_count": null,
   "metadata": {
    "collapsed": true
   },
   "outputs": [],
   "source": [
    "**Generator Expressions**\n"
   ]
  },
  {
   "cell_type": "code",
   "execution_count": null,
   "metadata": {
    "collapsed": true
   },
   "outputs": [],
   "source": []
  }
 ],
 "metadata": {
  "anaconda-cloud": {},
  "kernelspec": {
   "display_name": "Python 3",
   "language": "python",
   "name": "python3"
  },
  "language_info": {
   "codemirror_mode": {
    "name": "ipython",
    "version": 3
   },
   "file_extension": ".py",
   "mimetype": "text/x-python",
   "name": "python",
   "nbconvert_exporter": "python",
   "pygments_lexer": "ipython3",
   "version": "3.6.3"
  }
 },
 "nbformat": 4,
 "nbformat_minor": 1
}
