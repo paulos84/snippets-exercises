{
 "cells": [
  {
   "cell_type": "code",
   "execution_count": null,
   "metadata": {
    "collapsed": true
   },
   "outputs": [],
   "source": []
  },
  {
   "cell_type": "markdown",
   "metadata": {},
   "source": [
    "**Collections**"
   ]
  },
  {
   "cell_type": "code",
   "execution_count": 13,
   "metadata": {
    "collapsed": false
   },
   "outputs": [
    {
     "name": "stdout",
     "output_type": "stream",
     "text": [
      "{\"James\": \"Green\", \"Luke\": \"Red\", \"John\": \"Yellow\", \"Paul\": \"Blue\"}\n"
     ]
    }
   ],
   "source": [
    "from collections import defaultdict, Counter, deque, namedtuple\n",
    "import json\n",
    "\n",
    "colors = (('Luke', 'Yellow'), ('Paul', 'Blue'), ('James', 'Green'),)\n",
    "\n",
    "# can pass in a sequence of tuples as well as a dict\n",
    "fav_colors = defaultdict(str, colors)\n",
    "\n",
    "fav_colors['Luke'] = 'Red'\n",
    "# no KeyError is raised\n",
    "fav_colors['John'] = 'Yellow'\n",
    "print(json.dumps(fav_colors))"
   ]
  },
  {
   "cell_type": "code",
   "execution_count": 14,
   "metadata": {
    "collapsed": false
   },
   "outputs": [
    {
     "name": "stdout",
     "output_type": "stream",
     "text": [
      "{\"colours\": {\"favourite\": \"yellow\"}}\n"
     ]
    }
   ],
   "source": [
    "tree = lambda: defaultdict(tree)\n",
    "some_dict = tree()\n",
    "some_dict['colours']['favourite'] = \"yellow\"\n",
    "# json.dumps returns a JSON string representation of the Python object\n",
    "print(json.dumps(some_dict))"
   ]
  },
  {
   "cell_type": "code",
   "execution_count": 15,
   "metadata": {
    "collapsed": false
   },
   "outputs": [
    {
     "data": {
      "text/plain": [
       "Counter({'a': 2, 'b': 3, 'c': 1})"
      ]
     },
     "execution_count": 15,
     "metadata": {},
     "output_type": "execute_result"
    }
   ],
   "source": [
    "Counter('abcbab') # a dict sub-class "
   ]
  },
  {
   "cell_type": "markdown",
   "metadata": {},
   "source": [
    "**deque** provides a queue allowing you to append and delete elements from either side. Values can be popped from either side and the number of items can be limited so that values may be popped rom either side:"
   ]
  },
  {
   "cell_type": "code",
   "execution_count": 16,
   "metadata": {
    "collapsed": false
   },
   "outputs": [
    {
     "data": {
      "text/plain": [
       "([0, 5], deque([1, 2, 3, 4]))"
      ]
     },
     "execution_count": 16,
     "metadata": {},
     "output_type": "execute_result"
    }
   ],
   "source": [
    "d = deque(range(6))\n",
    "[d.popleft(), d.pop()], d"
   ]
  },
  {
   "cell_type": "code",
   "execution_count": 17,
   "metadata": {
    "collapsed": false
   },
   "outputs": [
    {
     "data": {
      "text/plain": [
       "deque([1, 2, 3, 4, 5])"
      ]
     },
     "execution_count": 17,
     "metadata": {},
     "output_type": "execute_result"
    }
   ],
   "source": [
    "d = deque(range(5), maxlen=5)\n",
    "d.append(5)\n",
    "d"
   ]
  },
  {
   "cell_type": "markdown",
   "metadata": {},
   "source": [
    "**namedtuple** a gives a meaningful name to associate with the object in the tuple instead of only an index value."
   ]
  },
  {
   "cell_type": "code",
   "execution_count": 18,
   "metadata": {
    "collapsed": false
   },
   "outputs": [
    {
     "name": "stdout",
     "output_type": "stream",
     "text": [
      "55 55\n"
     ]
    }
   ],
   "source": [
    "color = (55, 155, 255)\n",
    "Color = namedtuple('Color', ['red', 'green', 'blue'])\n",
    "named_color = Color(*color)\n",
    "print (color[0], named_color.red)"
   ]
  },
  {
   "cell_type": "code",
   "execution_count": null,
   "metadata": {
    "collapsed": true
   },
   "outputs": [],
   "source": []
  },
  {
   "cell_type": "markdown",
   "metadata": {},
   "source": [
    "**Debugging and Profiling**"
   ]
  },
  {
   "cell_type": "markdown",
   "metadata": {},
   "source": [
    "**Timeit**\n",
    "This module provides a simple way to time small bits of Python code. It has both a Command-Line Interface as well as a callable one. For example:\n",
    "\n",
    "$ python3 -m timeit \"'-'.join([str(n) for n in range(100)])\"\n",
    "\n",
    "10000 loops, best of 3: 55.4 usec per loop"
   ]
  },
  {
   "cell_type": "code",
   "execution_count": 1,
   "metadata": {
    "collapsed": false
   },
   "outputs": [
    {
     "name": "stdout",
     "output_type": "stream",
     "text": [
      "4.296773656118973\n"
     ]
    }
   ],
   "source": [
    "def f(x):\n",
    "    return x**2\n",
    "def g(x):\n",
    "    return x**4\n",
    "def h(x):\n",
    "    return x**8\n",
    "\n",
    "import timeit\n",
    "print(timeit.timeit('[func(42) for func in (f,g,h)]', globals=globals()))"
   ]
  },
  {
   "cell_type": "code",
   "execution_count": null,
   "metadata": {
    "collapsed": true
   },
   "outputs": [],
   "source": []
  },
  {
   "cell_type": "markdown",
   "metadata": {},
   "source": [
    "**Development Tools**\n",
    "\n"
   ]
  },
  {
   "cell_type": "markdown",
   "metadata": {},
   "source": [
    "**unittest** \n",
    "\n",
    "The unittest module provides a rich set of tools for constructing and running tests.  It supports test automation, sharing of setup and shutdown code for tests, aggregation of tests into collections, and independence of the tests from the reporting framework. To achieve this, unittest supports some important concepts in an object-oriented way:\n",
    "\n",
    "Test fixture  represents the preparation needed to perform one or more tests, and any associate cleanup actions. This may involve, for example, creating temporary or proxy databases, directories, or starting a server process.\n",
    "test case\n",
    "\n",
    "A test case is the individual unit of testing. It checks for a specific response to a particular set of inputs. \n",
    "\n",
    "Test suite is a collection of test cases, test suites, or both. It is used to aggregate tests that should be executed together.\n",
    "\n",
    "Test runner is a component which orchestrates the execution of tests and provides the outcome to the user.\n",
    "\n",
    "Nose and py.test are third-party unittest frameworks with a lighter-weight syntax for writing tests. For example, assert func(10) == 42."
   ]
  },
  {
   "cell_type": "code",
   "execution_count": 20,
   "metadata": {
    "collapsed": false
   },
   "outputs": [],
   "source": [
    "import unittest\n",
    "\n",
    "class TestStringMethods(unittest.TestCase):\n",
    "\n",
    "    def test_upper(self):\n",
    "        self.assertEqual('foo'.upper(), 'FOO')\n",
    "\n",
    "    def test_isupper(self):\n",
    "        self.assertTrue('FOO'.isupper())\n",
    "        self.assertFalse('Foo'.isupper())\n",
    "\n",
    "    def test_split(self):\n",
    "        s = 'hello world'\n",
    "        self.assertEqual(s.split(), ['hello', 'world'])\n",
    "        # check that s.split fails when the separator is not a string\n",
    "        with self.assertRaises(TypeError):\n",
    "            s.split(2)\n",
    "\n",
    "if __name__ == '__main__':\n",
    "    unittest.main()"
   ]
  },
  {
   "cell_type": "markdown",
   "metadata": {},
   "source": [
    "Passing the -v option to your test script will instruct unittest.main() to enable a higher level of verbosity. The unittest module can be used from the command line to run tests from modules, classes or even individual test methods."
   ]
  },
  {
   "cell_type": "code",
   "execution_count": null,
   "metadata": {
    "collapsed": true
   },
   "outputs": [],
   "source": []
  },
  {
   "cell_type": "code",
   "execution_count": null,
   "metadata": {
    "collapsed": true
   },
   "outputs": [],
   "source": []
  },
  {
   "cell_type": "code",
   "execution_count": null,
   "metadata": {
    "collapsed": true
   },
   "outputs": [],
   "source": []
  },
  {
   "cell_type": "markdown",
   "metadata": {},
   "source": [
    "**Functools**\n",
    "\n",
    "**Function caching**\n",
    "\n",
    "Function caching allows us to cache the return values of a function depending on the arguments. It can save time when an I/O bound function is periodically called with the same arguments.The maxsize argument tells lru_cache about how many recent return values to cache:"
   ]
  },
  {
   "cell_type": "code",
   "execution_count": 9,
   "metadata": {
    "collapsed": false
   },
   "outputs": [
    {
     "name": "stdout",
     "output_type": "stream",
     "text": [
      "[0, 1, 1, 2, 3, 5, 8, 13, 21, 34]\n"
     ]
    }
   ],
   "source": [
    "from functools import lru_cache\n",
    "\n",
    "@lru_cache(maxsize=32)\n",
    "def fib(n):\n",
    "    if n < 2:\n",
    "        return n\n",
    "    return fib(n-1) + fib(n-2)\n",
    "\n",
    "print([fib(n) for n in range(10)])\n",
    "# uncache the return values\n",
    "fib.cache_clear()"
   ]
  },
  {
   "cell_type": "code",
   "execution_count": null,
   "metadata": {
    "collapsed": true
   },
   "outputs": [],
   "source": []
  },
  {
   "cell_type": "markdown",
   "metadata": {},
   "source": [
    "**Itertools**\n",
    "\n",
    "**itertools.chain**(\\*iterables) is used for treating consecutive sequences as a single sequence. Equivalent to:"
   ]
  },
  {
   "cell_type": "code",
   "execution_count": 6,
   "metadata": {
    "collapsed": false
   },
   "outputs": [
    {
     "data": {
      "text/plain": [
       "[2, 3, 4, 7, 8, 9]"
      ]
     },
     "execution_count": 6,
     "metadata": {},
     "output_type": "execute_result"
    }
   ],
   "source": [
    "def chain(*iterables):\n",
    "    # chain('ABC', 'DEF') --> A B C D E F\n",
    "    for it in iterables:\n",
    "        for element in it:\n",
    "            yield element\n",
    "            \n",
    "[i + 1 for i in chain([1,2,3], [6,7,8])]"
   ]
  },
  {
   "cell_type": "markdown",
   "metadata": {},
   "source": [
    "**itertools.islice**(iterable, start, stop[, step]) creates an iterator that iterates over an *existing* list, rather than normal slice which holds a copy of the slice in memory. So it avoids havings to use more memory or computation to create the new lists:"
   ]
  },
  {
   "cell_type": "code",
   "execution_count": 8,
   "metadata": {
    "collapsed": false
   },
   "outputs": [
    {
     "data": {
      "text/plain": [
       "<itertools.chain at 0x2189ba84048>"
      ]
     },
     "execution_count": 8,
     "metadata": {},
     "output_type": "execute_result"
    }
   ],
   "source": [
    "import itertools \n",
    "\n",
    "data1 = range(10)\n",
    "\n",
    "# This creates a NEW list\n",
    "data1[2:5]\n",
    "\n",
    "# This creates an iterator that iterates over the EXISTING list\n",
    "itertools.islice(data1, 2, 5)\n",
    "\n",
    "data2 = [1, 2, 3]\n",
    "data3 = [4, 5, 6]\n",
    "\n",
    "# This creates a NEW list\n",
    "data2 + data3\n",
    "\n",
    "# This creates an iterator that iterates over the EXISTING lists\n",
    "itertools.chain(data2, data3)"
   ]
  },
  {
   "cell_type": "code",
   "execution_count": null,
   "metadata": {
    "collapsed": true
   },
   "outputs": [],
   "source": []
  }
 ],
 "metadata": {
  "anaconda-cloud": {},
  "kernelspec": {
   "display_name": "Python [conda root]",
   "language": "python",
   "name": "conda-root-py"
  },
  "language_info": {
   "codemirror_mode": {
    "name": "ipython",
    "version": 3
   },
   "file_extension": ".py",
   "mimetype": "text/x-python",
   "name": "python",
   "nbconvert_exporter": "python",
   "pygments_lexer": "ipython3",
   "version": "3.5.2"
  }
 },
 "nbformat": 4,
 "nbformat_minor": 1
}
