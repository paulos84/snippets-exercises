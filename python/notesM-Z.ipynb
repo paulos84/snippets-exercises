{
 "cells": [
  {
   "cell_type": "markdown",
   "metadata": {},
   "source": [
    "**Metaclasses**\n",
    "\n",
    "![](images/metaclass.png)\n",
    "The class that defines the creation of a class. Class definitions create a class name, a class dictionary, and a list of base classes. The metaclass is responsible for taking those three arguments and creating the class. They let you intercept the class statement and provide special behaviour each time a class is defined. \n",
    "\n",
    "    >>> class Foobar:\n",
    "    ...     pass\n",
    "    ...\n",
    "    >>> type(Foobar)\n",
    "    <class 'type'>\n",
    "    >>> foo = Foobar()\n",
    "    >>> type(foo)\n",
    "    <class '__main__.Foobar'>\n",
    "\n",
    "The default metaclass is `type`. We can use type directly to make a class, without any class statement:"
   ]
  },
  {
   "cell_type": "code",
   "execution_count": 11,
   "metadata": {},
   "outputs": [
    {
     "data": {
      "text/plain": [
       "'bar'"
      ]
     },
     "execution_count": 11,
     "metadata": {},
     "output_type": "execute_result"
    }
   ],
   "source": [
    "# def __new__(meta, name, bases, class_dict):\n",
    "#   ...\n",
    "MyClass = type('Foo', (object,), {'foo': 'bar'})\n",
    "a = MyClass()\n",
    "a.foo"
   ]
  },
  {
   "cell_type": "markdown",
   "metadata": {},
   "source": [
    "A metaclass is defined by inheriting form type. In the default case, a metaclass receives the contents of associated class statetments in its `__new__` method. This method is responsible for creating a class instance. Here you can modify the class information before the type is actually constructed. The metaclass has access to the name of the class, parents it inherits form, and all of the class attributes defined in the body:"
   ]
  },
  {
   "cell_type": "code",
   "execution_count": 54,
   "metadata": {},
   "outputs": [
    {
     "name": "stdout",
     "output_type": "stream",
     "text": [
      "<class '__main__.Meta'> MyClass () {'foo': <function MyClass.foo at 0x0000016802A8E400>, '__qualname__': 'MyClass', '__module__': '__main__', 'stuff': 123}\n"
     ]
    }
   ],
   "source": [
    "class Meta(type):\n",
    "    def __new__(meta, name, bases, class_dict):\n",
    "        print(meta, name, bases, class_dict)\n",
    "        return type.__new__(meta, name, bases, class_dict)\n",
    "    \n",
    "class MyClass(metaclass=Meta):\n",
    "    stuff = 123\n",
    "    \n",
    "    def foo(self):\n",
    "        pass\n",
    "\n",
    "c = MyClass()"
   ]
  },
  {
   "cell_type": "markdown",
   "metadata": {},
   "source": [
    "A simple application of metaclasses is verifying that a class was defined correctly when you are building a complex class hierarchy. The `__new__` method of metaclasses is run after the class statement’s entire body has been processed.   Often a class's validation code runs in the `__init__` method; using metaclasses for validation can raise errors much earlier. \n",
    "\n",
    "Validation of a class's parameter can be achieved by adding functionality to the Meta.`__new__` method. In the following example, the abstract Polygon class (whose base class is object) is not validated, but all classes which inherit from it are:"
   ]
  },
  {
   "cell_type": "code",
   "execution_count": 64,
   "metadata": {},
   "outputs": [
    {
     "data": {
      "text/plain": [
       "90"
      ]
     },
     "execution_count": 64,
     "metadata": {},
     "output_type": "execute_result"
    }
   ],
   "source": [
    "class ValidatePolygon(type):\n",
    "    def __new__(meta, name, bases, class_dict):\n",
    "        # if not the abstract base class \n",
    "        if bases != (object,):\n",
    "            if class_dict[\"sides\"] < 3:\n",
    "                raise ValueError(\"Polygons need 3+ sides\")\n",
    "        return type.__new__(meta, name, bases, class_dict)\n",
    "\n",
    "class Polygon(object, metaclass=ValidatePolygon):\n",
    "    sides = None\n",
    "    \n",
    "    @classmethod\n",
    "    def interior_angles(cls):\n",
    "        return (cls.sides -2) * 90\n",
    "    \n",
    "class Triangle(Polygon):\n",
    "    sides = 3\n",
    "    \n",
    "Triangle.interior_angles()"
   ]
  },
  {
   "cell_type": "markdown",
   "metadata": {
    "collapsed": true
   },
   "source": [
    "**Method resolution order**\n",
    "When you have a hierarchy of classes, how does Python decide which method to use when  `MyClass.__mro__` will gives a tuple showing the order in which methods and attributes will be looked up:"
   ]
  },
  {
   "cell_type": "code",
   "execution_count": 13,
   "metadata": {},
   "outputs": [
    {
     "data": {
      "text/plain": [
       "(__main__.Labrador, __main__.Dog, __main__.Animal, object)"
      ]
     },
     "execution_count": 13,
     "metadata": {},
     "output_type": "execute_result"
    }
   ],
   "source": [
    "class Animal(object):\n",
    "    pass\n",
    "\n",
    "class Dog(Animal):\n",
    "    pass\n",
    "\n",
    "class Labrador(Dog):\n",
    "    pass\n",
    "\n",
    "Labrador.__mro__"
   ]
  },
  {
   "cell_type": "markdown",
   "metadata": {},
   "source": [
    "The MRO in action:"
   ]
  },
  {
   "cell_type": "code",
   "execution_count": 14,
   "metadata": {},
   "outputs": [
    {
     "name": "stdout",
     "output_type": "stream",
     "text": [
      "In C\n"
     ]
    }
   ],
   "source": [
    "class A(object):\n",
    "    def foo(self):\n",
    "        print('In A')\n",
    "\n",
    "class B(A):\n",
    "    pass\n",
    "\n",
    "class C(A):\n",
    "    def foo(self):\n",
    "        print('In C')\n",
    "        \n",
    "class D(B, C):\n",
    "    pass\n",
    "\n",
    "d = D()\n",
    "d.foo()"
   ]
  },
  {
   "cell_type": "markdown",
   "metadata": {},
   "source": [
    "**Mutable default arguments**\n",
    "\n",
    "In the following example, the list object has an empty list as a default value. This assignment is carried out only when the function definition is first evaluated. "
   ]
  },
  {
   "cell_type": "code",
   "execution_count": 13,
   "metadata": {
    "collapsed": true
   },
   "outputs": [],
   "source": [
    "def func1(item, lst=[]):\n",
    "    lst.append(item)\n",
    "    return lst\n",
    "\n",
    "def func2 (item, lst=None):\n",
    "    if lst is None: \n",
    "        lst = []\n",
    "    lst.append(item)\n",
    "    return lst"
   ]
  },
  {
   "cell_type": "markdown",
   "metadata": {},
   "source": [
    "This feature gives speed and memory boosts, as in most cases you will have immutable default arguments and Python can construct them just once, instead of on every function call. Another benefit is simplicity, as it is easier to understand how the expression is evaluated and thereby make debugging easier. To avoid this, the mutable objects used as defaults should be replaced by None, and then the arguments tested for None. Otherwise a new list is created each time the function is called if a second argument isn’t provided:"
   ]
  },
  {
   "cell_type": "code",
   "execution_count": 8,
   "metadata": {},
   "outputs": [
    {
     "data": {
      "text/plain": [
       "['a']"
      ]
     },
     "execution_count": 8,
     "metadata": {},
     "output_type": "execute_result"
    }
   ],
   "source": [
    "func1('a')"
   ]
  },
  {
   "cell_type": "code",
   "execution_count": 9,
   "metadata": {},
   "outputs": [
    {
     "data": {
      "text/plain": [
       "['a', 'b']"
      ]
     },
     "execution_count": 9,
     "metadata": {},
     "output_type": "execute_result"
    }
   ],
   "source": [
    "func1('b') # que?"
   ]
  },
  {
   "cell_type": "code",
   "execution_count": 11,
   "metadata": {},
   "outputs": [
    {
     "data": {
      "text/plain": [
       "['a']"
      ]
     },
     "execution_count": 11,
     "metadata": {},
     "output_type": "execute_result"
    }
   ],
   "source": [
    "func2('a')"
   ]
  },
  {
   "cell_type": "code",
   "execution_count": 13,
   "metadata": {
    "scrolled": true
   },
   "outputs": [
    {
     "data": {
      "text/plain": [
       "['b']"
      ]
     },
     "execution_count": 13,
     "metadata": {},
     "output_type": "execute_result"
    }
   ],
   "source": [
    "func2('b') "
   ]
  },
  {
   "cell_type": "markdown",
   "metadata": {},
   "source": [
    "**Nose and py.test** \n",
    "\n",
    "Third-party unittest frameworks with a lighter-weight syntax for writing tests. e.g:"
   ]
  },
  {
   "cell_type": "code",
   "execution_count": 7,
   "metadata": {},
   "outputs": [
    {
     "name": "stdout",
     "output_type": "stream",
     "text": [
      "Success: test_compress\n"
     ]
    }
   ],
   "source": [
    "import collections\n",
    "from nose.tools import assert_equal\n",
    "\n",
    "def compress_string(string):\n",
    "    if isinstance(string, str):\n",
    "        lst = []\n",
    "        rpts = {k:v for k,v in collections.Counter(string).items() if v > 2}\n",
    "        for i in string:\n",
    "            enc = i + str(rpts.get(i))\n",
    "            if i in rpts.keys() and enc not in lst:\n",
    "                lst.append(enc)\n",
    "            elif i not in rpts.keys():\n",
    "                lst.append(i)\n",
    "        return ''.join(lst)\n",
    "    return string\n",
    "\n",
    "class TestCompress:\n",
    "    def test_compress(self, func):\n",
    "        assert_equal(func(None), None)\n",
    "        assert_equal(func(''), '')\n",
    "        assert_equal(func('AABBCC'), 'AABBCC')\n",
    "        assert_equal(func('AAABCCDDDD'), 'A3BCCD4')\n",
    "        print('Success: test_compress')\n",
    "\n",
    "def main():\n",
    "    TestCompress().test_compress(compress_string)\n",
    "\n",
    "main()"
   ]
  },
  {
   "cell_type": "markdown",
   "metadata": {},
   "source": [
    "**Object attribute lookup**\n",
    "\n",
    "When you change a class variable from the instance, the value of the kind variable changes only for one instance. \n",
    "Instead of changing a class variable Python creates a new instance variable with the same name. Hence, the instance variables have precedence over class variables when searching for an attribute value:\n",
    "\n",
    "    >>> car = Vehicle('Toyota', 'Corolla')\n",
    "    >>> car2 = Vehicle('Honda', 'Civic')\n",
    "    >>> car.kind, car2.kind\n",
    "    ('car', 'car')\n",
    "    >>> car.kind = 'scrap'\n",
    "    >>> car.kind, car2.kind\n",
    "    ('scrap', 'car')\n",
    "\n",
    "Care needs to be taken when working with mutable class variables (e.g., list, dict). Unlike immutable types, you can change them from an instance. The rule of thumb here is to avoid class variables unless you have a reason to use them.\n",
    "\n",
    "Instance variables are stored as a regular dictionary. When working with attributes, you just changing a dictionary.\n",
    "We can access instance dictionary by calling `__dict__` dunder (magic) method. Class attribtues can also be accessed from an instance, using `__class__` dunder method (i.e., `car.__class__.__dict__`). Dictionaries of classes are a mappingproxy object.\n",
    "\n",
    "To fully understand lookup order you need be familiar with Descriptor Protocol. But basically, the are two types of descriptors: If an object defines both `__get__()` and `__set__()`, it is considered a data descriptor. Descriptors that only define `__get__()` are called non-data descriptors (they are typically used for methods but other uses are possible). Thus, because functions only implement `__get__`, they are called non-data descriptors.\n",
    "\n",
    "Python uses the following order for instance attribute lookups:\n",
    "\n",
    "    Data descriptors from class dictionary and its parents\n",
    "    Instance dictionary\n",
    "    Non-data descriptors from class dictionary and its parents\n",
    "\n",
    "Keep in mind, that no matter how many levels of inheritance you have there is always one instance dictionary which stores all instance variables."
   ]
  },
  {
   "cell_type": "markdown",
   "metadata": {},
   "source": [
    "Attribute lookup on the class of an instance is not an actually attribute access, it is a bit different and is to do with the MRO. The MRO is an attribute defined on the metaclass, it doesn't show up on the instance. Lookups on the class of an instance:\n",
    "\n",
    "    0. __getattribute__ on class\n",
    "    1. data descriptor on class\n",
    "    2. __dict__\n",
    "    3. non-data descriptor on class\n",
    "    4. simple value from the class\n",
    "    5. __getattr__ on class\n",
    "    6. raise AttributeError\n",
    "\n",
    "Creating a data descriptor through defining \\__get\\__ and \\__set\\__ allows you to control the access to the attribute.  If you do not define \\__set\\__ (so not a data descriptor) you are free to overide the attribute in the instance so you can put the attribute in \\__dict\\__ (of the instance) and you will get it back from the dict before the descriptor is checked."
   ]
  },
  {
   "cell_type": "code",
   "execution_count": 14,
   "metadata": {},
   "outputs": [
    {
     "data": {
      "text/plain": [
       "3"
      ]
     },
     "execution_count": 14,
     "metadata": {},
     "output_type": "execute_result"
    }
   ],
   "source": [
    "class D:\n",
    "    foo = 3\n",
    "    \n",
    "class E(D):\n",
    "    def __init__(self):\n",
    "        self.foo = 5\n",
    "        \n",
    "e = E()\n",
    "type(e).foo"
   ]
  },
  {
   "cell_type": "markdown",
   "metadata": {
    "collapsed": true
   },
   "source": [
    "**Polymorphism**\n",
    "\n",
    "Refers to the ability of an object to provide different behaviors (use different implementations) depending on its own nature. Specifically, depending on its position in the class hierarchy. Polymorphism is declaring a uniform interface that isn't type aware, leaving implementation details to concrete types that implement the interface. It allows the expression of some sort of contract, with potentially many types implementing that contract (whether through class inheritance or not) in different ways, each according to their own purpose. Code using that contract should not(*) have to care about which implementation is involved, only that the contract will be obeyed.\n",
    "\n",
    "Polymorphism can be achieved by *method overriding*,  when a method defined in a superclass or interface is re-defined by one of its subclasses, thus modifying/replacing the behavior the superclass provides. Notice the signature of the method remains the same when overriding. *Method overloading* is unrelated to polymorphism. It refers to defining different forms of a method. In this case the signature of the method is changed. "
   ]
  },
  {
   "cell_type": "markdown",
   "metadata": {
    "collapsed": true
   },
   "source": [
    "**Property decorator and the uniform access principle** \n",
    "\n",
    "Python code strives to adhere to the Uniform Access Principle; the are no truly 'protected' or 'private' attributes. Getters and setters are used in many object oriented programming languages to ensure the principle of data encapsulation (the bundling of data with the methods that operate on these data). The accepted approach in Python is to xxpose your instance variables directly, e.g. foo.x = 0, not foo.set_x(0), which preserves the access semantics. The main advantage to this approach is that the caller gets to do this: foo.x += 1 instead of the less-readable: foo.set_x(foo.get_x() + 1)\n",
    "\n",
    "Instance variables starting with a single underscore are conventionally private; not to be messed with directly. and they shouldn't mess with it directly. With double underscore, Python mangles the name but the variable is still accessible from outside.\n",
    "\n",
    "If you need to wrap the access variables assigned by methods use `@property`. Getter, setter and deleter methods enable you to set an attribute using a function. Getting access is the same and the setter method allows you to have functionality of normal class attribute assignment. You can start with the simplest implementation imaginable, and you are free to later migrate to a version which preserves the access semantics and so avoids having to change the interface.\n",
    "\n",
    "Specifying a `setter` on a property also lets you perform type checking and validation on values passed to the class. See the 'Validation of class attributes' section below for the difference between property decorators and descriptors for attribute validation."
   ]
  },
  {
   "cell_type": "code",
   "execution_count": 15,
   "metadata": {},
   "outputs": [],
   "source": [
    "class A(object):\n",
    "    _x = 0\n",
    "    '''A._x is an attribute'''\n",
    "\n",
    "    @property\n",
    "    def x(self):\n",
    "        '''\n",
    "        A.x is a property\n",
    "        This is the getter method\n",
    "        '''\n",
    "        return self._x\n",
    "\n",
    "    @x.setter\n",
    "    def x(self, value):\n",
    "        \"\"\"\n",
    "        This is the setter method\n",
    "        where I can check it's not assigned a value < 0\n",
    "        \"\"\"\n",
    "        if value < 0:\n",
    "            raise ValueError(\"Must be >= 0\")\n",
    "        self._x = value\n",
    "\n",
    "a = A()\n",
    "a._x = -1 \n",
    "a.x = 2\n",
    "# raises ValueError:\n",
    "# a.x = -1 "
   ]
  },
  {
   "cell_type": "code",
   "execution_count": 32,
   "metadata": {},
   "outputs": [
    {
     "data": {
      "text/plain": [
       "0.024"
      ]
     },
     "execution_count": 32,
     "metadata": {},
     "output_type": "execute_result"
    }
   ],
   "source": [
    "class Resistor(object):\n",
    "    def __init__(self, ohms):\n",
    "        self.ohms = ohms\n",
    "        self.voltage = 0\n",
    "        self.current = 0   \n",
    "\n",
    "        \n",
    "class VoltageResistor(Resistor):\n",
    "    \"\"\" Migrate to property decorator to allow current to be varied by assigning the voltage property \"\"\"\n",
    "    def __init__(self, ohms):\n",
    "        super().__init__(ohms)\n",
    "        self._voltage = 0\n",
    "        \n",
    "    @property \n",
    "    def voltage(self):\n",
    "        return self._voltage\n",
    "    \n",
    "    @voltage.setter\n",
    "    def voltage(self, voltage):\n",
    "        self._voltage = voltage\n",
    "        self.current = self._voltage / self.ohms\n",
    "        \n",
    "        \n",
    "class FixedResistor(Resistor):\n",
    "    \"\"\" Use @property to make attribtues from parent classes immutable \"\"\"\n",
    "    def __init__(self, ohms):\n",
    "        super().__init__(ohms)\n",
    "        self._ohms = ohms\n",
    "        \n",
    "    @property\n",
    "    def ohms(self):\n",
    "        return self._ohms\n",
    "    \n",
    "    @ohms.setter\n",
    "    def ohms(self, ohms):\n",
    "        if hasattr(self, 'ohms'):\n",
    "            raise AttributeError(\"Can't set attribute\")\n",
    "        self._ohms = ohms\n",
    "        \n",
    "r1 = Resistor(500)\n",
    "r2 = VoltageResistor(500)\n",
    "r3 = FixedResistor(500)\n",
    "\n",
    "# Immutable, would raise AttributeError:\n",
    "# r3.ohms = 5\n",
    "r2.voltage = 12\n",
    "r2.current"
   ]
  },
  {
   "cell_type": "markdown",
   "metadata": {
    "collapsed": true
   },
   "source": [
    "**Recursion**\n",
    "\n",
    "A function is recursive if it calls itself and has a termination condition. Why a termination condition? To stop the function from calling itself ad infinity. An example of recursion in English: “A human is someone whose mother is human”. Also, a tree diagram where each branch is like a new tree.\n",
    "\n",
    "The two key elements of a recursive algorithm are:\n",
    "\n",
    "The termination condition: n == 0\n",
    "The reduction step where the function calls itself with a smaller number each time: factorial(n - 1)"
   ]
  },
  {
   "cell_type": "code",
   "execution_count": 2,
   "metadata": {},
   "outputs": [
    {
     "name": "stderr",
     "output_type": "stream",
     "text": [
      "WARNING:root:3\n",
      "WARNING:root:2\n",
      "WARNING:root:1\n"
     ]
    },
    {
     "data": {
      "text/plain": [
       "6"
      ]
     },
     "execution_count": 2,
     "metadata": {},
     "output_type": "execute_result"
    }
   ],
   "source": [
    "import logging\n",
    "\n",
    "def factorial(n):\n",
    "    if n == 0:\n",
    "        return 1\n",
    "    else:\n",
    "        logging.warning(n)\n",
    "        return n * factorial(n - 1)\n",
    "\n",
    "factorial(3)"
   ]
  },
  {
   "cell_type": "markdown",
   "metadata": {},
   "source": [
    "**Scope and closures**\n",
    "\n",
    "One of the most fundamental paradigms of nearly all programming languages is the ability to store values in variables, and later retrieve or modify those values. In fact, the ability to store values and pull values out of variables is what gives a program state. \n",
    "\n",
    "But the inclusion of variables into our program begets the most interesting questions we will now address: where do those variables live? In other words, where are they stored? And, most importantly, how does our program find them when it needs them? These questions speak to the need for a well-defined set of rules for storing variables in some location, and for finding those variables at a later time. We'll call that set of rules: Scope.\n",
    "\n",
    "Python has *lexical scoping* whereby a variable may only be called or referenced from within the block of code in which it is defined. Whilst functions might be the basic unit of scope declaration, there are other blocks of code that define scopes, e.g. control flow and loop blocks. The same identifier name can be specified at multiple layers of nested scope, which is called “shadowing”. Regardless of shadowing, scope look-up always starts at the innermost scope being executed at the time, and works its way outward/upward until the first match, and stops.\n",
    "\n",
    "A closure function is any function that uses a variable that is defined in an environment (or scope) that is external to that function, and is accessible within the function when invoked from a scope in which that free variable is not defined. Closures in computer programming are generally useful as callback functions. Python provides support for closures via lexical scoping. Use-cases include lazy evaluation. \n",
    "\n",
    "![](images/closures.png)\n",
    "\n",
    "In the first example, `mult6` and `mult7` are function closures. They are functions because `make_multiplier` returns the function `multiply`. It is a closure because the returned function refers to the free variable factor. The factor variable is local in the scope of `make_multiplier`, but not in the scope of `multiply`. Since this variable is referenced by the returned function, Python knows it needs to store that variable along with the returned function, and not garbage-collect it once `make_multiplier` completes.\n",
    "\n",
    "Even if a variable named factor was defined in the calling scope, it has nothing to do with the factor variable in the closure.  In the second example, `main` is a function with a local variable named `factor`. The local `factor` and the closure `factor` have nothing to do with each other. For each instance of the `multiply` closure, factor is the one from the closure, so the results of invoking it are unchanged. In main, the `factor` variable is assigned *10* and not changed, so it is still *10* when printed at the end.\n",
    "\n",
    "In its nature, Python doesn’t have variable declaration semantics. A variable is “declared” when it’s name is bound to an object. Contrast with JavaScript e.g. `function myFunc(){var a; a = 2; alert(a)}`. One caveat is that it is an error to delete a name of a variable that is referenced in an enclosing scope.  If Python needs to be able to access factor when mult6 is invoked, it cannot have it deleted!"
   ]
  },
  {
   "cell_type": "markdown",
   "metadata": {},
   "source": [
    "**Strong-typing** You cannot coerce objects into a different type by any kind of inferring, as in weakly-typed languages. As so, the object type is more explicit.\n",
    "\n"
   ]
  },
  {
   "cell_type": "markdown",
   "metadata": {},
   "source": [
    "**`super()`**\n",
    "\n",
    "For simple inheritance, allows parent classes to be accessed through child classes without having to hardcode the name of the parent class.\n",
    "\n",
    "`super()` calls only one class `__init__`:"
   ]
  },
  {
   "cell_type": "code",
   "execution_count": 36,
   "metadata": {},
   "outputs": [
    {
     "name": "stdout",
     "output_type": "stream",
     "text": [
      "B\n"
     ]
    }
   ],
   "source": [
    "class A:\n",
    "    def __init__(self):\n",
    "        print(\"A\")\n",
    "\n",
    "class B:\n",
    "    def __init__(self):\n",
    "        print(\"B\")\n",
    "\n",
    "class C(B, A):\n",
    "    def __init__(self):\n",
    "        super().__init__() \n",
    "\n",
    "c=C() # n.b. is defined as class C(A, B) it would reach class A first and print \"A\""
   ]
  },
  {
   "cell_type": "markdown",
   "metadata": {},
   "source": [
    "Defining `super().__init__()` in all the classes will resolve the problem. In the following example, the `__init__` method of A is called first and then the `super()` function in A is called so it goes to class B and executes both print functions before printing \"A\":"
   ]
  },
  {
   "cell_type": "code",
   "execution_count": 38,
   "metadata": {},
   "outputs": [
    {
     "name": "stdout",
     "output_type": "stream",
     "text": [
      "reached A\n",
      "reached B\n",
      "B\n",
      "A\n"
     ]
    }
   ],
   "source": [
    "class A:\n",
    "    def __init__(self):\n",
    "        print(\"reached A\")\n",
    "        super().__init__()\n",
    "        print(\"A\")\n",
    "\n",
    "class B:\n",
    "    def __init__(self):\n",
    "        print(\"reached B\")\n",
    "        super().__init__()\n",
    "        print(\"B\")\n",
    "\n",
    "class C(A,B):\n",
    "    def __init__(self):\n",
    "        super().__init__() \n",
    "\n",
    "c=C()"
   ]
  },
  {
   "cell_type": "markdown",
   "metadata": {
    "collapsed": true
   },
   "source": [
    "**Validation of class attributes** \n",
    "\n",
    "This can be done using property decorators or with descriptors"
   ]
  },
  {
   "cell_type": "code",
   "execution_count": 43,
   "metadata": {},
   "outputs": [
    {
     "data": {
      "text/plain": [
       "8"
      ]
     },
     "execution_count": 43,
     "metadata": {},
     "output_type": "execute_result"
    }
   ],
   "source": [
    "class Rectangle:\n",
    "    def __init__(self, length, width):\n",
    "        self.length = length #if self._lenght is used, then it will not validate through setter. \n",
    "        self.width = width\n",
    "\n",
    "    @property\n",
    "    def area(self):\n",
    "        return self.length * self.width\n",
    "\n",
    "    def perimeter(self):\n",
    "        return 2 * (self.length + self.width)\n",
    "\n",
    "    @property\n",
    "    def length(self):\n",
    "        return self._length\n",
    "\n",
    "    @length.setter\n",
    "    def length(self, value):\n",
    "        if not isinstance(value, int): #validating length\n",
    "            raise TypeError(\"Only integers are allowed\")\n",
    "        self._length = value\n",
    "\n",
    "r = Rectangle(3,2)\n",
    "r.length = 4\n",
    "r.area"
   ]
  },
  {
   "cell_type": "markdown",
   "metadata": {},
   "source": [
    "We may also want to provide validation for multiple attributes (e.g. width as well as length). Descriptors would help  useful in this case:"
   ]
  },
  {
   "cell_type": "code",
   "execution_count": 51,
   "metadata": {},
   "outputs": [
    {
     "data": {
      "text/plain": [
       "2"
      ]
     },
     "execution_count": 51,
     "metadata": {},
     "output_type": "execute_result"
    }
   ],
   "source": [
    "class Integer: \n",
    "    def __init__(self, parameter):\n",
    "        self.parameter = parameter\n",
    "\n",
    "    def __get__(self, instance, owner):\n",
    "        if instance is None: \n",
    "            return self\n",
    "        else: \n",
    "            return instance.__dict__[self.parameter]\n",
    "\n",
    "    def __set__(self, instance, value):\n",
    "        if not isinstance(value, int):\n",
    "            raise TypeError(\"Interger value is expected\")\n",
    "        instance.__dict__[self.parameter] = value\n",
    "\n",
    "class Rect: \n",
    "    length = Integer('length')\n",
    "    width =  Integer('width')\n",
    "\n",
    "    def __init__(self, length, width):\n",
    "        self.length = length\n",
    "        self.width = width\n",
    "\n",
    "r = Rect(2, 1)\n",
    "r.length"
   ]
  },
  {
   "cell_type": "code",
   "execution_count": null,
   "metadata": {
    "collapsed": true
   },
   "outputs": [],
   "source": []
  }
 ],
 "metadata": {
  "anaconda-cloud": {},
  "kernelspec": {
   "display_name": "Python [default]",
   "language": "python",
   "name": "python3"
  },
  "language_info": {
   "codemirror_mode": {
    "name": "ipython",
    "version": 3
   },
   "file_extension": ".py",
   "mimetype": "text/x-python",
   "name": "python",
   "nbconvert_exporter": "python",
   "pygments_lexer": "ipython3",
   "version": "3.5.2"
  }
 },
 "nbformat": 4,
 "nbformat_minor": 1
}
