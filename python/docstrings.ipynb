{
 "cells": [
  {
   "cell_type": "markdown",
   "metadata": {},
   "source": [
    "Documentation in Python\tis important because its dynamic nature. There is an assumption that 'good code' means it has good documentation. A standard way of defining documentation makes it easy to build tools that convert the text into more appealing formats like HTML. Such tools include Sphinx (see below).\n",
    "\n",
    "Python\tprovides built-in support for attaching documentation to blocks\tof code and the documentation from a programs source code is directly accessible as it runs (e.g. using the `help` function). Docstrings can be attached to functions, classes and modules:"
   ]
  },
  {
   "cell_type": "code",
   "execution_count": 4,
   "metadata": {
    "collapsed": false
   },
   "outputs": [
    {
     "data": {
      "text/plain": [
       "'Return True if a given word is a palindrome'"
      ]
     },
     "execution_count": 4,
     "metadata": {},
     "output_type": "execute_result"
    }
   ],
   "source": [
    "def palindrome(word):\n",
    "    \"\"\"Return True if a given word is a palindrome\"\"\"\n",
    "    return word == word[::-1]\n",
    "\n",
    "palindrome.__doc__"
   ]
  },
  {
   "cell_type": "code",
   "execution_count": 11,
   "metadata": {
    "collapsed": false
   },
   "outputs": [],
   "source": [
    "def find_anagrams(word, dictionary):\n",
    "    \"\"\" Find all anagrams for a word...\n",
    "    \n",
    "    Args:\n",
    "        word: String of the target word\n",
    "        dictionary: Container with all strings known to be actual words \n",
    "        \n",
    "    Returns: \n",
    "        List of anagrams found. Empty is none are found\n",
    "    \"\"\""
   ]
  },
  {
   "cell_type": "markdown",
   "metadata": {},
   "source": [
    "**reStructuredText**\n",
    "\n",
    "http://docutils.sourceforge.net/docs/ref/rst/restructuredtext.html"
   ]
  },
  {
   "cell_type": "raw",
   "metadata": {},
   "source": [
    "A plaintext markup syntax and parser system. The primary goal of reStructuredText is to define and implement a markup syntax for use in Python docstrings and other documentation domains, that is readable (compared to e.g. HTML) and simple, yet powerful enough for non-trivial use. The intended purpose of the markup is the conversion of reStructuredText documents into useful structured data formats.\n",
    "\n",
    "\"Structured Text\" is probably a bit of a misnomer. It's more like \"Relaxed Text\" that uses certain consistent patterns. These patterns are interpreted by a HTML converter to produce \"Very Structured Text\" that can be used by a web browser. The most basic pattern recognised is a paragraph which is a chunk of text that is separated by blank lines. Paragraphs must have the same indentation. Paragraphs that start indented will result in indented quote paragraphs. For example:\n",
    "\n",
    "This is a paragraph.  It's quite\n",
    "short.\n",
    "\n",
    "   This paragraph will result in an indented block of\n",
    "   text, typically used for quoting other text.\n",
    "\n",
    "This is another one.\n",
    "\n",
    "Using inline markup, e.g. bold and italic text is similar to markdown, e.g. using asterixes and backslash for escaping."
   ]
  },
  {
   "cell_type": "markdown",
   "metadata": {},
   "source": [
    "    Bullet lists:\n",
    "\n",
    "    - This is a bullet list.\n",
    "\n",
    "    - Bullets can be \"*\", \"+\", or \"-\".\n",
    "\n",
    "    Enumerated lists:\n",
    "\n",
    "    1. This is an enumerated list.\n",
    "\n",
    "    2. Enumerators may be arabic numbers, letters, or roman\n",
    "       numerals.\n",
    "\n",
    "    Definition lists:\n",
    "\n",
    "    what\n",
    "        Definition lists associate a term with a definition.\n",
    "\n",
    "    how\n",
    "        The term is a one-line phrase, and the definition is one\n",
    "        or more paragraphs or body elements, indented relative to\n",
    "        the term.\n",
    "\n",
    "    Field lists:\n",
    "\n",
    "    :what: Field lists map field names to field bodies, like\n",
    "           database records.  They are often part of an extension\n",
    "           syntax.\n",
    "\n",
    "    :how: The field marker is a colon, the field name, and a\n",
    "          colon.\n",
    "\n",
    "          The field body may contain one or more body elements,\n",
    "          indented relative to the field marker.\n",
    "\n",
    "    Option lists, for listing command-line options:\n",
    "\n",
    "    -a            command-line option \"a\"\n",
    "    -b file       options can have arguments\n",
    "                  and long descriptions\n",
    "    --long        options can be long also\n",
    "\n",
    "    There must be at least two spaces between the option and the description.\n"
   ]
  },
  {
   "cell_type": "markdown",
   "metadata": {},
   "source": [
    "Preformatting (code samples)\n",
    "\n",
    "To just include a chunk of preformatted, never-to-be-fiddled-with text, finish the prior paragraph with \"::\". The preformatted block is finished when the text falls back to the same indentation level as a paragraph prior to the preformatted block.\n",
    "\n",
    "An example::\n",
    "\n",
    "    Whitespace, newlines, blank lines, and all kinds of markup\n",
    "      (like *this* or \\this) is preserved by literal blocks.\n",
    "\n",
    "no more example\n"
   ]
  },
  {
   "cell_type": "markdown",
   "metadata": {},
   "source": [
    "Two syntaxes for tables:\n",
    "\n",
    "    Grid tables; complete, but complex and verbose:\n",
    "\n",
    "    +------------------------+------------+----------+\n",
    "    | Header row, column 1   | Header 2   | Header 3 |\n",
    "    +========================+============+==========+\n",
    "    | body row 1, column 1   | column 2   | column 3 |\n",
    "    +------------------------+------------+----------+\n",
    "    | body row 2             | Cells may span        |\n",
    "    +------------------------+-----------------------+\n",
    "\n",
    "    Simple tables; easy and compact, but limited:\n",
    "\n",
    "    ====================  ==========  ==========\n",
    "    Header row, column 1  Header 2    Header 3\n",
    "    ====================  ==========  ==========\n",
    "    body row 1, column 1  column 2    column 3\n",
    "    body row 2            Cells may span columns\n",
    "    ====================  ======================\n",
    "\n",
    "Hyperlink targets:\n",
    "\n",
    "    .. _Python: http://www.python.org\n",
    "\n",
    "Use `Link text <https://domain.invalid/>`_ for inline web links. If the link text should be the web address, you don’t need special markup at all, the parser finds links and mail addresses in ordinary text.\n",
    "\n",
    "Internal links:\n",
    "\n",
    ".. _example:\n",
    "\n",
    "The \"_example\" target above points to this paragraph."
   ]
  },
  {
   "cell_type": "raw",
   "metadata": {},
   "source": [
    "Rather than imposing a fixed number and order of section title adornment styles, the order enforced will be the order as encountered. The first style encountered will be an outermost title (like HTML H1), the second style will be a subtitle, the third will be a subsubtitle, and so on. Below are examples of section title styles:\n",
    "\n",
    "===============\n",
    " Section Title\n",
    "===============\n",
    "\n",
    "---------------\n",
    " Section Title\n",
    "---------------\n",
    "\n",
    "Section Title\n",
    "============="
   ]
  },
  {
   "cell_type": "code",
   "execution_count": null,
   "metadata": {
    "collapsed": true
   },
   "outputs": [],
   "source": []
  },
  {
   "cell_type": "markdown",
   "metadata": {},
   "source": [
    "**Sphinx**\n",
    "\n",
    "http://www.sphinx-doc.org/en/master/usage/quickstart.html A tool that makes it easy to create documentation, many examples are hosted at readthedocs.org. Sphinx uses reStructuredText as its markup language, and many of its strengths come from the power and straightforwardness of reStructuredText and its parsing and translating suite, the Docutils. Sphinx cheatsheet: https://matplotlib.org/sampledoc/cheatsheet.html\n",
    "\n",
    "The root directory of a Sphinx collection of reStructuredText document sources is called the source directory. This directory also contains the Sphinx configuration file conf.py, where you can configure all aspects of how Sphinx reads your sources and builds your documentation. Sphinx comes with a script called sphinx-quickstart that sets up a source directory and creates a default conf.py with the most useful configuration values from a few questions it asks you.\n",
    "\n",
    "sphinx-quickstart creates a source directory with conf.py and a master document, index.rst. The main function of the master document is to serve as a welcome page, and to contain the root of the “table of contents tree” (or toctree). This is one of the main things that Sphinx adds to reStructuredText, a way to connect multiple files to a single hierarchy of documents.\n",
    "\n",
    "*Defining document structure*\n",
    "\n",
    "toctree is a reStructuredText directive, a very versatile piece of markup. Directives can have arguments, options and content. Arguments are given directly after the double colon following the directive’s name. Each directive decides whether it can have arguments, and how many. Options are given after the arguments, in form of a “field list”. The maxdepth is such an option for the toctree directive. Content follows the options or arguments after a blank line. Each directive decides whether to allow content, and what to do with it. A common gotcha with directives is that the first line of the content must be indented to the same level as the options are.\n",
    "\n",
    "    .. toctree::\n",
    "       :maxdepth: 2\n",
    "\n",
    "       usage/installation\n",
    "       usage/quickstart\n",
    "       ...\n",
    "       \n",
    "The documents to include are given as document names, which in short means that you leave off the file name extension and use forward slashes (/) as directory separators. You can now create the files you listed in the toctree and add content, and their section titles will be inserted (up to the maxdepth level) at the place where the toctree directive is placed.\n",
    "\n",
    "*Adding content*\n",
    "\n",
    "In Sphinx source files, you can use most features of standard reStructuredText. There are also several features such as certain markup added by Sphinx.\n",
    "\n",
    "*Running the build*\n",
    "\n",
    "sphinx-quickstart script creates a Makefile and a make.bat which make life even easier for you. These can be executed by running make with the name of the builder. For example.\n",
    "\n",
    "    $ make html\n",
    "\n",
    "This will build HTML docs in the build directory you chose. Execute make without an argument to see which targets are available.\n",
    "\n",
    "*Documenting objects*\n",
    "\n",
    "One of Sphinx’s main objectives is easy documentation of objects (in a very general sense) in any domain. A domain is a collection of object types that belong together, complete with markup to create and reference descriptions of these objects.\n",
    "\n",
    "The most prominent domain is the Python domain. For example, to document Python’s built-in function enumerate(), you would add this to one of your source files. \n",
    "\n",
    ".. function:: enumerate(sequence[, start=0])\n",
    "\n",
    "   Return an iterator that yields tuples of an index and an item of the\n",
    "   *sequence*. (And so on.)\n",
    "\n",
    "This is rendered like this:\n",
    "\n",
    "enumerate(sequence[, start=0])\n",
    "\n",
    "    Return an iterator that yields tuples of an index and an item of the sequence. (And so on.)\n",
    "\n",
    "The argument of the directive is the signature of the object you describe, the content is the documentation for it. There are several more directives for documenting other types of Python objects, for example py:class or py:method. n.b. Python is the default domain, so can omit the py: as in the example for enumerate above. There is also a cross-referencing role for each of these object types. This markup will create a link to the documentation of enumerate().\n",
    "\n",
    "*Intersphinx*\n",
    "\n",
    "Many Sphinx documents including the Python documentation are published on the internet. When you want to make links to such documents from your documentation, you can do it with sphinx.ext.intersphinx. In order to use intersphinx, you need to activate it in conf.py by putting the string 'sphinx.ext.intersphinx' into the extensions list and set up the intersphinx_mapping config value. For example, to link to io.open() in the Python library manual, you need to setup your intersphinx_mapping like:\n",
    "\n",
    "    intersphinx_mapping = {'python': ('https://docs.python.org/3', None)}\n",
    "\n",
    "And now, you can write a cross-reference like \n",
    "\n",
    "    :py:func:`io.open`. "
   ]
  },
  {
   "cell_type": "code",
   "execution_count": null,
   "metadata": {
    "collapsed": true
   },
   "outputs": [],
   "source": []
  },
  {
   "cell_type": "markdown",
   "metadata": {},
   "source": [
    "**Google style Python docstrings**"
   ]
  },
  {
   "cell_type": "raw",
   "metadata": {},
   "source": [
    ":param path: The path of the file to wrap\n",
    ":type path: str\n",
    ":param field_storage: The :class:`FileStorage` instance to wrap\n",
    ":type field_storage: FileStorage\n",
    ":param temporary: Whether or not to delete the file when the File\n",
    "   instance is destructed \n",
    ":type temporary: bool\n",
    ":returns: A buffered writable file descriptor\n",
    ":rtype: BufferedFileStorage"
   ]
  },
  {
   "cell_type": "raw",
   "metadata": {},
   "source": [
    "ReStructuredText is great, but it creates visually dense, hard to read docstrings. Compare the jumble above to the same thing rewritten according to the Google Python Style Guide:\n",
    "\n",
    "Args:\n",
    "    path (str): The path of the file to wrap\n",
    "    field_storage (FileStorage): The :class:`FileStorage` instance to wrap\n",
    "    temporary (bool): Whether or not to delete the file when the File\n",
    "       instance is destructed\n",
    "\n",
    "Returns:\n",
    "    BufferedFileStorage: A buffered writable file descriptor"
   ]
  },
  {
   "cell_type": "code",
   "execution_count": 1,
   "metadata": {
    "collapsed": true
   },
   "outputs": [],
   "source": [
    "class ExampleClass(object):\n",
    "    \"\"\"The summary line for a class docstring should fit on one line.\n",
    "\n",
    "    If the class has public attributes, they may be documented here\n",
    "    in an ``Attributes`` section and follow the same formatting as a\n",
    "    function's ``Args`` section. Alternatively, attributes may be documented\n",
    "    inline with the attribute's declaration (see __init__ method below).\n",
    "\n",
    "    Properties created with the ``@property`` decorator should be documented\n",
    "    in the property's getter method.\n",
    "\n",
    "    Attributes:\n",
    "        attr1 (str): Description of `attr1`.\n",
    "        attr2 (:obj:`int`, optional): Description of `attr2`.\n",
    "\n",
    "    \"\"\"\n",
    "\n",
    "    def __init__(self, param1, param2, param3):\n",
    "        \"\"\"Example of docstring on the __init__ method.\n",
    "\n",
    "        The __init__ method may be documented in either the class level\n",
    "        docstring, or as a docstring on the __init__ method itself.\n",
    "\n",
    "        Either form is acceptable, but the two should not be mixed. Choose one\n",
    "        convention to document the __init__ method and be consistent with it.\n",
    "\n",
    "        Note:\n",
    "            Do not include the `self` parameter in the ``Args`` section.\n",
    "\n",
    "        Args:\n",
    "            param1 (str): Description of `param1`.\n",
    "            param2 (:obj:`int`, optional): Description of `param2`. Multiple\n",
    "                lines are supported.\n",
    "            param3 (:obj:`list` of :obj:`str`): Description of `param3`.\n",
    "\n",
    "        \"\"\"\n",
    "        self.attr1 = param1\n",
    "        self.attr2 = param2\n",
    "        self.attr3 = param3  #: Doc comment *inline* with attribute\n",
    "\n",
    "        #: list of str: Doc comment *before* attribute, with type specified\n",
    "        self.attr4 = ['attr4']\n",
    "\n",
    "        self.attr5 = None\n",
    "        \"\"\"str: Docstring *after* attribute, with type specified.\"\"\"\n",
    "\n",
    "    @property\n",
    "    def readonly_property(self):\n",
    "        \"\"\"str: Properties should be documented in their getter method.\"\"\"\n",
    "        return 'readonly_property'\n",
    "\n",
    "    @property\n",
    "    def readwrite_property(self):\n",
    "        \"\"\":obj:`list` of :obj:`str`: Properties with both a getter and setter\n",
    "        should only be documented in their getter method.\n",
    "\n",
    "        If the setter method contains notable behavior, it should be\n",
    "        mentioned here.\n",
    "        \"\"\"\n",
    "        return ['readwrite_property']\n",
    "\n",
    "    @readwrite_property.setter\n",
    "    def readwrite_property(self, value):\n",
    "        value\n",
    "\n",
    "    def example_method(self, param1, param2):\n",
    "        \"\"\"Class methods are similar to regular functions.\n",
    "\n",
    "        Note:\n",
    "            Do not include the `self` parameter in the ``Args`` section.\n",
    "\n",
    "        Args:\n",
    "            param1: The first parameter.\n",
    "            param2: The second parameter.\n",
    "\n",
    "        Returns:\n",
    "            True if successful, False otherwise.\n",
    "\n",
    "        \"\"\"\n",
    "        return True\n",
    "\n",
    "    def __special__(self):\n",
    "        \"\"\"By default special members with docstrings are not included.\n",
    "\n",
    "        Special members are any methods or attributes that start with and\n",
    "        end with a double underscore. Any special member with a docstring\n",
    "        will be included in the output, if\n",
    "        ``napoleon_include_special_with_doc`` is set to True.\n",
    "\n",
    "        This behavior can be enabled by changing the following setting in\n",
    "        Sphinx's conf.py::\n",
    "\n",
    "            napoleon_include_special_with_doc = True\n",
    "\n",
    "        \"\"\"\n",
    "        pass\n",
    "\n",
    "    def __special_without_docstring__(self):\n",
    "        pass\n",
    "\n",
    "    def _private(self):\n",
    "        \"\"\"By default private members are not included.\n",
    "\n",
    "        Private members are any methods or attributes that start with an\n",
    "        underscore and are *not* special. By default they are not included\n",
    "        in the output.\n",
    "\n",
    "        This behavior can be changed such that private members *are* included\n",
    "        by changing the following setting in Sphinx's conf.py::\n",
    "\n",
    "            napoleon_include_private_with_doc = True\n",
    "\n",
    "        \"\"\"\n",
    "        pass\n",
    "\n",
    "    def _private_without_docstring(self):\n",
    "        pass"
   ]
  },
  {
   "cell_type": "code",
   "execution_count": 3,
   "metadata": {
    "collapsed": false
   },
   "outputs": [
    {
     "name": "stdout",
     "output_type": "stream",
     "text": [
      "Help on function _private in module __main__:\n",
      "\n",
      "_private(self)\n",
      "    By default private members are not included.\n",
      "    \n",
      "    Private members are any methods or attributes that start with an\n",
      "    underscore and are *not* special. By default they are not included\n",
      "    in the output.\n",
      "    \n",
      "    This behavior can be changed such that private members *are* included\n",
      "    by changing the following setting in Sphinx's conf.py::\n",
      "    \n",
      "        napoleon_include_private_with_doc = True\n",
      "\n"
     ]
    }
   ],
   "source": [
    "help(ExampleClass._private)"
   ]
  },
  {
   "cell_type": "code",
   "execution_count": null,
   "metadata": {
    "collapsed": true
   },
   "outputs": [],
   "source": []
  }
 ],
 "metadata": {
  "anaconda-cloud": {},
  "kernelspec": {
   "display_name": "Python [default]",
   "language": "python",
   "name": "python3"
  },
  "language_info": {
   "codemirror_mode": {
    "name": "ipython",
    "version": 3
   },
   "file_extension": ".py",
   "mimetype": "text/x-python",
   "name": "python",
   "nbconvert_exporter": "python",
   "pygments_lexer": "ipython3",
   "version": "3.5.2"
  }
 },
 "nbformat": 4,
 "nbformat_minor": 1
}
